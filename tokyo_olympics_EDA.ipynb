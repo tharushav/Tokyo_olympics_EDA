{
 "cells": [
  {
   "cell_type": "code",
   "execution_count": 145,
   "metadata": {},
   "outputs": [
    {
     "name": "stdout",
     "output_type": "stream",
     "text": [
      "Requirement already satisfied: plotly in ./.venv/lib/python3.13/site-packages (6.0.0)\n",
      "Requirement already satisfied: narwhals>=1.15.1 in ./.venv/lib/python3.13/site-packages (from plotly) (1.24.1)\n",
      "Requirement already satisfied: packaging in ./.venv/lib/python3.13/site-packages (from plotly) (24.2)\n",
      "Note: you may need to restart the kernel to use updated packages.\n"
     ]
    }
   ],
   "source": [
    "%pip install --upgrade plotly"
   ]
  },
  {
   "cell_type": "code",
   "execution_count": 146,
   "metadata": {},
   "outputs": [
    {
     "name": "stdout",
     "output_type": "stream",
     "text": [
      "Requirement already satisfied: pyspark in ./.venv/lib/python3.13/site-packages (3.5.4)\n",
      "Requirement already satisfied: py4j==0.10.9.7 in ./.venv/lib/python3.13/site-packages (from pyspark) (0.10.9.7)\n",
      "Note: you may need to restart the kernel to use updated packages.\n"
     ]
    }
   ],
   "source": [
    "# install pyspark\n",
    "%pip install pyspark"
   ]
  },
  {
   "cell_type": "code",
   "execution_count": 147,
   "metadata": {},
   "outputs": [],
   "source": [
    "# import pyspark\n",
    "import pyspark"
   ]
  },
  {
   "cell_type": "code",
   "execution_count": 148,
   "metadata": {},
   "outputs": [
    {
     "data": {
      "text/html": [
       "\n",
       "            <div>\n",
       "                <p><b>SparkSession - in-memory</b></p>\n",
       "                \n",
       "        <div>\n",
       "            <p><b>SparkContext</b></p>\n",
       "\n",
       "            <p><a href=\"http://192.168.1.3:4041\">Spark UI</a></p>\n",
       "\n",
       "            <dl>\n",
       "              <dt>Version</dt>\n",
       "                <dd><code>v3.5.4</code></dd>\n",
       "              <dt>Master</dt>\n",
       "                <dd><code>local[*]</code></dd>\n",
       "              <dt>AppName</dt>\n",
       "                <dd><code>pyspark-shell</code></dd>\n",
       "            </dl>\n",
       "        </div>\n",
       "        \n",
       "            </div>\n",
       "        "
      ],
      "text/plain": [
       "<pyspark.sql.session.SparkSession at 0x10b9f3230>"
      ]
     },
     "execution_count": 148,
     "metadata": {},
     "output_type": "execute_result"
    }
   ],
   "source": [
    "# get access to spark\n",
    "spark"
   ]
  },
  {
   "cell_type": "code",
   "execution_count": 149,
   "metadata": {},
   "outputs": [],
   "source": [
    "# Convert Excel files to csvs\n",
    "import pandas as pd\n"
   ]
  },
  {
   "cell_type": "code",
   "execution_count": 150,
   "metadata": {},
   "outputs": [
    {
     "name": "stderr",
     "output_type": "stream",
     "text": [
      "/Users/tharushavihanga/Developer/test_EDA/.venv/lib/python3.13/site-packages/openpyxl/styles/stylesheet.py:237: UserWarning:\n",
      "\n",
      "Workbook contains no default style, apply openpyxl's default\n",
      "\n",
      "/Users/tharushavihanga/Developer/test_EDA/.venv/lib/python3.13/site-packages/openpyxl/styles/stylesheet.py:237: UserWarning:\n",
      "\n",
      "Workbook contains no default style, apply openpyxl's default\n",
      "\n"
     ]
    }
   ],
   "source": [
    "# Convert Excel files to csvs\n",
    "import pandas as pd\n",
    "\n",
    "def excel_to_csv(name):\n",
    "  pd.read_excel(name + '.xlsx').to_csv(name + '.csv', sep=',', index=False)\n",
    "\n",
    "excel_to_csv('Athletes')\n",
    "excel_to_csv('Coaches')\n",
    "excel_to_csv('EntriesGender')\n",
    "excel_to_csv('Medals')\n",
    "excel_to_csv('Teams')\n"
   ]
  },
  {
   "cell_type": "code",
   "execution_count": 151,
   "metadata": {},
   "outputs": [],
   "source": [
    "# Read in Pandas dataframes\n",
    "athletes = pd.read_csv('Athletes.csv')\n",
    "coaches = pd.read_csv('Coaches.csv')\n",
    "entries_gender = pd.read_csv('EntriesGender.csv')\n",
    "medals = pd.read_csv('Medals.csv')\n",
    "teams = pd.read_csv('Teams.csv')"
   ]
  },
  {
   "cell_type": "code",
   "execution_count": 152,
   "metadata": {},
   "outputs": [
    {
     "data": {
      "text/html": [
       "<div>\n",
       "<style scoped>\n",
       "    .dataframe tbody tr th:only-of-type {\n",
       "        vertical-align: middle;\n",
       "    }\n",
       "\n",
       "    .dataframe tbody tr th {\n",
       "        vertical-align: top;\n",
       "    }\n",
       "\n",
       "    .dataframe thead th {\n",
       "        text-align: right;\n",
       "    }\n",
       "</style>\n",
       "<table border=\"1\" class=\"dataframe\">\n",
       "  <thead>\n",
       "    <tr style=\"text-align: right;\">\n",
       "      <th></th>\n",
       "      <th>Name</th>\n",
       "      <th>NOC</th>\n",
       "      <th>Discipline</th>\n",
       "    </tr>\n",
       "  </thead>\n",
       "  <tbody>\n",
       "    <tr>\n",
       "      <th>0</th>\n",
       "      <td>AALERUD Katrine</td>\n",
       "      <td>Norway</td>\n",
       "      <td>Cycling Road</td>\n",
       "    </tr>\n",
       "    <tr>\n",
       "      <th>1</th>\n",
       "      <td>ABAD Nestor</td>\n",
       "      <td>Spain</td>\n",
       "      <td>Artistic Gymnastics</td>\n",
       "    </tr>\n",
       "    <tr>\n",
       "      <th>2</th>\n",
       "      <td>ABAGNALE Giovanni</td>\n",
       "      <td>Italy</td>\n",
       "      <td>Rowing</td>\n",
       "    </tr>\n",
       "    <tr>\n",
       "      <th>3</th>\n",
       "      <td>ABALDE Alberto</td>\n",
       "      <td>Spain</td>\n",
       "      <td>Basketball</td>\n",
       "    </tr>\n",
       "    <tr>\n",
       "      <th>4</th>\n",
       "      <td>ABALDE Tamara</td>\n",
       "      <td>Spain</td>\n",
       "      <td>Basketball</td>\n",
       "    </tr>\n",
       "  </tbody>\n",
       "</table>\n",
       "</div>"
      ],
      "text/plain": [
       "                Name     NOC           Discipline\n",
       "0    AALERUD Katrine  Norway         Cycling Road\n",
       "1        ABAD Nestor   Spain  Artistic Gymnastics\n",
       "2  ABAGNALE Giovanni   Italy               Rowing\n",
       "3     ABALDE Alberto   Spain           Basketball\n",
       "4      ABALDE Tamara   Spain           Basketball"
      ]
     },
     "execution_count": 152,
     "metadata": {},
     "output_type": "execute_result"
    }
   ],
   "source": [
    "athletes.head()"
   ]
  },
  {
   "cell_type": "code",
   "execution_count": 153,
   "metadata": {},
   "outputs": [
    {
     "data": {
      "text/html": [
       "<div>\n",
       "<style scoped>\n",
       "    .dataframe tbody tr th:only-of-type {\n",
       "        vertical-align: middle;\n",
       "    }\n",
       "\n",
       "    .dataframe tbody tr th {\n",
       "        vertical-align: top;\n",
       "    }\n",
       "\n",
       "    .dataframe thead th {\n",
       "        text-align: right;\n",
       "    }\n",
       "</style>\n",
       "<table border=\"1\" class=\"dataframe\">\n",
       "  <thead>\n",
       "    <tr style=\"text-align: right;\">\n",
       "      <th></th>\n",
       "      <th>Rank</th>\n",
       "      <th>Team/NOC</th>\n",
       "      <th>Gold</th>\n",
       "      <th>Silver</th>\n",
       "      <th>Bronze</th>\n",
       "      <th>Total</th>\n",
       "      <th>Rank by Total</th>\n",
       "    </tr>\n",
       "  </thead>\n",
       "  <tbody>\n",
       "    <tr>\n",
       "      <th>0</th>\n",
       "      <td>1</td>\n",
       "      <td>United States of America</td>\n",
       "      <td>39</td>\n",
       "      <td>41</td>\n",
       "      <td>33</td>\n",
       "      <td>113</td>\n",
       "      <td>1</td>\n",
       "    </tr>\n",
       "    <tr>\n",
       "      <th>1</th>\n",
       "      <td>2</td>\n",
       "      <td>People's Republic of China</td>\n",
       "      <td>38</td>\n",
       "      <td>32</td>\n",
       "      <td>18</td>\n",
       "      <td>88</td>\n",
       "      <td>2</td>\n",
       "    </tr>\n",
       "    <tr>\n",
       "      <th>2</th>\n",
       "      <td>3</td>\n",
       "      <td>Japan</td>\n",
       "      <td>27</td>\n",
       "      <td>14</td>\n",
       "      <td>17</td>\n",
       "      <td>58</td>\n",
       "      <td>5</td>\n",
       "    </tr>\n",
       "    <tr>\n",
       "      <th>3</th>\n",
       "      <td>4</td>\n",
       "      <td>Great Britain</td>\n",
       "      <td>22</td>\n",
       "      <td>21</td>\n",
       "      <td>22</td>\n",
       "      <td>65</td>\n",
       "      <td>4</td>\n",
       "    </tr>\n",
       "    <tr>\n",
       "      <th>4</th>\n",
       "      <td>5</td>\n",
       "      <td>ROC</td>\n",
       "      <td>20</td>\n",
       "      <td>28</td>\n",
       "      <td>23</td>\n",
       "      <td>71</td>\n",
       "      <td>3</td>\n",
       "    </tr>\n",
       "  </tbody>\n",
       "</table>\n",
       "</div>"
      ],
      "text/plain": [
       "   Rank                    Team/NOC  Gold  Silver  Bronze  Total  \\\n",
       "0     1    United States of America    39      41      33    113   \n",
       "1     2  People's Republic of China    38      32      18     88   \n",
       "2     3                       Japan    27      14      17     58   \n",
       "3     4               Great Britain    22      21      22     65   \n",
       "4     5                         ROC    20      28      23     71   \n",
       "\n",
       "   Rank by Total  \n",
       "0              1  \n",
       "1              2  \n",
       "2              5  \n",
       "3              4  \n",
       "4              3  "
      ]
     },
     "execution_count": 153,
     "metadata": {},
     "output_type": "execute_result"
    }
   ],
   "source": [
    "medals.head()"
   ]
  },
  {
   "cell_type": "code",
   "execution_count": 154,
   "metadata": {},
   "outputs": [
    {
     "data": {
      "text/html": [
       "<div>\n",
       "<style scoped>\n",
       "    .dataframe tbody tr th:only-of-type {\n",
       "        vertical-align: middle;\n",
       "    }\n",
       "\n",
       "    .dataframe tbody tr th {\n",
       "        vertical-align: top;\n",
       "    }\n",
       "\n",
       "    .dataframe thead th {\n",
       "        text-align: right;\n",
       "    }\n",
       "</style>\n",
       "<table border=\"1\" class=\"dataframe\">\n",
       "  <thead>\n",
       "    <tr style=\"text-align: right;\">\n",
       "      <th></th>\n",
       "      <th>Rank</th>\n",
       "      <th>Team/NOC</th>\n",
       "      <th>Gold</th>\n",
       "      <th>Silver</th>\n",
       "      <th>Bronze</th>\n",
       "      <th>Total</th>\n",
       "      <th>Rank by Total</th>\n",
       "    </tr>\n",
       "  </thead>\n",
       "  <tbody>\n",
       "    <tr>\n",
       "      <th>0</th>\n",
       "      <td>1</td>\n",
       "      <td>United States of America</td>\n",
       "      <td>39</td>\n",
       "      <td>41</td>\n",
       "      <td>33</td>\n",
       "      <td>113</td>\n",
       "      <td>1</td>\n",
       "    </tr>\n",
       "    <tr>\n",
       "      <th>1</th>\n",
       "      <td>2</td>\n",
       "      <td>People's Republic of China</td>\n",
       "      <td>38</td>\n",
       "      <td>32</td>\n",
       "      <td>18</td>\n",
       "      <td>88</td>\n",
       "      <td>2</td>\n",
       "    </tr>\n",
       "    <tr>\n",
       "      <th>4</th>\n",
       "      <td>5</td>\n",
       "      <td>ROC</td>\n",
       "      <td>20</td>\n",
       "      <td>28</td>\n",
       "      <td>23</td>\n",
       "      <td>71</td>\n",
       "      <td>3</td>\n",
       "    </tr>\n",
       "    <tr>\n",
       "      <th>3</th>\n",
       "      <td>4</td>\n",
       "      <td>Great Britain</td>\n",
       "      <td>22</td>\n",
       "      <td>21</td>\n",
       "      <td>22</td>\n",
       "      <td>65</td>\n",
       "      <td>4</td>\n",
       "    </tr>\n",
       "    <tr>\n",
       "      <th>2</th>\n",
       "      <td>3</td>\n",
       "      <td>Japan</td>\n",
       "      <td>27</td>\n",
       "      <td>14</td>\n",
       "      <td>17</td>\n",
       "      <td>58</td>\n",
       "      <td>5</td>\n",
       "    </tr>\n",
       "  </tbody>\n",
       "</table>\n",
       "</div>"
      ],
      "text/plain": [
       "   Rank                    Team/NOC  Gold  Silver  Bronze  Total  \\\n",
       "0     1    United States of America    39      41      33    113   \n",
       "1     2  People's Republic of China    38      32      18     88   \n",
       "4     5                         ROC    20      28      23     71   \n",
       "3     4               Great Britain    22      21      22     65   \n",
       "2     3                       Japan    27      14      17     58   \n",
       "\n",
       "   Rank by Total  \n",
       "0              1  \n",
       "1              2  \n",
       "4              3  \n",
       "3              4  \n",
       "2              5  "
      ]
     },
     "execution_count": 154,
     "metadata": {},
     "output_type": "execute_result"
    }
   ],
   "source": [
    "medals.sort_values('Rank by Total', inplace=True)\n",
    "medals.head()"
   ]
  },
  {
   "cell_type": "code",
   "execution_count": 155,
   "metadata": {},
   "outputs": [],
   "source": [
    "import plotly.express as px"
   ]
  },
  {
   "cell_type": "code",
   "execution_count": 156,
   "metadata": {},
   "outputs": [
    {
     "data": {
      "application/vnd.plotly.v1+json": {
       "config": {
        "plotlyServerURL": "https://plot.ly"
       },
       "data": [
        {
         "hovertemplate": "variable=Gold<br>Team/NOC=%{x}<br>value=%{y}<extra></extra>",
         "legendgroup": "Gold",
         "marker": {
          "color": "Gold",
          "pattern": {
           "shape": ""
          }
         },
         "name": "Gold",
         "orientation": "v",
         "showlegend": true,
         "textposition": "auto",
         "type": "bar",
         "x": [
          "United States of America",
          "People's Republic of China",
          "ROC",
          "Great Britain",
          "Japan",
          "Australia",
          "Italy",
          "Germany",
          "Netherlands",
          "France",
          "Canada",
          "Brazil",
          "Republic of Korea",
          "Hungary",
          "New Zealand",
          "Ukraine",
          "Spain",
          "Cuba",
          "Poland",
          "Switzerland",
          "Turkey",
          "Chinese Taipei",
          "Czech Republic",
          "Denmark",
          "Kenya",
          "Jamaica",
          "Sweden",
          "Serbia",
          "Kazakhstan",
          "Georgia",
          "Croatia",
          "Norway",
          "Azerbaijan",
          "India",
          "Belarus",
          "Austria",
          "Islamic Republic of Iran",
          "Belgium",
          "Egypt",
          "Bulgaria",
          "Hong Kong, China",
          "Dominican Republic",
          "Slovenia",
          "Colombia",
          "Indonesia",
          "Uzbekistan",
          "Mongolia",
          "Armenia",
          "Portugal",
          "Ethiopia",
          "Mexico",
          "Venezuela",
          "Slovakia",
          "Philippines",
          "Greece",
          "Romania",
          "Uganda",
          "Ireland",
          "Israel",
          "South Africa",
          "Argentina",
          "Ecuador",
          "Kyrgyzstan",
          "Qatar",
          "San Marino",
          "Bahamas",
          "Finland",
          "Nigeria",
          "Malaysia",
          "Tunisia",
          "Estonia",
          "Jordan",
          "Latvia",
          "Thailand",
          "Fiji",
          "Kosovo",
          "Republic of Moldova",
          "Grenada",
          "Ghana",
          "Côte d'Ivoire",
          "Burkina Faso",
          "Botswana",
          "Kuwait",
          "Lithuania",
          "Namibia",
          "North Macedonia",
          "Puerto Rico",
          "Saudi Arabia",
          "Bahrain",
          "Bermuda",
          "Morocco",
          "Turkmenistan",
          "Syrian Arab Republic"
         ],
         "xaxis": "x",
         "y": {
          "bdata": "JyYUFhsRCgoKCgcHBgYHAQMHBAMCAgQDBAQDAwACAwQAAQEBAwMBAwEAAwABAwAAAQEAAQEBAgECAgIBAAIAAgACAAAAAQEAAQEBAgAAAAAAAAAAAAABAAABAQAA",
          "dtype": "i1"
         },
         "yaxis": "y"
        },
        {
         "hovertemplate": "variable=Silver<br>Team/NOC=%{x}<br>value=%{y}<extra></extra>",
         "legendgroup": "Silver",
         "marker": {
          "color": "Silver",
          "pattern": {
           "shape": ""
          }
         },
         "name": "Silver",
         "orientation": "v",
         "showlegend": true,
         "textposition": "auto",
         "type": "bar",
         "x": [
          "United States of America",
          "People's Republic of China",
          "ROC",
          "Great Britain",
          "Japan",
          "Australia",
          "Italy",
          "Germany",
          "Netherlands",
          "France",
          "Canada",
          "Brazil",
          "Republic of Korea",
          "Hungary",
          "New Zealand",
          "Ukraine",
          "Spain",
          "Cuba",
          "Poland",
          "Switzerland",
          "Turkey",
          "Chinese Taipei",
          "Czech Republic",
          "Denmark",
          "Kenya",
          "Jamaica",
          "Sweden",
          "Serbia",
          "Kazakhstan",
          "Georgia",
          "Croatia",
          "Norway",
          "Azerbaijan",
          "India",
          "Belarus",
          "Austria",
          "Islamic Republic of Iran",
          "Belgium",
          "Egypt",
          "Bulgaria",
          "Hong Kong, China",
          "Dominican Republic",
          "Slovenia",
          "Colombia",
          "Indonesia",
          "Uzbekistan",
          "Mongolia",
          "Armenia",
          "Portugal",
          "Ethiopia",
          "Mexico",
          "Venezuela",
          "Slovakia",
          "Philippines",
          "Greece",
          "Romania",
          "Uganda",
          "Ireland",
          "Israel",
          "South Africa",
          "Argentina",
          "Ecuador",
          "Kyrgyzstan",
          "Qatar",
          "San Marino",
          "Bahamas",
          "Finland",
          "Nigeria",
          "Malaysia",
          "Tunisia",
          "Estonia",
          "Jordan",
          "Latvia",
          "Thailand",
          "Fiji",
          "Kosovo",
          "Republic of Moldova",
          "Grenada",
          "Ghana",
          "Côte d'Ivoire",
          "Burkina Faso",
          "Botswana",
          "Kuwait",
          "Lithuania",
          "Namibia",
          "North Macedonia",
          "Puerto Rico",
          "Saudi Arabia",
          "Bahrain",
          "Bermuda",
          "Morocco",
          "Turkmenistan",
          "Syrian Arab Republic"
         ],
         "xaxis": "x",
         "y": {
          "bdata": "KSAcFQ4HCgsMDAYGBAcGBggDBQQCBAQEBAEGAQAFAwIDAgMBAgEBAQIDAQQBAAECAQEAAwICAQMBAAACAQECAAEAAAEBAQABAAAAAAAAAAAAAAABAQEAAQEAAAEA",
          "dtype": "i1"
         },
         "yaxis": "y"
        },
        {
         "hovertemplate": "variable=Bronze<br>Team/NOC=%{x}<br>value=%{y}<extra></extra>",
         "legendgroup": "Bronze",
         "marker": {
          "color": "Brown",
          "pattern": {
           "shape": ""
          }
         },
         "name": "Bronze",
         "orientation": "v",
         "showlegend": true,
         "textposition": "auto",
         "type": "bar",
         "x": [
          "United States of America",
          "People's Republic of China",
          "ROC",
          "Great Britain",
          "Japan",
          "Australia",
          "Italy",
          "Germany",
          "Netherlands",
          "France",
          "Canada",
          "Brazil",
          "Republic of Korea",
          "Hungary",
          "New Zealand",
          "Ukraine",
          "Spain",
          "Cuba",
          "Poland",
          "Switzerland",
          "Turkey",
          "Chinese Taipei",
          "Czech Republic",
          "Denmark",
          "Kenya",
          "Jamaica",
          "Sweden",
          "Serbia",
          "Kazakhstan",
          "Georgia",
          "Croatia",
          "Norway",
          "Azerbaijan",
          "India",
          "Belarus",
          "Austria",
          "Islamic Republic of Iran",
          "Belgium",
          "Egypt",
          "Bulgaria",
          "Hong Kong, China",
          "Dominican Republic",
          "Slovenia",
          "Colombia",
          "Indonesia",
          "Uzbekistan",
          "Mongolia",
          "Armenia",
          "Portugal",
          "Ethiopia",
          "Mexico",
          "Venezuela",
          "Slovakia",
          "Philippines",
          "Greece",
          "Romania",
          "Uganda",
          "Ireland",
          "Israel",
          "South Africa",
          "Argentina",
          "Ecuador",
          "Kyrgyzstan",
          "Qatar",
          "San Marino",
          "Bahamas",
          "Finland",
          "Nigeria",
          "Malaysia",
          "Tunisia",
          "Estonia",
          "Jordan",
          "Latvia",
          "Thailand",
          "Fiji",
          "Kosovo",
          "Republic of Moldova",
          "Grenada",
          "Ghana",
          "Côte d'Ivoire",
          "Burkina Faso",
          "Botswana",
          "Kuwait",
          "Lithuania",
          "Namibia",
          "North Macedonia",
          "Puerto Rico",
          "Saudi Arabia",
          "Bahrain",
          "Bermuda",
          "Morocco",
          "Turkmenistan",
          "Syrian Arab Republic"
         ],
         "xaxis": "x",
         "y": {
          "bdata": "IRIXFhEWFBAOCwsICgcHDAYFBQYJBgMEAgQABQgBAgIEBAMFAgMEAgMCAQEDAgMCAgIEAAEBAQABAgIAAgABAQIAAgEBAAEBAQEBAAEBAQEBAQEAAAAAAAAAAAAB",
          "dtype": "i1"
         },
         "yaxis": "y"
        }
       ],
       "layout": {
        "barmode": "relative",
        "legend": {
         "title": {
          "text": "variable"
         },
         "tracegroupgap": 0
        },
        "template": {
         "data": {
          "bar": [
           {
            "error_x": {
             "color": "#2a3f5f"
            },
            "error_y": {
             "color": "#2a3f5f"
            },
            "marker": {
             "line": {
              "color": "#E5ECF6",
              "width": 0.5
             },
             "pattern": {
              "fillmode": "overlay",
              "size": 10,
              "solidity": 0.2
             }
            },
            "type": "bar"
           }
          ],
          "barpolar": [
           {
            "marker": {
             "line": {
              "color": "#E5ECF6",
              "width": 0.5
             },
             "pattern": {
              "fillmode": "overlay",
              "size": 10,
              "solidity": 0.2
             }
            },
            "type": "barpolar"
           }
          ],
          "carpet": [
           {
            "aaxis": {
             "endlinecolor": "#2a3f5f",
             "gridcolor": "white",
             "linecolor": "white",
             "minorgridcolor": "white",
             "startlinecolor": "#2a3f5f"
            },
            "baxis": {
             "endlinecolor": "#2a3f5f",
             "gridcolor": "white",
             "linecolor": "white",
             "minorgridcolor": "white",
             "startlinecolor": "#2a3f5f"
            },
            "type": "carpet"
           }
          ],
          "choropleth": [
           {
            "colorbar": {
             "outlinewidth": 0,
             "ticks": ""
            },
            "type": "choropleth"
           }
          ],
          "contour": [
           {
            "colorbar": {
             "outlinewidth": 0,
             "ticks": ""
            },
            "colorscale": [
             [
              0,
              "#0d0887"
             ],
             [
              0.1111111111111111,
              "#46039f"
             ],
             [
              0.2222222222222222,
              "#7201a8"
             ],
             [
              0.3333333333333333,
              "#9c179e"
             ],
             [
              0.4444444444444444,
              "#bd3786"
             ],
             [
              0.5555555555555556,
              "#d8576b"
             ],
             [
              0.6666666666666666,
              "#ed7953"
             ],
             [
              0.7777777777777778,
              "#fb9f3a"
             ],
             [
              0.8888888888888888,
              "#fdca26"
             ],
             [
              1,
              "#f0f921"
             ]
            ],
            "type": "contour"
           }
          ],
          "contourcarpet": [
           {
            "colorbar": {
             "outlinewidth": 0,
             "ticks": ""
            },
            "type": "contourcarpet"
           }
          ],
          "heatmap": [
           {
            "colorbar": {
             "outlinewidth": 0,
             "ticks": ""
            },
            "colorscale": [
             [
              0,
              "#0d0887"
             ],
             [
              0.1111111111111111,
              "#46039f"
             ],
             [
              0.2222222222222222,
              "#7201a8"
             ],
             [
              0.3333333333333333,
              "#9c179e"
             ],
             [
              0.4444444444444444,
              "#bd3786"
             ],
             [
              0.5555555555555556,
              "#d8576b"
             ],
             [
              0.6666666666666666,
              "#ed7953"
             ],
             [
              0.7777777777777778,
              "#fb9f3a"
             ],
             [
              0.8888888888888888,
              "#fdca26"
             ],
             [
              1,
              "#f0f921"
             ]
            ],
            "type": "heatmap"
           }
          ],
          "histogram": [
           {
            "marker": {
             "pattern": {
              "fillmode": "overlay",
              "size": 10,
              "solidity": 0.2
             }
            },
            "type": "histogram"
           }
          ],
          "histogram2d": [
           {
            "colorbar": {
             "outlinewidth": 0,
             "ticks": ""
            },
            "colorscale": [
             [
              0,
              "#0d0887"
             ],
             [
              0.1111111111111111,
              "#46039f"
             ],
             [
              0.2222222222222222,
              "#7201a8"
             ],
             [
              0.3333333333333333,
              "#9c179e"
             ],
             [
              0.4444444444444444,
              "#bd3786"
             ],
             [
              0.5555555555555556,
              "#d8576b"
             ],
             [
              0.6666666666666666,
              "#ed7953"
             ],
             [
              0.7777777777777778,
              "#fb9f3a"
             ],
             [
              0.8888888888888888,
              "#fdca26"
             ],
             [
              1,
              "#f0f921"
             ]
            ],
            "type": "histogram2d"
           }
          ],
          "histogram2dcontour": [
           {
            "colorbar": {
             "outlinewidth": 0,
             "ticks": ""
            },
            "colorscale": [
             [
              0,
              "#0d0887"
             ],
             [
              0.1111111111111111,
              "#46039f"
             ],
             [
              0.2222222222222222,
              "#7201a8"
             ],
             [
              0.3333333333333333,
              "#9c179e"
             ],
             [
              0.4444444444444444,
              "#bd3786"
             ],
             [
              0.5555555555555556,
              "#d8576b"
             ],
             [
              0.6666666666666666,
              "#ed7953"
             ],
             [
              0.7777777777777778,
              "#fb9f3a"
             ],
             [
              0.8888888888888888,
              "#fdca26"
             ],
             [
              1,
              "#f0f921"
             ]
            ],
            "type": "histogram2dcontour"
           }
          ],
          "mesh3d": [
           {
            "colorbar": {
             "outlinewidth": 0,
             "ticks": ""
            },
            "type": "mesh3d"
           }
          ],
          "parcoords": [
           {
            "line": {
             "colorbar": {
              "outlinewidth": 0,
              "ticks": ""
             }
            },
            "type": "parcoords"
           }
          ],
          "pie": [
           {
            "automargin": true,
            "type": "pie"
           }
          ],
          "scatter": [
           {
            "fillpattern": {
             "fillmode": "overlay",
             "size": 10,
             "solidity": 0.2
            },
            "type": "scatter"
           }
          ],
          "scatter3d": [
           {
            "line": {
             "colorbar": {
              "outlinewidth": 0,
              "ticks": ""
             }
            },
            "marker": {
             "colorbar": {
              "outlinewidth": 0,
              "ticks": ""
             }
            },
            "type": "scatter3d"
           }
          ],
          "scattercarpet": [
           {
            "marker": {
             "colorbar": {
              "outlinewidth": 0,
              "ticks": ""
             }
            },
            "type": "scattercarpet"
           }
          ],
          "scattergeo": [
           {
            "marker": {
             "colorbar": {
              "outlinewidth": 0,
              "ticks": ""
             }
            },
            "type": "scattergeo"
           }
          ],
          "scattergl": [
           {
            "marker": {
             "colorbar": {
              "outlinewidth": 0,
              "ticks": ""
             }
            },
            "type": "scattergl"
           }
          ],
          "scattermap": [
           {
            "marker": {
             "colorbar": {
              "outlinewidth": 0,
              "ticks": ""
             }
            },
            "type": "scattermap"
           }
          ],
          "scattermapbox": [
           {
            "marker": {
             "colorbar": {
              "outlinewidth": 0,
              "ticks": ""
             }
            },
            "type": "scattermapbox"
           }
          ],
          "scatterpolar": [
           {
            "marker": {
             "colorbar": {
              "outlinewidth": 0,
              "ticks": ""
             }
            },
            "type": "scatterpolar"
           }
          ],
          "scatterpolargl": [
           {
            "marker": {
             "colorbar": {
              "outlinewidth": 0,
              "ticks": ""
             }
            },
            "type": "scatterpolargl"
           }
          ],
          "scatterternary": [
           {
            "marker": {
             "colorbar": {
              "outlinewidth": 0,
              "ticks": ""
             }
            },
            "type": "scatterternary"
           }
          ],
          "surface": [
           {
            "colorbar": {
             "outlinewidth": 0,
             "ticks": ""
            },
            "colorscale": [
             [
              0,
              "#0d0887"
             ],
             [
              0.1111111111111111,
              "#46039f"
             ],
             [
              0.2222222222222222,
              "#7201a8"
             ],
             [
              0.3333333333333333,
              "#9c179e"
             ],
             [
              0.4444444444444444,
              "#bd3786"
             ],
             [
              0.5555555555555556,
              "#d8576b"
             ],
             [
              0.6666666666666666,
              "#ed7953"
             ],
             [
              0.7777777777777778,
              "#fb9f3a"
             ],
             [
              0.8888888888888888,
              "#fdca26"
             ],
             [
              1,
              "#f0f921"
             ]
            ],
            "type": "surface"
           }
          ],
          "table": [
           {
            "cells": {
             "fill": {
              "color": "#EBF0F8"
             },
             "line": {
              "color": "white"
             }
            },
            "header": {
             "fill": {
              "color": "#C8D4E3"
             },
             "line": {
              "color": "white"
             }
            },
            "type": "table"
           }
          ]
         },
         "layout": {
          "annotationdefaults": {
           "arrowcolor": "#2a3f5f",
           "arrowhead": 0,
           "arrowwidth": 1
          },
          "autotypenumbers": "strict",
          "coloraxis": {
           "colorbar": {
            "outlinewidth": 0,
            "ticks": ""
           }
          },
          "colorscale": {
           "diverging": [
            [
             0,
             "#8e0152"
            ],
            [
             0.1,
             "#c51b7d"
            ],
            [
             0.2,
             "#de77ae"
            ],
            [
             0.3,
             "#f1b6da"
            ],
            [
             0.4,
             "#fde0ef"
            ],
            [
             0.5,
             "#f7f7f7"
            ],
            [
             0.6,
             "#e6f5d0"
            ],
            [
             0.7,
             "#b8e186"
            ],
            [
             0.8,
             "#7fbc41"
            ],
            [
             0.9,
             "#4d9221"
            ],
            [
             1,
             "#276419"
            ]
           ],
           "sequential": [
            [
             0,
             "#0d0887"
            ],
            [
             0.1111111111111111,
             "#46039f"
            ],
            [
             0.2222222222222222,
             "#7201a8"
            ],
            [
             0.3333333333333333,
             "#9c179e"
            ],
            [
             0.4444444444444444,
             "#bd3786"
            ],
            [
             0.5555555555555556,
             "#d8576b"
            ],
            [
             0.6666666666666666,
             "#ed7953"
            ],
            [
             0.7777777777777778,
             "#fb9f3a"
            ],
            [
             0.8888888888888888,
             "#fdca26"
            ],
            [
             1,
             "#f0f921"
            ]
           ],
           "sequentialminus": [
            [
             0,
             "#0d0887"
            ],
            [
             0.1111111111111111,
             "#46039f"
            ],
            [
             0.2222222222222222,
             "#7201a8"
            ],
            [
             0.3333333333333333,
             "#9c179e"
            ],
            [
             0.4444444444444444,
             "#bd3786"
            ],
            [
             0.5555555555555556,
             "#d8576b"
            ],
            [
             0.6666666666666666,
             "#ed7953"
            ],
            [
             0.7777777777777778,
             "#fb9f3a"
            ],
            [
             0.8888888888888888,
             "#fdca26"
            ],
            [
             1,
             "#f0f921"
            ]
           ]
          },
          "colorway": [
           "#636efa",
           "#EF553B",
           "#00cc96",
           "#ab63fa",
           "#FFA15A",
           "#19d3f3",
           "#FF6692",
           "#B6E880",
           "#FF97FF",
           "#FECB52"
          ],
          "font": {
           "color": "#2a3f5f"
          },
          "geo": {
           "bgcolor": "white",
           "lakecolor": "white",
           "landcolor": "#E5ECF6",
           "showlakes": true,
           "showland": true,
           "subunitcolor": "white"
          },
          "hoverlabel": {
           "align": "left"
          },
          "hovermode": "closest",
          "mapbox": {
           "style": "light"
          },
          "paper_bgcolor": "white",
          "plot_bgcolor": "#E5ECF6",
          "polar": {
           "angularaxis": {
            "gridcolor": "white",
            "linecolor": "white",
            "ticks": ""
           },
           "bgcolor": "#E5ECF6",
           "radialaxis": {
            "gridcolor": "white",
            "linecolor": "white",
            "ticks": ""
           }
          },
          "scene": {
           "xaxis": {
            "backgroundcolor": "#E5ECF6",
            "gridcolor": "white",
            "gridwidth": 2,
            "linecolor": "white",
            "showbackground": true,
            "ticks": "",
            "zerolinecolor": "white"
           },
           "yaxis": {
            "backgroundcolor": "#E5ECF6",
            "gridcolor": "white",
            "gridwidth": 2,
            "linecolor": "white",
            "showbackground": true,
            "ticks": "",
            "zerolinecolor": "white"
           },
           "zaxis": {
            "backgroundcolor": "#E5ECF6",
            "gridcolor": "white",
            "gridwidth": 2,
            "linecolor": "white",
            "showbackground": true,
            "ticks": "",
            "zerolinecolor": "white"
           }
          },
          "shapedefaults": {
           "line": {
            "color": "#2a3f5f"
           }
          },
          "ternary": {
           "aaxis": {
            "gridcolor": "white",
            "linecolor": "white",
            "ticks": ""
           },
           "baxis": {
            "gridcolor": "white",
            "linecolor": "white",
            "ticks": ""
           },
           "bgcolor": "#E5ECF6",
           "caxis": {
            "gridcolor": "white",
            "linecolor": "white",
            "ticks": ""
           }
          },
          "title": {
           "x": 0.05
          },
          "xaxis": {
           "automargin": true,
           "gridcolor": "white",
           "linecolor": "white",
           "ticks": "",
           "title": {
            "standoff": 15
           },
           "zerolinecolor": "white",
           "zerolinewidth": 2
          },
          "yaxis": {
           "automargin": true,
           "gridcolor": "white",
           "linecolor": "white",
           "ticks": "",
           "title": {
            "standoff": 15
           },
           "zerolinecolor": "white",
           "zerolinewidth": 2
          }
         }
        },
        "title": {
         "text": "Total Medals by Country"
        },
        "xaxis": {
         "anchor": "y",
         "domain": [
          0,
          1
         ],
         "title": {
          "text": "Team/NOC"
         }
        },
        "yaxis": {
         "anchor": "x",
         "domain": [
          0,
          1
         ],
         "title": {
          "text": "value"
         }
        }
       }
      }
     },
     "metadata": {},
     "output_type": "display_data"
    }
   ],
   "source": [
    "fig = px.bar(medals, x='Team/NOC', y=['Gold', 'Silver', 'Bronze'], title='Total Medals by Country',color_discrete_sequence=['Gold', 'Silver', 'Brown'])\n",
    "fig.show()"
   ]
  },
  {
   "cell_type": "code",
   "execution_count": 157,
   "metadata": {},
   "outputs": [
    {
     "data": {
      "text/html": [
       "<div>\n",
       "<style scoped>\n",
       "    .dataframe tbody tr th:only-of-type {\n",
       "        vertical-align: middle;\n",
       "    }\n",
       "\n",
       "    .dataframe tbody tr th {\n",
       "        vertical-align: top;\n",
       "    }\n",
       "\n",
       "    .dataframe thead th {\n",
       "        text-align: right;\n",
       "    }\n",
       "</style>\n",
       "<table border=\"1\" class=\"dataframe\">\n",
       "  <thead>\n",
       "    <tr style=\"text-align: right;\">\n",
       "      <th></th>\n",
       "      <th>Name</th>\n",
       "      <th>NOC</th>\n",
       "      <th>Discipline</th>\n",
       "      <th>Event</th>\n",
       "    </tr>\n",
       "  </thead>\n",
       "  <tbody>\n",
       "    <tr>\n",
       "      <th>0</th>\n",
       "      <td>ABDELMAGID Wael</td>\n",
       "      <td>Egypt</td>\n",
       "      <td>Football</td>\n",
       "      <td>NaN</td>\n",
       "    </tr>\n",
       "    <tr>\n",
       "      <th>1</th>\n",
       "      <td>ABE Junya</td>\n",
       "      <td>Japan</td>\n",
       "      <td>Volleyball</td>\n",
       "      <td>NaN</td>\n",
       "    </tr>\n",
       "    <tr>\n",
       "      <th>2</th>\n",
       "      <td>ABE Katsuhiko</td>\n",
       "      <td>Japan</td>\n",
       "      <td>Basketball</td>\n",
       "      <td>NaN</td>\n",
       "    </tr>\n",
       "    <tr>\n",
       "      <th>3</th>\n",
       "      <td>ADAMA Cherif</td>\n",
       "      <td>Côte d'Ivoire</td>\n",
       "      <td>Football</td>\n",
       "      <td>NaN</td>\n",
       "    </tr>\n",
       "    <tr>\n",
       "      <th>4</th>\n",
       "      <td>AGEBA Yuya</td>\n",
       "      <td>Japan</td>\n",
       "      <td>Volleyball</td>\n",
       "      <td>NaN</td>\n",
       "    </tr>\n",
       "    <tr>\n",
       "      <th>5</th>\n",
       "      <td>AIKMAN Siegfried Gottlieb</td>\n",
       "      <td>Japan</td>\n",
       "      <td>Hockey</td>\n",
       "      <td>Men</td>\n",
       "    </tr>\n",
       "    <tr>\n",
       "      <th>6</th>\n",
       "      <td>AL SAADI Kais</td>\n",
       "      <td>Germany</td>\n",
       "      <td>Hockey</td>\n",
       "      <td>Men</td>\n",
       "    </tr>\n",
       "    <tr>\n",
       "      <th>7</th>\n",
       "      <td>ALAMEDA Lonni</td>\n",
       "      <td>Canada</td>\n",
       "      <td>Baseball/Softball</td>\n",
       "      <td>Softball</td>\n",
       "    </tr>\n",
       "    <tr>\n",
       "      <th>8</th>\n",
       "      <td>ALEKNO Vladimir</td>\n",
       "      <td>Islamic Republic of Iran</td>\n",
       "      <td>Volleyball</td>\n",
       "      <td>Men</td>\n",
       "    </tr>\n",
       "    <tr>\n",
       "      <th>9</th>\n",
       "      <td>ALEKSEEV Alexey</td>\n",
       "      <td>ROC</td>\n",
       "      <td>Handball</td>\n",
       "      <td>Women</td>\n",
       "    </tr>\n",
       "  </tbody>\n",
       "</table>\n",
       "</div>"
      ],
      "text/plain": [
       "                        Name                       NOC         Discipline  \\\n",
       "0            ABDELMAGID Wael                     Egypt           Football   \n",
       "1                  ABE Junya                     Japan         Volleyball   \n",
       "2              ABE Katsuhiko                     Japan         Basketball   \n",
       "3               ADAMA Cherif             Côte d'Ivoire           Football   \n",
       "4                 AGEBA Yuya                     Japan         Volleyball   \n",
       "5  AIKMAN Siegfried Gottlieb                     Japan             Hockey   \n",
       "6              AL SAADI Kais                   Germany             Hockey   \n",
       "7              ALAMEDA Lonni                    Canada  Baseball/Softball   \n",
       "8            ALEKNO Vladimir  Islamic Republic of Iran         Volleyball   \n",
       "9            ALEKSEEV Alexey                       ROC           Handball   \n",
       "\n",
       "      Event  \n",
       "0       NaN  \n",
       "1       NaN  \n",
       "2       NaN  \n",
       "3       NaN  \n",
       "4       NaN  \n",
       "5       Men  \n",
       "6       Men  \n",
       "7  Softball  \n",
       "8       Men  \n",
       "9     Women  "
      ]
     },
     "execution_count": 157,
     "metadata": {},
     "output_type": "execute_result"
    }
   ],
   "source": [
    "coaches.head(10)"
   ]
  },
  {
   "cell_type": "code",
   "execution_count": 158,
   "metadata": {},
   "outputs": [
    {
     "name": "stdout",
     "output_type": "stream",
     "text": [
      "+---------------+-------------+----------+-----+\n",
      "|           Name|          NOC|Discipline|Event|\n",
      "+---------------+-------------+----------+-----+\n",
      "|ABDELMAGID Wael|        Egypt|  Football| NULL|\n",
      "|      ABE Junya|        Japan|Volleyball| NULL|\n",
      "|  ABE Katsuhiko|        Japan|Basketball| NULL|\n",
      "|   ADAMA Cherif|Côte d'Ivoire|  Football| NULL|\n",
      "|     AGEBA Yuya|        Japan|Volleyball| NULL|\n",
      "+---------------+-------------+----------+-----+\n",
      "only showing top 5 rows\n",
      "\n"
     ]
    }
   ],
   "source": [
    "spark.read.csv('Coaches.csv',header=True,inferSchema=True).createOrReplaceTempView('Coaches')\n",
    "spark.sql('Select * from Coaches').show(5)"
   ]
  },
  {
   "cell_type": "code",
   "execution_count": 159,
   "metadata": {},
   "outputs": [
    {
     "data": {
      "text/html": [
       "<div>\n",
       "<style scoped>\n",
       "    .dataframe tbody tr th:only-of-type {\n",
       "        vertical-align: middle;\n",
       "    }\n",
       "\n",
       "    .dataframe tbody tr th {\n",
       "        vertical-align: top;\n",
       "    }\n",
       "\n",
       "    .dataframe thead th {\n",
       "        text-align: right;\n",
       "    }\n",
       "</style>\n",
       "<table border=\"1\" class=\"dataframe\">\n",
       "  <thead>\n",
       "    <tr style=\"text-align: right;\">\n",
       "      <th></th>\n",
       "      <th>NOC</th>\n",
       "      <th>count</th>\n",
       "    </tr>\n",
       "  </thead>\n",
       "  <tbody>\n",
       "    <tr>\n",
       "      <th>0</th>\n",
       "      <td>Angola</td>\n",
       "      <td>1</td>\n",
       "    </tr>\n",
       "    <tr>\n",
       "      <th>1</th>\n",
       "      <td>Argentina</td>\n",
       "      <td>11</td>\n",
       "    </tr>\n",
       "    <tr>\n",
       "      <th>2</th>\n",
       "      <td>Australia</td>\n",
       "      <td>22</td>\n",
       "    </tr>\n",
       "    <tr>\n",
       "      <th>3</th>\n",
       "      <td>Austria</td>\n",
       "      <td>3</td>\n",
       "    </tr>\n",
       "    <tr>\n",
       "      <th>4</th>\n",
       "      <td>Bahrain</td>\n",
       "      <td>1</td>\n",
       "    </tr>\n",
       "  </tbody>\n",
       "</table>\n",
       "</div>"
      ],
      "text/plain": [
       "         NOC  count\n",
       "0     Angola      1\n",
       "1  Argentina     11\n",
       "2  Australia     22\n",
       "3    Austria      3\n",
       "4    Bahrain      1"
      ]
     },
     "execution_count": 159,
     "metadata": {},
     "output_type": "execute_result"
    }
   ],
   "source": [
    "# Run the Spark SQL query and collect results\n",
    "results = spark.sql('''\n",
    "  SELECT NOC, COUNT(NOC) AS count \n",
    "  FROM Coaches \n",
    "  GROUP BY NOC\n",
    "  ORDER BY NOC\n",
    "''').collect()\n",
    "\n",
    "# Convert to Pandas DataFrame\n",
    "pd_coaches_query = pd.DataFrame(\n",
    "  [(row['NOC'], row['count']) for row in results],\n",
    "  columns=['NOC', 'count']\n",
    ")\n",
    "\n",
    "pd_coaches_query.head()"
   ]
  },
  {
   "cell_type": "code",
   "execution_count": 160,
   "metadata": {},
   "outputs": [
    {
     "data": {
      "application/vnd.plotly.v1+json": {
       "config": {
        "plotlyServerURL": "https://plot.ly"
       },
       "data": [
        {
         "hovertemplate": "NOC=%{x}<br>count=%{marker.color}<extra></extra>",
         "legendgroup": "",
         "marker": {
          "color": {
           "bdata": "AQsWAwEBBQcBEAYCAQIFAgYMAgoJBwYBBAUDAgIOIwIFAQgCCggJAwwDAQMMBwICAgUBAwwcAwEBBBwKAg==",
           "dtype": "i1"
          },
          "coloraxis": "coloraxis",
          "pattern": {
           "shape": ""
          }
         },
         "name": "",
         "orientation": "v",
         "showlegend": false,
         "textposition": "auto",
         "type": "bar",
         "x": [
          "Angola",
          "Argentina",
          "Australia",
          "Austria",
          "Bahrain",
          "Belarus",
          "Belgium",
          "Brazil",
          "Cambodia",
          "Canada",
          "Chile",
          "Colombia",
          "Croatia",
          "Czech Republic",
          "Côte d'Ivoire",
          "Denmark",
          "Dominican Republic",
          "Egypt",
          "Fiji",
          "France",
          "Germany",
          "Great Britain",
          "Greece",
          "Honduras",
          "Hungary",
          "India",
          "Ireland",
          "Islamic Republic of Iran",
          "Israel",
          "Italy",
          "Japan",
          "Kazakhstan",
          "Kenya",
          "Liechtenstein",
          "Mexico",
          "Montenegro",
          "Netherlands",
          "New Zealand",
          "Nigeria",
          "Norway",
          "People's Republic of China",
          "Poland",
          "Portugal",
          "Puerto Rico",
          "ROC",
          "Republic of Korea",
          "Romania",
          "San Marino",
          "Saudi Arabia",
          "Serbia",
          "Slovakia",
          "Slovenia",
          "South Africa",
          "Spain",
          "Sweden",
          "Tunisia",
          "Turkey",
          "Ukraine",
          "United States of America",
          "Venezuela",
          "Zambia"
         ],
         "xaxis": "x",
         "y": {
          "bdata": "AQsWAwEBBQcBEAYCAQIFAgYMAgoJBwYBBAUDAgIOIwIFAQgCCggJAwwDAQMMBwICAgUBAwwcAwEBBBwKAg==",
          "dtype": "i1"
         },
         "yaxis": "y"
        }
       ],
       "layout": {
        "barmode": "relative",
        "coloraxis": {
         "colorbar": {
          "title": {
           "text": "count"
          }
         },
         "colorscale": [
          [
           0,
           "#0d0887"
          ],
          [
           0.1111111111111111,
           "#46039f"
          ],
          [
           0.2222222222222222,
           "#7201a8"
          ],
          [
           0.3333333333333333,
           "#9c179e"
          ],
          [
           0.4444444444444444,
           "#bd3786"
          ],
          [
           0.5555555555555556,
           "#d8576b"
          ],
          [
           0.6666666666666666,
           "#ed7953"
          ],
          [
           0.7777777777777778,
           "#fb9f3a"
          ],
          [
           0.8888888888888888,
           "#fdca26"
          ],
          [
           1,
           "#f0f921"
          ]
         ]
        },
        "legend": {
         "tracegroupgap": 0
        },
        "template": {
         "data": {
          "bar": [
           {
            "error_x": {
             "color": "#2a3f5f"
            },
            "error_y": {
             "color": "#2a3f5f"
            },
            "marker": {
             "line": {
              "color": "#E5ECF6",
              "width": 0.5
             },
             "pattern": {
              "fillmode": "overlay",
              "size": 10,
              "solidity": 0.2
             }
            },
            "type": "bar"
           }
          ],
          "barpolar": [
           {
            "marker": {
             "line": {
              "color": "#E5ECF6",
              "width": 0.5
             },
             "pattern": {
              "fillmode": "overlay",
              "size": 10,
              "solidity": 0.2
             }
            },
            "type": "barpolar"
           }
          ],
          "carpet": [
           {
            "aaxis": {
             "endlinecolor": "#2a3f5f",
             "gridcolor": "white",
             "linecolor": "white",
             "minorgridcolor": "white",
             "startlinecolor": "#2a3f5f"
            },
            "baxis": {
             "endlinecolor": "#2a3f5f",
             "gridcolor": "white",
             "linecolor": "white",
             "minorgridcolor": "white",
             "startlinecolor": "#2a3f5f"
            },
            "type": "carpet"
           }
          ],
          "choropleth": [
           {
            "colorbar": {
             "outlinewidth": 0,
             "ticks": ""
            },
            "type": "choropleth"
           }
          ],
          "contour": [
           {
            "colorbar": {
             "outlinewidth": 0,
             "ticks": ""
            },
            "colorscale": [
             [
              0,
              "#0d0887"
             ],
             [
              0.1111111111111111,
              "#46039f"
             ],
             [
              0.2222222222222222,
              "#7201a8"
             ],
             [
              0.3333333333333333,
              "#9c179e"
             ],
             [
              0.4444444444444444,
              "#bd3786"
             ],
             [
              0.5555555555555556,
              "#d8576b"
             ],
             [
              0.6666666666666666,
              "#ed7953"
             ],
             [
              0.7777777777777778,
              "#fb9f3a"
             ],
             [
              0.8888888888888888,
              "#fdca26"
             ],
             [
              1,
              "#f0f921"
             ]
            ],
            "type": "contour"
           }
          ],
          "contourcarpet": [
           {
            "colorbar": {
             "outlinewidth": 0,
             "ticks": ""
            },
            "type": "contourcarpet"
           }
          ],
          "heatmap": [
           {
            "colorbar": {
             "outlinewidth": 0,
             "ticks": ""
            },
            "colorscale": [
             [
              0,
              "#0d0887"
             ],
             [
              0.1111111111111111,
              "#46039f"
             ],
             [
              0.2222222222222222,
              "#7201a8"
             ],
             [
              0.3333333333333333,
              "#9c179e"
             ],
             [
              0.4444444444444444,
              "#bd3786"
             ],
             [
              0.5555555555555556,
              "#d8576b"
             ],
             [
              0.6666666666666666,
              "#ed7953"
             ],
             [
              0.7777777777777778,
              "#fb9f3a"
             ],
             [
              0.8888888888888888,
              "#fdca26"
             ],
             [
              1,
              "#f0f921"
             ]
            ],
            "type": "heatmap"
           }
          ],
          "histogram": [
           {
            "marker": {
             "pattern": {
              "fillmode": "overlay",
              "size": 10,
              "solidity": 0.2
             }
            },
            "type": "histogram"
           }
          ],
          "histogram2d": [
           {
            "colorbar": {
             "outlinewidth": 0,
             "ticks": ""
            },
            "colorscale": [
             [
              0,
              "#0d0887"
             ],
             [
              0.1111111111111111,
              "#46039f"
             ],
             [
              0.2222222222222222,
              "#7201a8"
             ],
             [
              0.3333333333333333,
              "#9c179e"
             ],
             [
              0.4444444444444444,
              "#bd3786"
             ],
             [
              0.5555555555555556,
              "#d8576b"
             ],
             [
              0.6666666666666666,
              "#ed7953"
             ],
             [
              0.7777777777777778,
              "#fb9f3a"
             ],
             [
              0.8888888888888888,
              "#fdca26"
             ],
             [
              1,
              "#f0f921"
             ]
            ],
            "type": "histogram2d"
           }
          ],
          "histogram2dcontour": [
           {
            "colorbar": {
             "outlinewidth": 0,
             "ticks": ""
            },
            "colorscale": [
             [
              0,
              "#0d0887"
             ],
             [
              0.1111111111111111,
              "#46039f"
             ],
             [
              0.2222222222222222,
              "#7201a8"
             ],
             [
              0.3333333333333333,
              "#9c179e"
             ],
             [
              0.4444444444444444,
              "#bd3786"
             ],
             [
              0.5555555555555556,
              "#d8576b"
             ],
             [
              0.6666666666666666,
              "#ed7953"
             ],
             [
              0.7777777777777778,
              "#fb9f3a"
             ],
             [
              0.8888888888888888,
              "#fdca26"
             ],
             [
              1,
              "#f0f921"
             ]
            ],
            "type": "histogram2dcontour"
           }
          ],
          "mesh3d": [
           {
            "colorbar": {
             "outlinewidth": 0,
             "ticks": ""
            },
            "type": "mesh3d"
           }
          ],
          "parcoords": [
           {
            "line": {
             "colorbar": {
              "outlinewidth": 0,
              "ticks": ""
             }
            },
            "type": "parcoords"
           }
          ],
          "pie": [
           {
            "automargin": true,
            "type": "pie"
           }
          ],
          "scatter": [
           {
            "fillpattern": {
             "fillmode": "overlay",
             "size": 10,
             "solidity": 0.2
            },
            "type": "scatter"
           }
          ],
          "scatter3d": [
           {
            "line": {
             "colorbar": {
              "outlinewidth": 0,
              "ticks": ""
             }
            },
            "marker": {
             "colorbar": {
              "outlinewidth": 0,
              "ticks": ""
             }
            },
            "type": "scatter3d"
           }
          ],
          "scattercarpet": [
           {
            "marker": {
             "colorbar": {
              "outlinewidth": 0,
              "ticks": ""
             }
            },
            "type": "scattercarpet"
           }
          ],
          "scattergeo": [
           {
            "marker": {
             "colorbar": {
              "outlinewidth": 0,
              "ticks": ""
             }
            },
            "type": "scattergeo"
           }
          ],
          "scattergl": [
           {
            "marker": {
             "colorbar": {
              "outlinewidth": 0,
              "ticks": ""
             }
            },
            "type": "scattergl"
           }
          ],
          "scattermap": [
           {
            "marker": {
             "colorbar": {
              "outlinewidth": 0,
              "ticks": ""
             }
            },
            "type": "scattermap"
           }
          ],
          "scattermapbox": [
           {
            "marker": {
             "colorbar": {
              "outlinewidth": 0,
              "ticks": ""
             }
            },
            "type": "scattermapbox"
           }
          ],
          "scatterpolar": [
           {
            "marker": {
             "colorbar": {
              "outlinewidth": 0,
              "ticks": ""
             }
            },
            "type": "scatterpolar"
           }
          ],
          "scatterpolargl": [
           {
            "marker": {
             "colorbar": {
              "outlinewidth": 0,
              "ticks": ""
             }
            },
            "type": "scatterpolargl"
           }
          ],
          "scatterternary": [
           {
            "marker": {
             "colorbar": {
              "outlinewidth": 0,
              "ticks": ""
             }
            },
            "type": "scatterternary"
           }
          ],
          "surface": [
           {
            "colorbar": {
             "outlinewidth": 0,
             "ticks": ""
            },
            "colorscale": [
             [
              0,
              "#0d0887"
             ],
             [
              0.1111111111111111,
              "#46039f"
             ],
             [
              0.2222222222222222,
              "#7201a8"
             ],
             [
              0.3333333333333333,
              "#9c179e"
             ],
             [
              0.4444444444444444,
              "#bd3786"
             ],
             [
              0.5555555555555556,
              "#d8576b"
             ],
             [
              0.6666666666666666,
              "#ed7953"
             ],
             [
              0.7777777777777778,
              "#fb9f3a"
             ],
             [
              0.8888888888888888,
              "#fdca26"
             ],
             [
              1,
              "#f0f921"
             ]
            ],
            "type": "surface"
           }
          ],
          "table": [
           {
            "cells": {
             "fill": {
              "color": "#EBF0F8"
             },
             "line": {
              "color": "white"
             }
            },
            "header": {
             "fill": {
              "color": "#C8D4E3"
             },
             "line": {
              "color": "white"
             }
            },
            "type": "table"
           }
          ]
         },
         "layout": {
          "annotationdefaults": {
           "arrowcolor": "#2a3f5f",
           "arrowhead": 0,
           "arrowwidth": 1
          },
          "autotypenumbers": "strict",
          "coloraxis": {
           "colorbar": {
            "outlinewidth": 0,
            "ticks": ""
           }
          },
          "colorscale": {
           "diverging": [
            [
             0,
             "#8e0152"
            ],
            [
             0.1,
             "#c51b7d"
            ],
            [
             0.2,
             "#de77ae"
            ],
            [
             0.3,
             "#f1b6da"
            ],
            [
             0.4,
             "#fde0ef"
            ],
            [
             0.5,
             "#f7f7f7"
            ],
            [
             0.6,
             "#e6f5d0"
            ],
            [
             0.7,
             "#b8e186"
            ],
            [
             0.8,
             "#7fbc41"
            ],
            [
             0.9,
             "#4d9221"
            ],
            [
             1,
             "#276419"
            ]
           ],
           "sequential": [
            [
             0,
             "#0d0887"
            ],
            [
             0.1111111111111111,
             "#46039f"
            ],
            [
             0.2222222222222222,
             "#7201a8"
            ],
            [
             0.3333333333333333,
             "#9c179e"
            ],
            [
             0.4444444444444444,
             "#bd3786"
            ],
            [
             0.5555555555555556,
             "#d8576b"
            ],
            [
             0.6666666666666666,
             "#ed7953"
            ],
            [
             0.7777777777777778,
             "#fb9f3a"
            ],
            [
             0.8888888888888888,
             "#fdca26"
            ],
            [
             1,
             "#f0f921"
            ]
           ],
           "sequentialminus": [
            [
             0,
             "#0d0887"
            ],
            [
             0.1111111111111111,
             "#46039f"
            ],
            [
             0.2222222222222222,
             "#7201a8"
            ],
            [
             0.3333333333333333,
             "#9c179e"
            ],
            [
             0.4444444444444444,
             "#bd3786"
            ],
            [
             0.5555555555555556,
             "#d8576b"
            ],
            [
             0.6666666666666666,
             "#ed7953"
            ],
            [
             0.7777777777777778,
             "#fb9f3a"
            ],
            [
             0.8888888888888888,
             "#fdca26"
            ],
            [
             1,
             "#f0f921"
            ]
           ]
          },
          "colorway": [
           "#636efa",
           "#EF553B",
           "#00cc96",
           "#ab63fa",
           "#FFA15A",
           "#19d3f3",
           "#FF6692",
           "#B6E880",
           "#FF97FF",
           "#FECB52"
          ],
          "font": {
           "color": "#2a3f5f"
          },
          "geo": {
           "bgcolor": "white",
           "lakecolor": "white",
           "landcolor": "#E5ECF6",
           "showlakes": true,
           "showland": true,
           "subunitcolor": "white"
          },
          "hoverlabel": {
           "align": "left"
          },
          "hovermode": "closest",
          "mapbox": {
           "style": "light"
          },
          "paper_bgcolor": "white",
          "plot_bgcolor": "#E5ECF6",
          "polar": {
           "angularaxis": {
            "gridcolor": "white",
            "linecolor": "white",
            "ticks": ""
           },
           "bgcolor": "#E5ECF6",
           "radialaxis": {
            "gridcolor": "white",
            "linecolor": "white",
            "ticks": ""
           }
          },
          "scene": {
           "xaxis": {
            "backgroundcolor": "#E5ECF6",
            "gridcolor": "white",
            "gridwidth": 2,
            "linecolor": "white",
            "showbackground": true,
            "ticks": "",
            "zerolinecolor": "white"
           },
           "yaxis": {
            "backgroundcolor": "#E5ECF6",
            "gridcolor": "white",
            "gridwidth": 2,
            "linecolor": "white",
            "showbackground": true,
            "ticks": "",
            "zerolinecolor": "white"
           },
           "zaxis": {
            "backgroundcolor": "#E5ECF6",
            "gridcolor": "white",
            "gridwidth": 2,
            "linecolor": "white",
            "showbackground": true,
            "ticks": "",
            "zerolinecolor": "white"
           }
          },
          "shapedefaults": {
           "line": {
            "color": "#2a3f5f"
           }
          },
          "ternary": {
           "aaxis": {
            "gridcolor": "white",
            "linecolor": "white",
            "ticks": ""
           },
           "baxis": {
            "gridcolor": "white",
            "linecolor": "white",
            "ticks": ""
           },
           "bgcolor": "#E5ECF6",
           "caxis": {
            "gridcolor": "white",
            "linecolor": "white",
            "ticks": ""
           }
          },
          "title": {
           "x": 0.05
          },
          "xaxis": {
           "automargin": true,
           "gridcolor": "white",
           "linecolor": "white",
           "ticks": "",
           "title": {
            "standoff": 15
           },
           "zerolinecolor": "white",
           "zerolinewidth": 2
          },
          "yaxis": {
           "automargin": true,
           "gridcolor": "white",
           "linecolor": "white",
           "ticks": "",
           "title": {
            "standoff": 15
           },
           "zerolinecolor": "white",
           "zerolinewidth": 2
          }
         }
        },
        "title": {
         "text": "Number of Coaches by Country"
        },
        "xaxis": {
         "anchor": "y",
         "domain": [
          0,
          1
         ],
         "title": {
          "text": "NOC"
         }
        },
        "yaxis": {
         "anchor": "x",
         "domain": [
          0,
          1
         ],
         "title": {
          "text": "count"
         }
        }
       }
      }
     },
     "metadata": {},
     "output_type": "display_data"
    }
   ],
   "source": [
    "fig  = px.bar(pd_coaches_query,x='NOC',y='count',title='Number of Coaches by Country',color='count')\n",
    "fig.show()"
   ]
  },
  {
   "cell_type": "code",
   "execution_count": 161,
   "metadata": {},
   "outputs": [
    {
     "data": {
      "text/html": [
       "<div>\n",
       "<style scoped>\n",
       "    .dataframe tbody tr th:only-of-type {\n",
       "        vertical-align: middle;\n",
       "    }\n",
       "\n",
       "    .dataframe tbody tr th {\n",
       "        vertical-align: top;\n",
       "    }\n",
       "\n",
       "    .dataframe thead th {\n",
       "        text-align: right;\n",
       "    }\n",
       "</style>\n",
       "<table border=\"1\" class=\"dataframe\">\n",
       "  <thead>\n",
       "    <tr style=\"text-align: right;\">\n",
       "      <th></th>\n",
       "      <th>Name</th>\n",
       "      <th>NOC</th>\n",
       "      <th>Discipline</th>\n",
       "    </tr>\n",
       "  </thead>\n",
       "  <tbody>\n",
       "    <tr>\n",
       "      <th>0</th>\n",
       "      <td>AALERUD Katrine</td>\n",
       "      <td>Norway</td>\n",
       "      <td>Cycling Road</td>\n",
       "    </tr>\n",
       "    <tr>\n",
       "      <th>1</th>\n",
       "      <td>ABAD Nestor</td>\n",
       "      <td>Spain</td>\n",
       "      <td>Artistic Gymnastics</td>\n",
       "    </tr>\n",
       "    <tr>\n",
       "      <th>2</th>\n",
       "      <td>ABAGNALE Giovanni</td>\n",
       "      <td>Italy</td>\n",
       "      <td>Rowing</td>\n",
       "    </tr>\n",
       "    <tr>\n",
       "      <th>3</th>\n",
       "      <td>ABALDE Alberto</td>\n",
       "      <td>Spain</td>\n",
       "      <td>Basketball</td>\n",
       "    </tr>\n",
       "    <tr>\n",
       "      <th>4</th>\n",
       "      <td>ABALDE Tamara</td>\n",
       "      <td>Spain</td>\n",
       "      <td>Basketball</td>\n",
       "    </tr>\n",
       "  </tbody>\n",
       "</table>\n",
       "</div>"
      ],
      "text/plain": [
       "                Name     NOC           Discipline\n",
       "0    AALERUD Katrine  Norway         Cycling Road\n",
       "1        ABAD Nestor   Spain  Artistic Gymnastics\n",
       "2  ABAGNALE Giovanni   Italy               Rowing\n",
       "3     ABALDE Alberto   Spain           Basketball\n",
       "4      ABALDE Tamara   Spain           Basketball"
      ]
     },
     "execution_count": 161,
     "metadata": {},
     "output_type": "execute_result"
    }
   ],
   "source": [
    "athletes.head()"
   ]
  },
  {
   "cell_type": "code",
   "execution_count": 162,
   "metadata": {},
   "outputs": [
    {
     "name": "stdout",
     "output_type": "stream",
     "text": [
      "+--------------------+-----------+-------------------+\n",
      "|                Name|        NOC|         Discipline|\n",
      "+--------------------+-----------+-------------------+\n",
      "|NOOR ZAHI Sha Mah...|Afghanistan|          Athletics|\n",
      "|       YOUSOFI Kimia|Afghanistan|          Athletics|\n",
      "|        YOVARI Mahdi|Afghanistan|           Shooting|\n",
      "|        ANWARI Fahim|Afghanistan|           Swimming|\n",
      "|     MANSOURI Farzad|Afghanistan|          Taekwondo|\n",
      "|       PETROV Matvei|    Albania|Artistic Gymnastics|\n",
      "|       SMAJLAJ Izmir|    Albania|          Athletics|\n",
      "|      CULLHAJ Indrit|    Albania|               Judo|\n",
      "|     DELILAJ Manuela|    Albania|           Shooting|\n",
      "|         KADIU Kledi|    Albania|           Swimming|\n",
      "+--------------------+-----------+-------------------+\n",
      "only showing top 10 rows\n",
      "\n"
     ]
    }
   ],
   "source": [
    "spark.read.csv('Athletes.csv',header=True,inferSchema=True).createOrReplaceTempView('Athletes')\n",
    "spark.sql('Select * from athletes order by NOC,Discipline').show(10)"
   ]
  },
  {
   "cell_type": "code",
   "execution_count": 163,
   "metadata": {},
   "outputs": [
    {
     "name": "stdout",
     "output_type": "stream",
     "text": [
      "+-----------+-------------------+-----+\n",
      "|        NOC|         Discipline|Count|\n",
      "+-----------+-------------------+-----+\n",
      "|Afghanistan|          Athletics|    2|\n",
      "|Afghanistan|           Shooting|    1|\n",
      "|Afghanistan|           Swimming|    1|\n",
      "|Afghanistan|          Taekwondo|    1|\n",
      "|    Albania|Artistic Gymnastics|    1|\n",
      "|    Albania|          Athletics|    1|\n",
      "|    Albania|               Judo|    1|\n",
      "|    Albania|           Shooting|    1|\n",
      "|    Albania|           Swimming|    2|\n",
      "|    Albania|      Weightlifting|    2|\n",
      "|    Algeria|          Athletics|    8|\n",
      "|    Algeria|             Boxing|    8|\n",
      "|    Algeria|       Canoe Sprint|    1|\n",
      "|    Algeria|       Cycling Road|    2|\n",
      "|    Algeria|            Fencing|    3|\n",
      "|    Algeria|               Judo|    2|\n",
      "|    Algeria|  Marathon Swimming|    1|\n",
      "|    Algeria|             Rowing|    2|\n",
      "|    Algeria|            Sailing|    2|\n",
      "|    Algeria|           Shooting|    1|\n",
      "+-----------+-------------------+-----+\n",
      "only showing top 20 rows\n",
      "\n"
     ]
    }
   ],
   "source": [
    "pd_athletes_query = spark.sql('''select first(NOC) as NOC, first(Discipline) as Discipline, \n",
    "                                 count(*) Count from athletes group by NOC, Discipline order \n",
    "                                 by NOC, Discipline''').show()"
   ]
  },
  {
   "cell_type": "code",
   "execution_count": 164,
   "metadata": {},
   "outputs": [
    {
     "data": {
      "text/html": [
       "<div>\n",
       "<style scoped>\n",
       "    .dataframe tbody tr th:only-of-type {\n",
       "        vertical-align: middle;\n",
       "    }\n",
       "\n",
       "    .dataframe tbody tr th {\n",
       "        vertical-align: top;\n",
       "    }\n",
       "\n",
       "    .dataframe thead th {\n",
       "        text-align: right;\n",
       "    }\n",
       "</style>\n",
       "<table border=\"1\" class=\"dataframe\">\n",
       "  <thead>\n",
       "    <tr style=\"text-align: right;\">\n",
       "      <th></th>\n",
       "      <th>NOC</th>\n",
       "      <th>Discipline</th>\n",
       "      <th>Count</th>\n",
       "    </tr>\n",
       "  </thead>\n",
       "  <tbody>\n",
       "    <tr>\n",
       "      <th>0</th>\n",
       "      <td>Afghanistan</td>\n",
       "      <td>Athletics</td>\n",
       "      <td>2</td>\n",
       "    </tr>\n",
       "    <tr>\n",
       "      <th>1</th>\n",
       "      <td>Afghanistan</td>\n",
       "      <td>Shooting</td>\n",
       "      <td>1</td>\n",
       "    </tr>\n",
       "    <tr>\n",
       "      <th>2</th>\n",
       "      <td>Afghanistan</td>\n",
       "      <td>Swimming</td>\n",
       "      <td>1</td>\n",
       "    </tr>\n",
       "    <tr>\n",
       "      <th>3</th>\n",
       "      <td>Afghanistan</td>\n",
       "      <td>Taekwondo</td>\n",
       "      <td>1</td>\n",
       "    </tr>\n",
       "    <tr>\n",
       "      <th>4</th>\n",
       "      <td>Albania</td>\n",
       "      <td>Artistic Gymnastics</td>\n",
       "      <td>1</td>\n",
       "    </tr>\n",
       "    <tr>\n",
       "      <th>5</th>\n",
       "      <td>Albania</td>\n",
       "      <td>Athletics</td>\n",
       "      <td>1</td>\n",
       "    </tr>\n",
       "    <tr>\n",
       "      <th>6</th>\n",
       "      <td>Albania</td>\n",
       "      <td>Judo</td>\n",
       "      <td>1</td>\n",
       "    </tr>\n",
       "    <tr>\n",
       "      <th>7</th>\n",
       "      <td>Albania</td>\n",
       "      <td>Shooting</td>\n",
       "      <td>1</td>\n",
       "    </tr>\n",
       "    <tr>\n",
       "      <th>8</th>\n",
       "      <td>Albania</td>\n",
       "      <td>Swimming</td>\n",
       "      <td>2</td>\n",
       "    </tr>\n",
       "    <tr>\n",
       "      <th>9</th>\n",
       "      <td>Albania</td>\n",
       "      <td>Weightlifting</td>\n",
       "      <td>2</td>\n",
       "    </tr>\n",
       "  </tbody>\n",
       "</table>\n",
       "</div>"
      ],
      "text/plain": [
       "           NOC           Discipline  Count\n",
       "0  Afghanistan            Athletics      2\n",
       "1  Afghanistan             Shooting      1\n",
       "2  Afghanistan             Swimming      1\n",
       "3  Afghanistan            Taekwondo      1\n",
       "4      Albania  Artistic Gymnastics      1\n",
       "5      Albania            Athletics      1\n",
       "6      Albania                 Judo      1\n",
       "7      Albania             Shooting      1\n",
       "8      Albania             Swimming      2\n",
       "9      Albania        Weightlifting      2"
      ]
     },
     "execution_count": 164,
     "metadata": {},
     "output_type": "execute_result"
    }
   ],
   "source": [
    "results = spark.sql(''' select first(NOC) as NOC, first(Discipline) as Discipline, \n",
    "                        count(*) Count from athletes group by NOC, Discipline order \n",
    "                         by NOC, Discipline''').collect()\n",
    "\n",
    "# Convert to Pandas DataFrame\n",
    "pd_athletes_query = pd.DataFrame(\n",
    "  [(row['NOC'], row['Discipline'], row['Count']) for row in results],\n",
    "  columns=['NOC', 'Discipline', 'Count']\n",
    ")\n",
    "\n",
    "pd_athletes_query.head(10)"
   ]
  },
  {
   "cell_type": "code",
   "execution_count": 165,
   "metadata": {},
   "outputs": [
    {
     "data": {
      "application/vnd.plotly.v1+json": {
       "config": {
        "plotlyServerURL": "https://plot.ly"
       },
       "data": [
        {
         "hovertemplate": "Discipline=Athletics<br>NOC=%{x}<br>Count=%{y}<extra></extra>",
         "legendgroup": "Athletics",
         "marker": {
          "color": "#636efa",
          "pattern": {
           "shape": ""
          }
         },
         "name": "Athletics",
         "orientation": "v",
         "showlegend": true,
         "textposition": "auto",
         "type": "bar",
         "x": [
          "Afghanistan",
          "Albania",
          "Algeria",
          "American Samoa",
          "Andorra",
          "Angola",
          "Antigua and Barbuda",
          "Argentina",
          "Armenia",
          "Australia",
          "Austria",
          "Azerbaijan",
          "Bahamas",
          "Bahrain",
          "Bangladesh",
          "Barbados",
          "Belarus",
          "Belgium",
          "Belize",
          "Benin",
          "Bolivia",
          "Bosnia and Herzegovina",
          "Botswana",
          "Brazil",
          "Brunei Darussalam",
          "Bulgaria",
          "Burkina Faso",
          "Burundi",
          "Cambodia",
          "Cameroon",
          "Canada",
          "Cape Verde",
          "Cayman Islands",
          "Central African Republic",
          "Chad",
          "Chile",
          "Chinese Taipei",
          "Colombia",
          "Comoros",
          "Congo",
          "Cook Islands",
          "Costa Rica",
          "Croatia",
          "Cuba",
          "Cyprus",
          "Czech Republic",
          "Côte d'Ivoire",
          "Democratic Republic of Timor-Leste",
          "Democratic Republic of the Congo",
          "Denmark",
          "Djibouti",
          "Dominica",
          "Dominican Republic",
          "Ecuador",
          "Egypt",
          "El Salvador",
          "Equatorial Guinea",
          "Eritrea",
          "Estonia",
          "Eswatini",
          "Ethiopia",
          "Federated States of Micronesia",
          "Fiji",
          "Finland",
          "France",
          "Gabon",
          "Gambia",
          "Georgia",
          "Germany",
          "Ghana",
          "Great Britain",
          "Greece",
          "Grenada",
          "Guam",
          "Guatemala",
          "Guinea",
          "Guinea-Bissau",
          "Guyana",
          "Haiti",
          "Honduras",
          "Hong Kong, China",
          "Hungary",
          "Iceland",
          "India",
          "Indonesia",
          "Iraq",
          "Ireland",
          "Islamic Republic of Iran",
          "Israel",
          "Italy",
          "Jamaica",
          "Japan",
          "Jordan",
          "Kazakhstan",
          "Kenya",
          "Kiribati",
          "Kosovo",
          "Kuwait",
          "Kyrgyzstan",
          "Lao People's Democratic Republic",
          "Latvia",
          "Lebanon",
          "Lesotho",
          "Liberia",
          "Libya",
          "Lithuania",
          "Luxembourg",
          "Madagascar",
          "Malawi",
          "Malaysia",
          "Maldives",
          "Mali",
          "Malta",
          "Mauritania",
          "Mauritius",
          "Mexico",
          "Monaco",
          "Mongolia",
          "Montenegro",
          "Morocco",
          "Mozambique",
          "Namibia",
          "Nauru",
          "Nepal",
          "Netherlands",
          "New Zealand",
          "Nicaragua",
          "Niger",
          "Nigeria",
          "North Macedonia",
          "Norway",
          "Oman",
          "Pakistan",
          "Palau",
          "Palestine",
          "Panama",
          "Papua New Guinea",
          "Paraguay",
          "People's Republic of China",
          "Peru",
          "Philippines",
          "Poland",
          "Portugal",
          "Puerto Rico",
          "Qatar",
          "ROC",
          "Refugee Olympic Team",
          "Republic of Korea",
          "Republic of Moldova",
          "Romania",
          "Rwanda",
          "Saint Kitts and Nevis",
          "Saint Lucia",
          "Samoa",
          "Sao Tome and Principe",
          "Saudi Arabia",
          "Senegal",
          "Serbia",
          "Seychelles",
          "Sierra Leone",
          "Singapore",
          "Slovakia",
          "Slovenia",
          "Solomon Islands",
          "Somalia",
          "South Africa",
          "South Sudan",
          "Spain",
          "Sri Lanka",
          "Sudan",
          "Sweden",
          "Switzerland",
          "Syrian Arab Republic",
          "Tajikistan",
          "Thailand",
          "Togo",
          "Tonga",
          "Trinidad and Tobago",
          "Tunisia",
          "Turkey",
          "Turkmenistan",
          "Tuvalu",
          "Uganda",
          "Ukraine",
          "United Republic of Tanzania",
          "United States of America",
          "Uruguay",
          "Uzbekistan",
          "Venezuela",
          "Vietnam",
          "Virgin Islands, British",
          "Virgin Islands, US",
          "Yemen",
          "Zambia",
          "Zimbabwe"
         ],
         "xaxis": "x",
         "y": {
          "bdata": "AgABAAgAAQABAAEAAgAFAAEAQQAHAAIADgANAAEABgAhAB4AAgADAAIAAgAJADUAAQAFAAIAAwABAAEAOAABAAIAAQABAAMABgAYAAIAAgABAAMABwASAAMAHwADAAEAAQAQAAIAAgAHABIABQABAAIACQAHAAEAJwABAAEAFgBCAAEAAgAFAF8ABwBLABQABAABAAkAAQABAAMAAQABAAIAEwABABkAAgACABsABAAJAEkANgBGAAEACgAlAAEAAQACAAMAAQAHAAEAAgADAAEACQACAAEAAQACAAEAAgABAAIAAQASAAEAAwACABAAAQAEAAEAAQAsAAwAAQACABQAAQAPAAIAAgABAAEABAABAAIANQAHAAIAQAATAAQACAAKAAYABgAFAAoAAgACAAEAAQABAAIAAQAFAAEAAQABAAkABwABAAEAHgACADoAAgABABQAHgABAAEAAgABAAEAFgADABgAAQACABIAMAACAJAAAwAHAAQAAQACAAEAAQACAAEA",
          "dtype": "i2"
         },
         "yaxis": "y"
        },
        {
         "hovertemplate": "Discipline=Shooting<br>NOC=%{x}<br>Count=%{y}<extra></extra>",
         "legendgroup": "Shooting",
         "marker": {
          "color": "#EF553B",
          "pattern": {
           "shape": ""
          }
         },
         "name": "Shooting",
         "orientation": "v",
         "showlegend": true,
         "textposition": "auto",
         "type": "bar",
         "x": [
          "Afghanistan",
          "Albania",
          "Algeria",
          "Argentina",
          "Armenia",
          "Aruba",
          "Australia",
          "Austria",
          "Azerbaijan",
          "Bahrain",
          "Bangladesh",
          "Belarus",
          "Belgium",
          "Bhutan",
          "Bosnia and Herzegovina",
          "Brazil",
          "Bulgaria",
          "Canada",
          "Chile",
          "Chinese Taipei",
          "Colombia",
          "Croatia",
          "Cuba",
          "Cyprus",
          "Czech Republic",
          "Denmark",
          "Ecuador",
          "Egypt",
          "Estonia",
          "Finland",
          "France",
          "Georgia",
          "Germany",
          "Great Britain",
          "Greece",
          "Guatemala",
          "Hungary",
          "Iceland",
          "India",
          "Indonesia",
          "Iraq",
          "Ireland",
          "Islamic Republic of Iran",
          "Israel",
          "Italy",
          "Japan",
          "Jordan",
          "Kazakhstan",
          "Kosovo",
          "Kuwait",
          "Kyrgyzstan",
          "Latvia",
          "Lebanon",
          "Lithuania",
          "Malaysia",
          "Malta",
          "Mexico",
          "Mongolia",
          "Montenegro",
          "Morocco",
          "Myanmar",
          "Nepal",
          "New Zealand",
          "Nicaragua",
          "North Macedonia",
          "Norway",
          "Oman",
          "Pakistan",
          "People's Republic of China",
          "Peru",
          "Philippines",
          "Poland",
          "Portugal",
          "Puerto Rico",
          "Qatar",
          "ROC",
          "Refugee Olympic Team",
          "Republic of Korea",
          "Republic of Moldova",
          "Romania",
          "San Marino",
          "Saudi Arabia",
          "Senegal",
          "Serbia",
          "Singapore",
          "Slovakia",
          "Slovenia",
          "Spain",
          "Sri Lanka",
          "Sweden",
          "Switzerland",
          "Thailand",
          "Tunisia",
          "Turkey",
          "Ukraine",
          "United Arab Emirates",
          "United States of America",
          "Venezuela",
          "Vietnam",
          "Yemen"
         ],
         "xaxis": "x",
         "y": {
          "bdata": "AQEBBAEBDgIBAQEDAQEBAQMBAQUBBAUDCAMBCgEDCgEIBQIDBAENAQEBBgEODAEDAQQBAQEBAQEEBAEBAQECAQEFAQMYAwEEAQEBEQEPAQEBAQEGAQcBAgEBAgYCBAYBEwEBAQ==",
          "dtype": "i1"
         },
         "yaxis": "y"
        },
        {
         "hovertemplate": "Discipline=Swimming<br>NOC=%{x}<br>Count=%{y}<extra></extra>",
         "legendgroup": "Swimming",
         "marker": {
          "color": "#00cc96",
          "pattern": {
           "shape": ""
          }
         },
         "name": "Swimming",
         "orientation": "v",
         "showlegend": true,
         "textposition": "auto",
         "type": "bar",
         "x": [
          "Afghanistan",
          "Albania",
          "Algeria",
          "American Samoa",
          "Angola",
          "Antigua and Barbuda",
          "Argentina",
          "Armenia",
          "Aruba",
          "Australia",
          "Austria",
          "Azerbaijan",
          "Bahamas",
          "Bahrain",
          "Bangladesh",
          "Barbados",
          "Belarus",
          "Belgium",
          "Benin",
          "Bhutan",
          "Bolivia",
          "Bosnia and Herzegovina",
          "Botswana",
          "Brazil",
          "Brunei Darussalam",
          "Bulgaria",
          "Burkina Faso",
          "Burundi",
          "Cambodia",
          "Cameroon",
          "Canada",
          "Cape Verde",
          "Cayman Islands",
          "Central African Republic",
          "Chile",
          "Chinese Taipei",
          "Colombia",
          "Congo",
          "Cook Islands",
          "Costa Rica",
          "Croatia",
          "Cuba",
          "Cyprus",
          "Czech Republic",
          "Côte d'Ivoire",
          "Democratic Republic of Timor-Leste",
          "Denmark",
          "Djibouti",
          "Dominican Republic",
          "Ecuador",
          "Egypt",
          "El Salvador",
          "Equatorial Guinea",
          "Eritrea",
          "Estonia",
          "Eswatini",
          "Ethiopia",
          "Federated States of Micronesia",
          "Fiji",
          "Finland",
          "France",
          "Gabon",
          "Georgia",
          "Germany",
          "Ghana",
          "Great Britain",
          "Greece",
          "Grenada",
          "Guam",
          "Guatemala",
          "Guinea",
          "Guyana",
          "Haiti",
          "Honduras",
          "Hong Kong, China",
          "Hungary",
          "Iceland",
          "India",
          "Indonesia",
          "Ireland",
          "Islamic Republic of Iran",
          "Israel",
          "Italy",
          "Jamaica",
          "Japan",
          "Jordan",
          "Kazakhstan",
          "Kenya",
          "Kosovo",
          "Kuwait",
          "Kyrgyzstan",
          "Lao People's Democratic Republic",
          "Latvia",
          "Lebanon",
          "Libya",
          "Liechtenstein",
          "Lithuania",
          "Luxembourg",
          "Madagascar",
          "Malawi",
          "Malaysia",
          "Maldives",
          "Mali",
          "Malta",
          "Marshall Islands",
          "Mauritius",
          "Mexico",
          "Monaco",
          "Mongolia",
          "Montenegro",
          "Morocco",
          "Mozambique",
          "Nepal",
          "Netherlands",
          "New Zealand",
          "Nicaragua",
          "Niger",
          "Nigeria",
          "North Macedonia",
          "Norway",
          "Oman",
          "Pakistan",
          "Palau",
          "Palestine",
          "Panama",
          "Papua New Guinea",
          "Paraguay",
          "People's Republic of China",
          "Peru",
          "Philippines",
          "Poland",
          "Portugal",
          "Puerto Rico",
          "Qatar",
          "ROC",
          "Refugee Olympic Team",
          "Republic of Korea",
          "Republic of Moldova",
          "Romania",
          "Rwanda",
          "Saint Lucia",
          "San Marino",
          "Saudi Arabia",
          "Senegal",
          "Serbia",
          "Seychelles",
          "Sierra Leone",
          "Singapore",
          "Slovakia",
          "Slovenia",
          "Solomon Islands",
          "South Africa",
          "Spain",
          "Sri Lanka",
          "St Vincent and the Grenadines",
          "Sudan",
          "Suriname",
          "Sweden",
          "Switzerland",
          "Syrian Arab Republic",
          "Tajikistan",
          "Thailand",
          "Togo",
          "Tonga",
          "Trinidad and Tobago",
          "Tunisia",
          "Turkey",
          "Turkmenistan",
          "Uganda",
          "Ukraine",
          "United Arab Emirates",
          "United States of America",
          "Uruguay",
          "Uzbekistan",
          "Venezuela",
          "Vietnam",
          "Virgin Islands, British",
          "Virgin Islands, US",
          "Yemen",
          "Zambia",
          "Zimbabwe"
         ],
         "xaxis": "x",
         "y": {
          "bdata": "AQICAQICAwICHgcCAgICAQUCAgECAgERAQUCAgICFAICAQIDAgECAgICAggBAgkBAgIEAgEBAwIBAgIFEQICGAIbBwICAgICAgIGFAIDAgYBCh0CGQECAgICAQICAgECBAICAgICAQICAQMCAgICAgIOBgICAQIEAQICAQECAhkBAggGAgIcAggCAwICAQECBQICAwIDAQwIAgICAQoGAQICAQICAQoCAgYBJwICAwIBAgECAg==",
          "dtype": "i1"
         },
         "yaxis": "y"
        },
        {
         "hovertemplate": "Discipline=Taekwondo<br>NOC=%{x}<br>Count=%{y}<extra></extra>",
         "legendgroup": "Taekwondo",
         "marker": {
          "color": "#ab63fa",
          "pattern": {
           "shape": ""
          }
         },
         "name": "Taekwondo",
         "orientation": "v",
         "showlegend": true,
         "textposition": "auto",
         "type": "bar",
         "x": [
          "Afghanistan",
          "Argentina",
          "Australia",
          "Azerbaijan",
          "Belgium",
          "Bosnia and Herzegovina",
          "Brazil",
          "Burkina Faso",
          "Canada",
          "Chinese Taipei",
          "Colombia",
          "Costa Rica",
          "Croatia",
          "Cuba",
          "Côte d'Ivoire",
          "Democratic Republic of the Congo",
          "Dominican Republic",
          "Egypt",
          "Ethiopia",
          "France",
          "Gabon",
          "Germany",
          "Great Britain",
          "Greece",
          "Haiti",
          "Honduras",
          "Hungary",
          "Ireland",
          "Islamic Republic of Iran",
          "Israel",
          "Italy",
          "Japan",
          "Jordan",
          "Kazakhstan",
          "Mali",
          "Mexico",
          "Morocco",
          "New Zealand",
          "Niger",
          "Nigeria",
          "North Macedonia",
          "Norway",
          "People's Republic of China",
          "Philippines",
          "Poland",
          "Portugal",
          "Puerto Rico",
          "ROC",
          "Refugee Olympic Team",
          "Republic of Korea",
          "Serbia",
          "Spain",
          "Thailand",
          "Tonga",
          "Tunisia",
          "Turkey",
          "United States of America",
          "Uzbekistan",
          "Vietnam"
         ],
         "xaxis": "x",
         "y": {
          "bdata": "AQEEAgEBAgECBAIBAwEEAQMEAQIBAQUBAQEBAQMBAgQBAgECAwECAQEBBQECAQEEAwYCBAIBAQUCBAE=",
          "dtype": "i1"
         },
         "yaxis": "y"
        },
        {
         "hovertemplate": "Discipline=Artistic Gymnastics<br>NOC=%{x}<br>Count=%{y}<extra></extra>",
         "legendgroup": "Artistic Gymnastics",
         "marker": {
          "color": "#FFA15A",
          "pattern": {
           "shape": ""
          }
         },
         "name": "Artistic Gymnastics",
         "orientation": "v",
         "showlegend": true,
         "textposition": "auto",
         "type": "bar",
         "x": [
          "Albania",
          "Argentina",
          "Armenia",
          "Australia",
          "Austria",
          "Azerbaijan",
          "Belarus",
          "Belgium",
          "Brazil",
          "Bulgaria",
          "Canada",
          "Cayman Islands",
          "Chile",
          "Chinese Taipei",
          "Costa Rica",
          "Croatia",
          "Cuba",
          "Cyprus",
          "Czech Republic",
          "Egypt",
          "France",
          "Germany",
          "Great Britain",
          "Greece",
          "Hong Kong, China",
          "Hungary",
          "India",
          "Ireland",
          "Israel",
          "Italy",
          "Jamaica",
          "Japan",
          "Kazakhstan",
          "Lithuania",
          "Malaysia",
          "Mexico",
          "Netherlands",
          "New Zealand",
          "Nigeria",
          "Norway",
          "People's Republic of China",
          "Peru",
          "Poland",
          "Portugal",
          "ROC",
          "Republic of Korea",
          "Romania",
          "Singapore",
          "Slovakia",
          "South Africa",
          "Spain",
          "Sri Lanka",
          "Sweden",
          "Switzerland",
          "Turkey",
          "Ukraine",
          "United States of America",
          "Uzbekistan",
          "Vietnam"
         ],
         "xaxis": "x",
         "y": {
          "bdata": "AQEBAgECAQQGAQUBAgQBAgEBAgMHCAgBAQEBAQMGAQsBAQICBgEBAgwBAQEMBgMBAQEJAQIEBQULAgI=",
          "dtype": "i1"
         },
         "yaxis": "y"
        },
        {
         "hovertemplate": "Discipline=Judo<br>NOC=%{x}<br>Count=%{y}<extra></extra>",
         "legendgroup": "Judo",
         "marker": {
          "color": "#19d3f3",
          "pattern": {
           "shape": ""
          }
         },
         "name": "Judo",
         "orientation": "v",
         "showlegend": true,
         "textposition": "auto",
         "type": "bar",
         "x": [
          "Albania",
          "Algeria",
          "Angola",
          "Argentina",
          "Armenia",
          "Australia",
          "Austria",
          "Azerbaijan",
          "Belarus",
          "Belgium",
          "Benin",
          "Bosnia and Herzegovina",
          "Brazil",
          "Bulgaria",
          "Burkina Faso",
          "Cameroon",
          "Canada",
          "Cape Verde",
          "Chad",
          "Chile",
          "Chinese Taipei",
          "Comoros",
          "Costa Rica",
          "Croatia",
          "Cuba",
          "Czech Republic",
          "Democratic Republic of the Congo",
          "Djibouti",
          "Dominican Republic",
          "Ecuador",
          "Egypt",
          "Estonia",
          "Fiji",
          "France",
          "Gabon",
          "Gambia",
          "Georgia",
          "Germany",
          "Ghana",
          "Great Britain",
          "Greece",
          "Guam",
          "Guatemala",
          "Guinea",
          "Guinea-Bissau",
          "Haiti",
          "Honduras",
          "Hungary",
          "India",
          "Ireland",
          "Israel",
          "Italy",
          "Jamaica",
          "Japan",
          "Jordan",
          "Kazakhstan",
          "Kiribati",
          "Kosovo",
          "Kyrgyzstan",
          "Lao People's Democratic Republic",
          "Latvia",
          "Lebanon",
          "Libya",
          "Liechtenstein",
          "Lithuania",
          "Madagascar",
          "Malawi",
          "Mauritius",
          "Mexico",
          "Monaco",
          "Mongolia",
          "Montenegro",
          "Morocco",
          "Mozambique",
          "Nepal",
          "Netherlands",
          "Nicaragua",
          "Niger",
          "North Macedonia",
          "Pakistan",
          "Palestine",
          "Panama",
          "People's Republic of China",
          "Peru",
          "Philippines",
          "Poland",
          "Portugal",
          "Puerto Rico",
          "Qatar",
          "ROC",
          "Refugee Olympic Team",
          "Republic of Korea",
          "Republic of Moldova",
          "Romania",
          "Samoa",
          "San Marino",
          "Saudi Arabia",
          "Senegal",
          "Serbia",
          "Seychelles",
          "Sierra Leone",
          "Slovenia",
          "South Africa",
          "Spain",
          "Sri Lanka",
          "Sudan",
          "Sweden",
          "Switzerland",
          "Tajikistan",
          "Thailand",
          "Trinidad and Tobago",
          "Tunisia",
          "Turkey",
          "Turkmenistan",
          "Ukraine",
          "United Arab Emirates",
          "United States of America",
          "Uruguay",
          "Uzbekistan",
          "Vanuatu",
          "Venezuela",
          "Vietnam",
          "Zambia"
         ],
         "xaxis": "x",
         "y": {
          "bdata": "AQIBAgEDBQkDBAEBCwMBAgUBAQEDAQEDBgIBAQEDAgEBDQEBCQsBBQIBAQEBAQEHAQIMCAENAQYBBAEBAQEBAQEBAQEBAQwBAgEBCgEBAQEBAgUBAQYIAwENBg4CAwEBAgEFAQEFAQcBAQQCAwEBAwUBBwIEAQgBAwEB",
          "dtype": "i1"
         },
         "yaxis": "y"
        },
        {
         "hovertemplate": "Discipline=Weightlifting<br>NOC=%{x}<br>Count=%{y}<extra></extra>",
         "legendgroup": "Weightlifting",
         "marker": {
          "color": "#FF6692",
          "pattern": {
           "shape": ""
          }
         },
         "name": "Weightlifting",
         "orientation": "v",
         "showlegend": true,
         "textposition": "auto",
         "type": "bar",
         "x": [
          "Albania",
          "Algeria",
          "American Samoa",
          "Armenia",
          "Australia",
          "Austria",
          "Belarus",
          "Belgium",
          "Botswana",
          "Brazil",
          "Bulgaria",
          "Cameroon",
          "Canada",
          "Chile",
          "Chinese Taipei",
          "Colombia",
          "Cuba",
          "Czech Republic",
          "Dominican Republic",
          "Ecuador",
          "France",
          "Georgia",
          "Germany",
          "Ghana",
          "Great Britain",
          "Greece",
          "Guatemala",
          "Hungary",
          "Indonesia",
          "Islamic Republic of Iran",
          "Israel",
          "Italy",
          "Japan",
          "Kazakhstan",
          "Kiribati",
          "Kyrgyzstan",
          "Latvia",
          "Lebanon",
          "Lithuania",
          "Madagascar",
          "Malta",
          "Mauritius",
          "Mexico",
          "Mongolia",
          "Morocco",
          "Nauru",
          "Netherlands",
          "New Zealand",
          "Nicaragua",
          "Oman",
          "Pakistan",
          "Palestine",
          "Papua New Guinea",
          "People's Republic of China",
          "Peru",
          "Philippines",
          "Poland",
          "ROC",
          "Refugee Olympic Team",
          "Republic of Korea",
          "Republic of Moldova",
          "Saudi Arabia",
          "Solomon Islands",
          "Spain",
          "Sweden",
          "Syrian Arab Republic",
          "Tonga",
          "Tunisia",
          "Turkey",
          "Turkmenistan",
          "Ukraine",
          "United States of America",
          "Uzbekistan",
          "Venezuela",
          "Vietnam"
         ],
         "xaxis": "x",
         "y": {
          "bdata": "AgEBAgUCAgIBAgICBQIHAwQBBAQEBAMBBAEBAQUCAQMHAgEBAgEBAgEBBAIBAQEFAQEBAQEHAQIDAgEHAgIBBAEBAQUBBAIIBAQC",
          "dtype": "i1"
         },
         "yaxis": "y"
        },
        {
         "hovertemplate": "Discipline=Boxing<br>NOC=%{x}<br>Count=%{y}<extra></extra>",
         "legendgroup": "Boxing",
         "marker": {
          "color": "#B6E880",
          "pattern": {
           "shape": ""
          }
         },
         "name": "Boxing",
         "orientation": "v",
         "showlegend": true,
         "textposition": "auto",
         "type": "bar",
         "x": [
          "Algeria",
          "Antigua and Barbuda",
          "Argentina",
          "Armenia",
          "Australia",
          "Azerbaijan",
          "Bahrain",
          "Belarus",
          "Botswana",
          "Brazil",
          "Bulgaria",
          "Burundi",
          "Cameroon",
          "Canada",
          "Cape Verde",
          "Chinese Taipei",
          "Colombia",
          "Croatia",
          "Cuba",
          "Democratic Republic of the Congo",
          "Dominican Republic",
          "Ecuador",
          "Egypt",
          "El Salvador",
          "Eswatini",
          "France",
          "Georgia",
          "Germany",
          "Ghana",
          "Great Britain",
          "Guyana",
          "Haiti",
          "Hungary",
          "India",
          "Ireland",
          "Islamic Republic of Iran",
          "Italy",
          "Jamaica",
          "Japan",
          "Jordan",
          "Kazakhstan",
          "Kenya",
          "Kosovo",
          "Mauritius",
          "Mexico",
          "Mongolia",
          "Morocco",
          "Mozambique",
          "Namibia",
          "Netherlands",
          "New Zealand",
          "Panama",
          "Papua New Guinea",
          "People's Republic of China",
          "Peru",
          "Philippines",
          "Poland",
          "Puerto Rico",
          "ROC",
          "Refugee Olympic Team",
          "Republic of Korea",
          "Romania",
          "Samoa",
          "Serbia",
          "Somalia",
          "Spain",
          "Sweden",
          "Tajikistan",
          "Thailand",
          "Trinidad and Tobago",
          "Tunisia",
          "Turkey",
          "Uganda",
          "Ukraine",
          "United States of America",
          "Uzbekistan",
          "Venezuela",
          "Vietnam",
          "Zambia"
         ],
         "xaxis": "x",
         "y": {
          "bdata": "CAEFAgQDAQQCBwMBAwUBBAYCBwQHBAIBAQUDAwMKAQEBBwYCAwEGBQgEAQIDAwYBAQIBAQEGAgQCAQsBAgICAQEEAgIEAQIGAwUICwMCAw==",
          "dtype": "i1"
         },
         "yaxis": "y"
        },
        {
         "hovertemplate": "Discipline=Canoe Sprint<br>NOC=%{x}<br>Count=%{y}<extra></extra>",
         "legendgroup": "Canoe Sprint",
         "marker": {
          "color": "#FF97FF",
          "pattern": {
           "shape": ""
          }
         },
         "name": "Canoe Sprint",
         "orientation": "v",
         "showlegend": true,
         "textposition": "auto",
         "type": "bar",
         "x": [
          "Algeria",
          "Argentina",
          "Australia",
          "Austria",
          "Belarus",
          "Belgium",
          "Belize",
          "Brazil",
          "Bulgaria",
          "Canada",
          "Chile",
          "Cook Islands",
          "Croatia",
          "Cuba",
          "Czech Republic",
          "Denmark",
          "Egypt",
          "France",
          "Germany",
          "Great Britain",
          "Hungary",
          "Islamic Republic of Iran",
          "Italy",
          "Japan",
          "Kazakhstan",
          "Latvia",
          "Lithuania",
          "New Zealand",
          "Nigeria",
          "Norway",
          "People's Republic of China",
          "Poland",
          "Portugal",
          "ROC",
          "Republic of Korea",
          "Republic of Moldova",
          "Romania",
          "Samoa",
          "Sao Tome and Principe",
          "Serbia",
          "Slovakia",
          "Slovenia",
          "Spain",
          "Sweden",
          "Thailand",
          "Tunisia",
          "Ukraine",
          "United States of America",
          "Uzbekistan"
         ],
         "xaxis": "x",
         "y": {
          "bdata": "AQMNAgwCAQMBDgICAgUEBAIIDwQRAQQIBQEBBgEBDggHDgEDAQMCAwQCCwIBAgoBAg==",
          "dtype": "i1"
         },
         "yaxis": "y"
        },
        {
         "hovertemplate": "Discipline=Cycling Road<br>NOC=%{x}<br>Count=%{y}<extra></extra>",
         "legendgroup": "Cycling Road",
         "marker": {
          "color": "#FECB52",
          "pattern": {
           "shape": ""
          }
         },
         "name": "Cycling Road",
         "orientation": "v",
         "showlegend": true,
         "textposition": "auto",
         "type": "bar",
         "x": [
          "Algeria",
          "Argentina",
          "Australia",
          "Austria",
          "Azerbaijan",
          "Belarus",
          "Belgium",
          "Burkina Faso",
          "Canada",
          "Chile",
          "Chinese Taipei",
          "Colombia",
          "Costa Rica",
          "Croatia",
          "Cuba",
          "Cyprus",
          "Czech Republic",
          "Denmark",
          "Ecuador",
          "Eritrea",
          "Estonia",
          "Ethiopia",
          "France",
          "Germany",
          "Great Britain",
          "Greece",
          "Guatemala",
          "Hong Kong, China",
          "Hungary",
          "Ireland",
          "Islamic Republic of Iran",
          "Israel",
          "Italy",
          "Japan",
          "Kazakhstan",
          "Latvia",
          "Lithuania",
          "Luxembourg",
          "Mexico",
          "Morocco",
          "Namibia",
          "Netherlands",
          "New Zealand",
          "Norway",
          "Panama",
          "Paraguay",
          "People's Republic of China",
          "Peru",
          "Poland",
          "Portugal",
          "ROC",
          "Refugee Olympic Team",
          "Republic of Korea",
          "Romania",
          "Rwanda",
          "Slovakia",
          "Slovenia",
          "South Africa",
          "Spain",
          "Switzerland",
          "Thailand",
          "Trinidad and Tobago",
          "Turkey",
          "Ukraine",
          "United States of America",
          "Uzbekistan",
          "Venezuela"
         ],
         "xaxis": "x",
         "y": {
          "bdata": "AgEIBAECCAEGAQEFAgEBAQQGAgMCAQYHBQEBAQECAQEJBAMBAgICAQIJAgYBAQIBBQIEAgEBAQIEBAYFAQECAgcCAQ==",
          "dtype": "i1"
         },
         "yaxis": "y"
        },
        {
         "hovertemplate": "Discipline=Fencing<br>NOC=%{x}<br>Count=%{y}<extra></extra>",
         "legendgroup": "Fencing",
         "marker": {
          "color": "#636efa",
          "pattern": {
           "shape": ""
          }
         },
         "name": "Fencing",
         "orientation": "v",
         "showlegend": true,
         "textposition": "auto",
         "type": "bar",
         "x": [
          "Algeria",
          "Argentina",
          "Azerbaijan",
          "Brazil",
          "Canada",
          "Chile",
          "Colombia",
          "Czech Republic",
          "Egypt",
          "Estonia",
          "France",
          "Georgia",
          "Germany",
          "Great Britain",
          "Greece",
          "Hong Kong, China",
          "Hungary",
          "India",
          "Islamic Republic of Iran",
          "Italy",
          "Japan",
          "Kazakhstan",
          "Mexico",
          "Morocco",
          "Netherlands",
          "People's Republic of China",
          "Peru",
          "Poland",
          "ROC",
          "Republic of Korea",
          "Romania",
          "Senegal",
          "Singapore",
          "Spain",
          "Switzerland",
          "Tunisia",
          "Turkey",
          "Ukraine",
          "United States of America",
          "Uzbekistan",
          "Venezuela"
         ],
         "xaxis": "x",
         "y": {
          "bdata": "AwEBAgsBAQIMBBEBCQEBCAwBBBcTAQEBAQ8BBRUSAgECAQQHAQQYAwI=",
          "dtype": "i1"
         },
         "yaxis": "y"
        },
        {
         "hovertemplate": "Discipline=Marathon Swimming<br>NOC=%{x}<br>Count=%{y}<extra></extra>",
         "legendgroup": "Marathon Swimming",
         "marker": {
          "color": "#EF553B",
          "pattern": {
           "shape": ""
          }
         },
         "name": "Marathon Swimming",
         "orientation": "v",
         "showlegend": true,
         "textposition": "auto",
         "type": "bar",
         "x": [
          "Algeria",
          "Argentina",
          "Australia",
          "Canada",
          "Czech Republic",
          "Ecuador",
          "France",
          "Germany",
          "Great Britain",
          "Greece",
          "Hong Kong, China",
          "Hungary",
          "Israel",
          "Italy",
          "Japan",
          "Mexico",
          "Namibia",
          "Netherlands",
          "People's Republic of China",
          "Portugal",
          "ROC",
          "Singapore",
          "Slovenia",
          "South Africa",
          "Spain",
          "Tunisia",
          "Ukraine",
          "United States of America",
          "Venezuela"
         ],
         "xaxis": "x",
         "y": {
          "bdata": "AQECAgECAwQCAQECAQMCAQECAQICAQECAgEBAwE=",
          "dtype": "i1"
         },
         "yaxis": "y"
        },
        {
         "hovertemplate": "Discipline=Rowing<br>NOC=%{x}<br>Count=%{y}<extra></extra>",
         "legendgroup": "Rowing",
         "marker": {
          "color": "#00cc96",
          "pattern": {
           "shape": ""
          }
         },
         "name": "Rowing",
         "orientation": "v",
         "showlegend": true,
         "textposition": "auto",
         "type": "bar",
         "x": [
          "Algeria",
          "Argentina",
          "Australia",
          "Austria",
          "Belarus",
          "Belgium",
          "Benin",
          "Bermuda",
          "Canada",
          "Chile",
          "Chinese Taipei",
          "Croatia",
          "Cuba",
          "Czech Republic",
          "Côte d'Ivoire",
          "Denmark",
          "Dominican Republic",
          "Egypt",
          "Estonia",
          "France",
          "Germany",
          "Great Britain",
          "Greece",
          "Guatemala",
          "Hong Kong, China",
          "Hungary",
          "India",
          "Indonesia",
          "Iraq",
          "Ireland",
          "Islamic Republic of Iran",
          "Italy",
          "Japan",
          "Kazakhstan",
          "Kuwait",
          "Libya",
          "Lithuania",
          "Mexico",
          "Monaco",
          "Morocco",
          "Namibia",
          "Netherlands",
          "New Zealand",
          "Nicaragua",
          "Nigeria",
          "Norway",
          "Paraguay",
          "People's Republic of China",
          "Peru",
          "Philippines",
          "Poland",
          "Portugal",
          "Puerto Rico",
          "Qatar",
          "ROC",
          "Republic of Korea",
          "Romania",
          "Saudi Arabia",
          "Serbia",
          "Singapore",
          "South Africa",
          "Spain",
          "Sudan",
          "Sweden",
          "Switzerland",
          "Thailand",
          "Togo",
          "Trinidad and Tobago",
          "Tunisia",
          "Turkey",
          "Uganda",
          "Ukraine",
          "United States of America",
          "Uruguay",
          "Uzbekistan",
          "Vanuatu",
          "Venezuela",
          "Vietnam",
          "Zimbabwe"
         ],
         "xaxis": "x",
         "y": {
          "bdata": "AgIlAwUCAQEcAgEDAQYBCQEBBAsXJwQBAQECAQELARcDAQEBCQEBAQEiGQIBBwEaAQETAQEBCgEiAQMBBgYBAQkCAQECAQECJAICAQIBAQ==",
          "dtype": "i1"
         },
         "yaxis": "y"
        },
        {
         "hovertemplate": "Discipline=Sailing<br>NOC=%{x}<br>Count=%{y}<extra></extra>",
         "legendgroup": "Sailing",
         "marker": {
          "color": "#ab63fa",
          "pattern": {
           "shape": ""
          }
         },
         "name": "Sailing",
         "orientation": "v",
         "showlegend": true,
         "textposition": "auto",
         "type": "bar",
         "x": [
          "Algeria",
          "American Samoa",
          "Angola",
          "Antigua and Barbuda",
          "Argentina",
          "Australia",
          "Austria",
          "Belarus",
          "Belgium",
          "Brazil",
          "Canada",
          "Chile",
          "Croatia",
          "Cyprus",
          "Czech Republic",
          "Denmark",
          "Egypt",
          "El Salvador",
          "Estonia",
          "Fiji",
          "Finland",
          "France",
          "Germany",
          "Great Britain",
          "Greece",
          "Guatemala",
          "Hong Kong, China",
          "Hungary",
          "India",
          "Ireland",
          "Israel",
          "Italy",
          "Japan",
          "Lithuania",
          "Malaysia",
          "Mexico",
          "Montenegro",
          "Mozambique",
          "Netherlands",
          "New Zealand",
          "Norway",
          "Papua New Guinea",
          "People's Republic of China",
          "Peru",
          "Poland",
          "Portugal",
          "Puerto Rico",
          "ROC",
          "Republic of Korea",
          "Saint Lucia",
          "Samoa",
          "Seychelles",
          "Singapore",
          "Slovenia",
          "South Africa",
          "Spain",
          "Sweden",
          "Switzerland",
          "Thailand",
          "Trinidad and Tobago",
          "Tunisia",
          "Turkey",
          "United States of America",
          "Uruguay",
          "Venezuela"
         ],
         "xaxis": "x",
         "y": {
          "bdata": "AgICAQsMBgIEDQkBBAQBCAIBAgEFDgkOCAECBAQDBQgPAgMEAQMKCggCCgUHBQIGBAIBAQQDAw0JBgIBBAgNAwE=",
          "dtype": "i1"
         },
         "yaxis": "y"
        },
        {
         "hovertemplate": "Discipline=Table Tennis<br>NOC=%{x}<br>Count=%{y}<extra></extra>",
         "legendgroup": "Table Tennis",
         "marker": {
          "color": "#FFA15A",
          "pattern": {
           "shape": ""
          }
         },
         "name": "Table Tennis",
         "orientation": "v",
         "showlegend": true,
         "textposition": "auto",
         "type": "bar",
         "x": [
          "Algeria",
          "Argentina",
          "Australia",
          "Austria",
          "Brazil",
          "Bulgaria",
          "Cameroon",
          "Canada",
          "Chile",
          "Chinese Taipei",
          "Croatia",
          "Cuba",
          "Czech Republic",
          "Denmark",
          "Ecuador",
          "Egypt",
          "Fiji",
          "France",
          "Germany",
          "Great Britain",
          "Guyana",
          "Hong Kong, China",
          "Hungary",
          "India",
          "Islamic Republic of Iran",
          "Italy",
          "Japan",
          "Kazakhstan",
          "Luxembourg",
          "Monaco",
          "Mongolia",
          "Netherlands",
          "Nigeria",
          "People's Republic of China",
          "Poland",
          "Portugal",
          "Puerto Rico",
          "ROC",
          "Republic of Korea",
          "Romania",
          "Saudi Arabia",
          "Senegal",
          "Serbia",
          "Singapore",
          "Slovakia",
          "Slovenia",
          "Spain",
          "Sweden",
          "Switzerland",
          "Syrian Arab Republic",
          "Thailand",
          "Togo",
          "Tunisia",
          "Ukraine",
          "United States of America"
         ],
         "xaxis": "x",
         "y": {
          "bdata": "AQIGBQYBAQMBBgMCAwEBBQEGBgMBBgUEAQEGAgIBAgEEBgMFAwMGBAEBAwQDAwEEAQEBAQIDBg==",
          "dtype": "i1"
         },
         "yaxis": "y"
        },
        {
         "hovertemplate": "Discipline=Wrestling<br>NOC=%{x}<br>Count=%{y}<extra></extra>",
         "legendgroup": "Wrestling",
         "marker": {
          "color": "#19d3f3",
          "pattern": {
           "shape": ""
          }
         },
         "name": "Wrestling",
         "orientation": "v",
         "showlegend": true,
         "textposition": "auto",
         "type": "bar",
         "x": [
          "Algeria",
          "Argentina",
          "Armenia",
          "Azerbaijan",
          "Belarus",
          "Brazil",
          "Bulgaria",
          "Canada",
          "Chile",
          "Colombia",
          "Croatia",
          "Cuba",
          "Czech Republic",
          "Denmark",
          "Ecuador",
          "Egypt",
          "Estonia",
          "Finland",
          "France",
          "Georgia",
          "Germany",
          "Greece",
          "Guam",
          "Guinea",
          "Guinea-Bissau",
          "Hungary",
          "India",
          "Islamic Republic of Iran",
          "Italy",
          "Japan",
          "Kazakhstan",
          "Kosovo",
          "Kyrgyzstan",
          "Latvia",
          "Lithuania",
          "Mexico",
          "Mongolia",
          "Morocco",
          "Nigeria",
          "North Macedonia",
          "People's Republic of China",
          "Peru",
          "Poland",
          "Puerto Rico",
          "ROC",
          "Refugee Olympic Team",
          "Republic of Korea",
          "Republic of Moldova",
          "Romania",
          "San Marino",
          "Senegal",
          "Serbia",
          "Slovakia",
          "Sweden",
          "Switzerland",
          "Tunisia",
          "Turkey",
          "Ukraine",
          "United States of America",
          "Uzbekistan"
         ],
         "xaxis": "x",
         "y": {
          "bdata": "BwEGBwgDBwQBAwEMAQECCAICAgcHAgEBAgUHCwILCgEJAQECCQEFAQsBBgEQAQICBQEBBAEDAQkJCQ4I",
          "dtype": "i1"
         },
         "yaxis": "y"
        },
        {
         "hovertemplate": "Discipline=Canoe Slalom<br>NOC=%{x}<br>Count=%{y}<extra></extra>",
         "legendgroup": "Canoe Slalom",
         "marker": {
          "color": "#FF6692",
          "pattern": {
           "shape": ""
          }
         },
         "name": "Canoe Slalom",
         "orientation": "v",
         "showlegend": true,
         "textposition": "auto",
         "type": "bar",
         "x": [
          "Andorra",
          "Argentina",
          "Australia",
          "Austria",
          "Belgium",
          "Brazil",
          "Canada",
          "Chinese Taipei",
          "Cook Islands",
          "Croatia",
          "Czech Republic",
          "France",
          "Germany",
          "Great Britain",
          "Ireland",
          "Italy",
          "Japan",
          "Kazakhstan",
          "Mexico",
          "Morocco",
          "Netherlands",
          "New Zealand",
          "People's Republic of China",
          "Poland",
          "Portugal",
          "ROC",
          "Senegal",
          "Slovakia",
          "Slovenia",
          "Spain",
          "Sweden",
          "Switzerland",
          "Ukraine",
          "United States of America"
         ],
         "xaxis": "x",
         "y": {
          "bdata": "AQEDAwECBAEBAQQDBAMBAwMCAQIBAgMEAQIBBAQEAQQBAg==",
          "dtype": "i1"
         },
         "yaxis": "y"
        },
        {
         "hovertemplate": "Discipline=Handball<br>NOC=%{x}<br>Count=%{y}<extra></extra>",
         "legendgroup": "Handball",
         "marker": {
          "color": "#B6E880",
          "pattern": {
           "shape": ""
          }
         },
         "name": "Handball",
         "orientation": "v",
         "showlegend": true,
         "textposition": "auto",
         "type": "bar",
         "x": [
          "Angola",
          "Argentina",
          "Bahrain",
          "Brazil",
          "Denmark",
          "Egypt",
          "France",
          "Germany",
          "Hungary",
          "Japan",
          "Montenegro",
          "Netherlands",
          "Norway",
          "Portugal",
          "ROC",
          "Republic of Korea",
          "Spain",
          "Sweden"
         ],
         "xaxis": "x",
         "y": {
          "bdata": "Dg8OHA8OHA8OHA8PHgwODx0c",
          "dtype": "i1"
         },
         "yaxis": "y"
        },
        {
         "hovertemplate": "Discipline=Basketball<br>NOC=%{x}<br>Count=%{y}<extra></extra>",
         "legendgroup": "Basketball",
         "marker": {
          "color": "#FF97FF",
          "pattern": {
           "shape": ""
          }
         },
         "name": "Basketball",
         "orientation": "v",
         "showlegend": true,
         "textposition": "auto",
         "type": "bar",
         "x": [
          "Argentina",
          "Australia",
          "Belgium",
          "Canada",
          "Czech Republic",
          "France",
          "Germany",
          "Islamic Republic of Iran",
          "Italy",
          "Japan",
          "Nigeria",
          "People's Republic of China",
          "Puerto Rico",
          "Republic of Korea",
          "Serbia",
          "Slovenia",
          "Spain",
          "United States of America"
         ],
         "xaxis": "x",
         "y": {
          "bdata": "DBcMDAwXDAwKFxcMDAsMDBgX",
          "dtype": "i1"
         },
         "yaxis": "y"
        },
        {
         "hovertemplate": "Discipline=Beach Volleyball<br>NOC=%{x}<br>Count=%{y}<extra></extra>",
         "legendgroup": "Beach Volleyball",
         "marker": {
          "color": "#FECB52",
          "pattern": {
           "shape": ""
          }
         },
         "name": "Beach Volleyball",
         "orientation": "v",
         "showlegend": true,
         "textposition": "auto",
         "type": "bar",
         "x": [
          "Argentina",
          "Australia",
          "Brazil",
          "Canada",
          "Chile",
          "Cuba",
          "Czech Republic",
          "Germany",
          "Italy",
          "Japan",
          "Kenya",
          "Latvia",
          "Mexico",
          "Morocco",
          "Netherlands",
          "Norway",
          "People's Republic of China",
          "Poland",
          "Qatar",
          "ROC",
          "Spain",
          "Switzerland",
          "United States of America"
         ],
         "xaxis": "x",
         "y": {
          "bdata": "AwQHAwICBAYGBAIEAQIGAgQEAQYEBQg=",
          "dtype": "i1"
         },
         "yaxis": "y"
        },
        {
         "hovertemplate": "Discipline=Cycling BMX Racing<br>NOC=%{x}<br>Count=%{y}<extra></extra>",
         "legendgroup": "Cycling BMX Racing",
         "marker": {
          "color": "#636efa",
          "pattern": {
           "shape": ""
          }
         },
         "name": "Cycling BMX Racing",
         "orientation": "v",
         "showlegend": true,
         "textposition": "auto",
         "type": "bar",
         "x": [
          "Argentina",
          "Australia",
          "Belgium",
          "Brazil",
          "Canada",
          "Colombia",
          "Denmark",
          "Ecuador",
          "France",
          "Great Britain",
          "Italy",
          "Japan",
          "Latvia",
          "Netherlands",
          "New Zealand",
          "Norway",
          "ROC",
          "South Africa",
          "Switzerland",
          "Thailand",
          "United States of America"
         ],
         "xaxis": "x",
         "y": {
          "bdata": "AQMBAgICAQEFAgEBAgUBAQMBAwEE",
          "dtype": "i1"
         },
         "yaxis": "y"
        },
        {
         "hovertemplate": "Discipline=Cycling Mountain Bike<br>NOC=%{x}<br>Count=%{y}<extra></extra>",
         "legendgroup": "Cycling Mountain Bike",
         "marker": {
          "color": "#EF553B",
          "pattern": {
           "shape": ""
          }
         },
         "name": "Cycling Mountain Bike",
         "orientation": "v",
         "showlegend": true,
         "textposition": "auto",
         "type": "bar",
         "x": [
          "Argentina",
          "Australia",
          "Austria",
          "Belgium",
          "Brazil",
          "Canada",
          "Chile",
          "Czech Republic",
          "Denmark",
          "Estonia",
          "France",
          "Germany",
          "Great Britain",
          "Greece",
          "Hungary",
          "Israel",
          "Italy",
          "Japan",
          "Mexico",
          "Namibia",
          "Netherlands",
          "New Zealand",
          "Norway",
          "People's Republic of China",
          "Poland",
          "Portugal",
          "ROC",
          "Romania",
          "Slovenia",
          "South Africa",
          "Spain",
          "Sweden",
          "Switzerland",
          "Ukraine",
          "United States of America"
         ],
         "xaxis": "x",
         "y": {
          "bdata": "AQIBAgMDAQIDAQQEAgECAQQBAgIEAQECAgECAQECAwEGAQQ=",
          "dtype": "i1"
         },
         "yaxis": "y"
        },
        {
         "hovertemplate": "Discipline=Equestrian<br>NOC=%{x}<br>Count=%{y}<extra></extra>",
         "legendgroup": "Equestrian",
         "marker": {
          "color": "#00cc96",
          "pattern": {
           "shape": ""
          }
         },
         "name": "Equestrian",
         "orientation": "v",
         "showlegend": true,
         "textposition": "auto",
         "type": "bar",
         "x": [
          "Argentina",
          "Australia",
          "Austria",
          "Belarus",
          "Belgium",
          "Brazil",
          "Canada",
          "Chile",
          "Chinese Taipei",
          "Colombia",
          "Czech Republic",
          "Denmark",
          "Dominican Republic",
          "Ecuador",
          "Egypt",
          "Estonia",
          "Finland",
          "France",
          "Germany",
          "Great Britain",
          "Hong Kong, China",
          "India",
          "Ireland",
          "Israel",
          "Italy",
          "Japan",
          "Jordan",
          "Latvia",
          "Luxembourg",
          "Mexico",
          "Morocco",
          "Netherlands",
          "New Zealand",
          "Norway",
          "People's Republic of China",
          "Poland",
          "Portugal",
          "Puerto Rico",
          "ROC",
          "Republic of Korea",
          "Singapore",
          "South Africa",
          "Spain",
          "Sri Lanka",
          "Sweden",
          "Switzerland",
          "Syrian Arab Republic",
          "Thailand",
          "Ukraine",
          "United States of America"
         ],
         "xaxis": "x",
         "y": {
          "bdata": "BAoFAgoJBwIBAQYGAgEEAQELCwsBAQkDBgwBAQEFBQoIAQgEBAEGAQEBBQELCAEDAgs=",
          "dtype": "i1"
         },
         "yaxis": "y"
        },
        {
         "hovertemplate": "Discipline=Football<br>NOC=%{x}<br>Count=%{y}<extra></extra>",
         "legendgroup": "Football",
         "marker": {
          "color": "#ab63fa",
          "pattern": {
           "shape": ""
          }
         },
         "name": "Football",
         "orientation": "v",
         "showlegend": true,
         "textposition": "auto",
         "type": "bar",
         "x": [
          "Argentina",
          "Australia",
          "Brazil",
          "Canada",
          "Chile",
          "Côte d'Ivoire",
          "Egypt",
          "France",
          "Germany",
          "Great Britain",
          "Honduras",
          "Japan",
          "Mexico",
          "Netherlands",
          "New Zealand",
          "People's Republic of China",
          "Republic of Korea",
          "Romania",
          "Saudi Arabia",
          "South Africa",
          "Spain",
          "Sweden",
          "United States of America",
          "Zambia"
         ],
         "xaxis": "x",
         "y": {
          "bdata": "EyspFhUUFBURFRQqFRQnFBQUFRMTFBQV",
          "dtype": "i1"
         },
         "yaxis": "y"
        },
        {
         "hovertemplate": "Discipline=Golf<br>NOC=%{x}<br>Count=%{y}<extra></extra>",
         "legendgroup": "Golf",
         "marker": {
          "color": "#FFA15A",
          "pattern": {
           "shape": ""
          }
         },
         "name": "Golf",
         "orientation": "v",
         "showlegend": true,
         "textposition": "auto",
         "type": "bar",
         "x": [
          "Argentina",
          "Australia",
          "Austria",
          "Belgium",
          "Canada",
          "Chile",
          "Chinese Taipei",
          "Colombia",
          "Czech Republic",
          "Denmark",
          "Ecuador",
          "Finland",
          "France",
          "Germany",
          "Great Britain",
          "Hong Kong, China",
          "India",
          "Ireland",
          "Italy",
          "Japan",
          "Malaysia",
          "Mexico",
          "Morocco",
          "Netherlands",
          "New Zealand",
          "Norway",
          "Paraguay",
          "People's Republic of China",
          "Philippines",
          "Poland",
          "Puerto Rico",
          "Republic of Korea",
          "Slovenia",
          "South Africa",
          "Spain",
          "Sweden",
          "Switzerland",
          "Thailand",
          "United States of America",
          "Venezuela",
          "Zimbabwe"
         ],
         "xaxis": "x",
         "y": {
          "bdata": "AQQDAwQCAwICBAEEBAQEAQMEBAQCBAEBAgIBBAMBAQUBAwMEAgQIAQE=",
          "dtype": "i1"
         },
         "yaxis": "y"
        },
        {
         "hovertemplate": "Discipline=Hockey<br>NOC=%{x}<br>Count=%{y}<extra></extra>",
         "legendgroup": "Hockey",
         "marker": {
          "color": "#19d3f3",
          "pattern": {
           "shape": ""
          }
         },
         "name": "Hockey",
         "orientation": "v",
         "showlegend": true,
         "textposition": "auto",
         "type": "bar",
         "x": [
          "Argentina",
          "Australia",
          "Belgium",
          "Canada",
          "Germany",
          "Great Britain",
          "India",
          "Ireland",
          "Japan",
          "Netherlands",
          "New Zealand",
          "People's Republic of China",
          "South Africa",
          "Spain"
         ],
         "xaxis": "x",
         "y": {
          "bdata": "IyMQEiEiIxIgIR4RIyM=",
          "dtype": "i1"
         },
         "yaxis": "y"
        },
        {
         "hovertemplate": "Discipline=Modern Pentathlon<br>NOC=%{x}<br>Count=%{y}<extra></extra>",
         "legendgroup": "Modern Pentathlon",
         "marker": {
          "color": "#FF6692",
          "pattern": {
           "shape": ""
          }
         },
         "name": "Modern Pentathlon",
         "orientation": "v",
         "showlegend": true,
         "textposition": "auto",
         "type": "bar",
         "x": [
          "Argentina",
          "Australia",
          "Belarus",
          "Brazil",
          "Chile",
          "Cuba",
          "Czech Republic",
          "Ecuador",
          "Egypt",
          "France",
          "Germany",
          "Great Britain",
          "Guatemala",
          "Hungary",
          "Ireland",
          "Italy",
          "Japan",
          "Kazakhstan",
          "Latvia",
          "Lithuania",
          "Mexico",
          "People's Republic of China",
          "Poland",
          "ROC",
          "Republic of Korea",
          "Spain",
          "Turkey",
          "Ukraine",
          "United States of America",
          "Uzbekistan"
         ],
         "xaxis": "x",
         "y": {
          "bdata": "AQIDAQECAgEEBAQEAQMBAgMCAQMEBAMDAwEBAQIC",
          "dtype": "i1"
         },
         "yaxis": "y"
        },
        {
         "hovertemplate": "Discipline=Rugby Sevens<br>NOC=%{x}<br>Count=%{y}<extra></extra>",
         "legendgroup": "Rugby Sevens",
         "marker": {
          "color": "#B6E880",
          "pattern": {
           "shape": ""
          }
         },
         "name": "Rugby Sevens",
         "orientation": "v",
         "showlegend": true,
         "textposition": "auto",
         "type": "bar",
         "x": [
          "Argentina",
          "Australia",
          "Brazil",
          "Canada",
          "Fiji",
          "France",
          "Great Britain",
          "Ireland",
          "Japan",
          "Kenya",
          "New Zealand",
          "People's Republic of China",
          "ROC",
          "Republic of Korea",
          "South Africa",
          "United States of America"
         ],
         "xaxis": "x",
         "y": {
          "bdata": "DBcMFxYLFwwgFRcLCwsMGA==",
          "dtype": "i1"
         },
         "yaxis": "y"
        },
        {
         "hovertemplate": "Discipline=Surfing<br>NOC=%{x}<br>Count=%{y}<extra></extra>",
         "legendgroup": "Surfing",
         "marker": {
          "color": "#FF97FF",
          "pattern": {
           "shape": ""
          }
         },
         "name": "Surfing",
         "orientation": "v",
         "showlegend": true,
         "textposition": "auto",
         "type": "bar",
         "x": [
          "Argentina",
          "Australia",
          "Brazil",
          "Chile",
          "Costa Rica",
          "Ecuador",
          "France",
          "Germany",
          "Indonesia",
          "Israel",
          "Italy",
          "Japan",
          "Morocco",
          "New Zealand",
          "Peru",
          "Portugal",
          "South Africa",
          "United States of America"
         ],
         "xaxis": "x",
         "y": {
          "bdata": "AQQEAQIBBAEBAQEDAQIEAgEE",
          "dtype": "i1"
         },
         "yaxis": "y"
        },
        {
         "hovertemplate": "Discipline=Tennis<br>NOC=%{x}<br>Count=%{y}<extra></extra>",
         "legendgroup": "Tennis",
         "marker": {
          "color": "#FECB52",
          "pattern": {
           "shape": ""
          }
         },
         "name": "Tennis",
         "orientation": "v",
         "showlegend": true,
         "textposition": "auto",
         "type": "bar",
         "x": [
          "Argentina",
          "Australia",
          "Austria",
          "Belarus",
          "Belgium",
          "Bolivia",
          "Brazil",
          "Canada",
          "Chile",
          "Chinese Taipei",
          "Colombia",
          "Croatia",
          "Czech Republic",
          "Egypt",
          "Estonia",
          "France",
          "Georgia",
          "Germany",
          "Great Britain",
          "Greece",
          "Hungary",
          "India",
          "Italy",
          "Japan",
          "Kazakhstan",
          "Latvia",
          "Mexico",
          "Netherlands",
          "New Zealand",
          "Paraguay",
          "People's Republic of China",
          "Peru",
          "Poland",
          "Portugal",
          "ROC",
          "Republic of Korea",
          "Romania",
          "Serbia",
          "Slovakia",
          "Spain",
          "Sweden",
          "Switzerland",
          "Tunisia",
          "Ukraine",
          "United States of America",
          "Uzbekistan"
         ],
         "xaxis": "x",
         "y": {
          "bdata": "BwoCAwQBBQQBBQMGBgIBCQEJBQEBAwYKBwECBAEBBQEGAQgBAwQDBwECAQMKAQ==",
          "dtype": "i1"
         },
         "yaxis": "y"
        },
        {
         "hovertemplate": "Discipline=Triathlon<br>NOC=%{x}<br>Count=%{y}<extra></extra>",
         "legendgroup": "Triathlon",
         "marker": {
          "color": "#636efa",
          "pattern": {
           "shape": ""
          }
         },
         "name": "Triathlon",
         "orientation": "v",
         "showlegend": true,
         "textposition": "auto",
         "type": "bar",
         "x": [
          "Argentina",
          "Australia",
          "Austria",
          "Azerbaijan",
          "Belgium",
          "Bermuda",
          "Brazil",
          "Canada",
          "Chile",
          "Czech Republic",
          "Ecuador",
          "Egypt",
          "Estonia",
          "France",
          "Germany",
          "Great Britain",
          "Hong Kong, China",
          "Hungary",
          "Ireland",
          "Israel",
          "Italy",
          "Japan",
          "Luxembourg",
          "Mexico",
          "Morocco",
          "Netherlands",
          "New Zealand",
          "Norway",
          "People's Republic of China",
          "Portugal",
          "ROC",
          "Romania",
          "South Africa",
          "Spain",
          "Switzerland",
          "Syrian Arab Republic",
          "Ukraine",
          "United States of America"
         ],
         "xaxis": "x",
         "y": {
          "bdata": "AQUEAQMBAwQCAgEBAQUEBQEEAgIFBAEEAQMDBAEDBAEEBQQBAQU=",
          "dtype": "i1"
         },
         "yaxis": "y"
        },
        {
         "hovertemplate": "Discipline=Volleyball<br>NOC=%{x}<br>Count=%{y}<extra></extra>",
         "legendgroup": "Volleyball",
         "marker": {
          "color": "#EF553B",
          "pattern": {
           "shape": ""
          }
         },
         "name": "Volleyball",
         "orientation": "v",
         "showlegend": true,
         "textposition": "auto",
         "type": "bar",
         "x": [
          "Argentina",
          "Brazil",
          "Canada",
          "Dominican Republic",
          "France",
          "Islamic Republic of Iran",
          "Italy",
          "Japan",
          "Kenya",
          "People's Republic of China",
          "Poland",
          "ROC",
          "Republic of Korea",
          "Serbia",
          "Tunisia",
          "Turkey",
          "United States of America",
          "Venezuela"
         ],
         "xaxis": "x",
         "y": {
          "bdata": "FxcMDAsMFhYMDAsWDAwKDBYM",
          "dtype": "i1"
         },
         "yaxis": "y"
        },
        {
         "hovertemplate": "Discipline=Archery<br>NOC=%{x}<br>Count=%{y}<extra></extra>",
         "legendgroup": "Archery",
         "marker": {
          "color": "#00cc96",
          "pattern": {
           "shape": ""
          }
         },
         "name": "Archery",
         "orientation": "v",
         "showlegend": true,
         "textposition": "auto",
         "type": "bar",
         "x": [
          "Australia",
          "Bangladesh",
          "Belarus",
          "Belgium",
          "Bhutan",
          "Brazil",
          "Canada",
          "Chad",
          "Chile",
          "Chinese Taipei",
          "Colombia",
          "Czech Republic",
          "Denmark",
          "Ecuador",
          "Egypt",
          "Estonia",
          "Finland",
          "France",
          "Germany",
          "Great Britain",
          "Greece",
          "Hungary",
          "India",
          "Indonesia",
          "Islamic Republic of Iran",
          "Israel",
          "Italy",
          "Japan",
          "Kazakhstan",
          "Luxembourg",
          "Malawi",
          "Malaysia",
          "Mexico",
          "Mongolia",
          "Netherlands",
          "People's Republic of China",
          "Poland",
          "ROC",
          "Republic of Korea",
          "Republic of Moldova",
          "Romania",
          "Slovakia",
          "Slovenia",
          "Spain",
          "Sweden",
          "Tunisia",
          "Turkey",
          "Ukraine",
          "United States of America",
          "Vietnam",
          "Virgin Islands, US"
         ],
         "xaxis": "x",
         "y": {
          "bdata": "AgIDAQECAQEBBgIBAQECAQEEBAUBAQQEAQEDBgMBAQIEAgQGAgMGAgEBAQIBAgIEBgIB",
          "dtype": "i1"
         },
         "yaxis": "y"
        },
        {
         "hovertemplate": "Discipline=Artistic Swimming<br>NOC=%{x}<br>Count=%{y}<extra></extra>",
         "legendgroup": "Artistic Swimming",
         "marker": {
          "color": "#ab63fa",
          "pattern": {
           "shape": ""
          }
         },
         "name": "Artistic Swimming",
         "orientation": "v",
         "showlegend": true,
         "textposition": "auto",
         "type": "bar",
         "x": [
          "Australia",
          "Austria",
          "Belarus",
          "Canada",
          "Colombia",
          "Egypt",
          "France",
          "Great Britain",
          "Greece",
          "Israel",
          "Italy",
          "Japan",
          "Kazakhstan",
          "Liechtenstein",
          "Mexico",
          "Netherlands",
          "People's Republic of China",
          "ROC",
          "South Africa",
          "Spain",
          "Ukraine",
          "United States of America"
         ],
         "xaxis": "x",
         "y": {
          "bdata": "BwICBgIIAgEIAggIAgICAQgHAggIAg==",
          "dtype": "i1"
         },
         "yaxis": "y"
        },
        {
         "hovertemplate": "Discipline=Badminton<br>NOC=%{x}<br>Count=%{y}<extra></extra>",
         "legendgroup": "Badminton",
         "marker": {
          "color": "#FFA15A",
          "pattern": {
           "shape": ""
          }
         },
         "name": "Badminton",
         "orientation": "v",
         "showlegend": true,
         "textposition": "auto",
         "type": "bar",
         "x": [
          "Australia",
          "Austria",
          "Azerbaijan",
          "Belgium",
          "Brazil",
          "Bulgaria",
          "Canada",
          "Chinese Taipei",
          "Denmark",
          "Egypt",
          "Estonia",
          "Finland",
          "France",
          "Germany",
          "Great Britain",
          "Guatemala",
          "Hong Kong, China",
          "Hungary",
          "India",
          "Indonesia",
          "Ireland",
          "Islamic Republic of Iran",
          "Israel",
          "Japan",
          "Malaysia",
          "Maldives",
          "Malta",
          "Mauritius",
          "Mexico",
          "Myanmar",
          "Netherlands",
          "Nigeria",
          "Pakistan",
          "People's Republic of China",
          "Peru",
          "ROC",
          "Refugee Olympic Team",
          "Republic of Korea",
          "Singapore",
          "Slovakia",
          "Spain",
          "Sri Lanka",
          "Suriname",
          "Sweden",
          "Switzerland",
          "Thailand",
          "Turkey",
          "Ukraine",
          "United States of America",
          "Vietnam"
         ],
         "xaxis": "x",
         "y": {
          "bdata": "BAEBAQICCAUIAwIBBAUHAgQCAwoBAQILCAEBAQIBAwIBDgEDAQoCAQIBAQEBBwECBAI=",
          "dtype": "i1"
         },
         "yaxis": "y"
        },
        {
         "hovertemplate": "Discipline=Baseball/Softball<br>NOC=%{x}<br>Count=%{y}<extra></extra>",
         "legendgroup": "Baseball/Softball",
         "marker": {
          "color": "#19d3f3",
          "pattern": {
           "shape": ""
          }
         },
         "name": "Baseball/Softball",
         "orientation": "v",
         "showlegend": true,
         "textposition": "auto",
         "type": "bar",
         "x": [
          "Australia",
          "Canada",
          "Dominican Republic",
          "Israel",
          "Italy",
          "Japan",
          "Mexico",
          "Republic of Korea",
          "United States of America"
         ],
         "xaxis": "x",
         "y": {
          "bdata": "Dw4VFg4lJRYm",
          "dtype": "i1"
         },
         "yaxis": "y"
        },
        {
         "hovertemplate": "Discipline=Cycling BMX Freestyle<br>NOC=%{x}<br>Count=%{y}<extra></extra>",
         "legendgroup": "Cycling BMX Freestyle",
         "marker": {
          "color": "#FF6692",
          "pattern": {
           "shape": ""
          }
         },
         "name": "Cycling BMX Freestyle",
         "orientation": "v",
         "showlegend": true,
         "textposition": "auto",
         "type": "bar",
         "x": [
          "Australia",
          "Chile",
          "Costa Rica",
          "France",
          "Germany",
          "Great Britain",
          "Japan",
          "ROC",
          "Switzerland",
          "United States of America",
          "Venezuela"
         ],
         "xaxis": "x",
         "y": {
          "bdata": "AgEBAQICAgIBBAE=",
          "dtype": "i1"
         },
         "yaxis": "y"
        },
        {
         "hovertemplate": "Discipline=Cycling Track<br>NOC=%{x}<br>Count=%{y}<extra></extra>",
         "legendgroup": "Cycling Track",
         "marker": {
          "color": "#B6E880",
          "pattern": {
           "shape": ""
          }
         },
         "name": "Cycling Track",
         "orientation": "v",
         "showlegend": true,
         "textposition": "auto",
         "type": "bar",
         "x": [
          "Australia",
          "Austria",
          "Belarus",
          "Belgium",
          "Canada",
          "Colombia",
          "Czech Republic",
          "Denmark",
          "Egypt",
          "France",
          "Germany",
          "Great Britain",
          "Greece",
          "Hong Kong, China",
          "Ireland",
          "Italy",
          "Japan",
          "Kazakhstan",
          "Lithuania",
          "Malaysia",
          "Mexico",
          "Netherlands",
          "New Zealand",
          "Norway",
          "People's Republic of China",
          "Poland",
          "Portugal",
          "ROC",
          "Republic of Korea",
          "South Africa",
          "Spain",
          "Suriname",
          "Switzerland",
          "Trinidad and Tobago",
          "Ukraine",
          "United States of America"
         ],
         "xaxis": "x",
         "y": {
          "bdata": "EAMCBQ4BAQcBDBIPAQQGCgcCAgIDCRABBQkBCQEDAgEGAgIJ",
          "dtype": "i1"
         },
         "yaxis": "y"
        },
        {
         "hovertemplate": "Discipline=Diving<br>NOC=%{x}<br>Count=%{y}<extra></extra>",
         "legendgroup": "Diving",
         "marker": {
          "color": "#FF97FF",
          "pattern": {
           "shape": ""
          }
         },
         "name": "Diving",
         "orientation": "v",
         "showlegend": true,
         "textposition": "auto",
         "type": "bar",
         "x": [
          "Australia",
          "Brazil",
          "Canada",
          "Colombia",
          "Dominican Republic",
          "Egypt",
          "France",
          "Germany",
          "Great Britain",
          "Ireland",
          "Italy",
          "Jamaica",
          "Japan",
          "Malaysia",
          "Mexico",
          "Netherlands",
          "New Zealand",
          "Norway",
          "People's Republic of China",
          "Puerto Rico",
          "ROC",
          "Republic of Korea",
          "Singapore",
          "South Africa",
          "Spain",
          "Sweden",
          "Switzerland",
          "Ukraine",
          "United States of America",
          "Venezuela"
         ],
         "xaxis": "x",
         "y": {
          "bdata": "BwQJAgECAwcLAgYBCwUNAgEBCAEGBQICAgEBBgoB",
          "dtype": "i1"
         },
         "yaxis": "y"
        },
        {
         "hovertemplate": "Discipline=Karate<br>NOC=%{x}<br>Count=%{y}<extra></extra>",
         "legendgroup": "Karate",
         "marker": {
          "color": "#FECB52",
          "pattern": {
           "shape": ""
          }
         },
         "name": "Karate",
         "orientation": "v",
         "showlegend": true,
         "textposition": "auto",
         "type": "bar",
         "x": [
          "Australia",
          "Austria",
          "Azerbaijan",
          "Bulgaria",
          "Canada",
          "Chinese Taipei",
          "Croatia",
          "Egypt",
          "France",
          "Georgia",
          "Germany",
          "Hong Kong, China",
          "Hungary",
          "Islamic Republic of Iran",
          "Italy",
          "Japan",
          "Kazakhstan",
          "Kuwait",
          "Latvia",
          "Morocco",
          "New Zealand",
          "North Macedonia",
          "People's Republic of China",
          "Peru",
          "ROC",
          "Refugee Olympic Team",
          "Republic of Korea",
          "Saudi Arabia",
          "Serbia",
          "Spain",
          "Switzerland",
          "Turkey",
          "Ukraine",
          "United States of America",
          "Venezuela"
         ],
         "xaxis": "x",
         "y": {
          "bdata": "AQEDAQECAQQDAQQBAQMFCAUBAQEBAQIBAQIBAQECAQUDBAM=",
          "dtype": "i1"
         },
         "yaxis": "y"
        },
        {
         "hovertemplate": "Discipline=Rhythmic Gymnastics<br>NOC=%{x}<br>Count=%{y}<extra></extra>",
         "legendgroup": "Rhythmic Gymnastics",
         "marker": {
          "color": "#636efa",
          "pattern": {
           "shape": ""
          }
         },
         "name": "Rhythmic Gymnastics",
         "orientation": "v",
         "showlegend": true,
         "textposition": "auto",
         "type": "bar",
         "x": [
          "Australia",
          "Azerbaijan",
          "Belarus",
          "Brazil",
          "Bulgaria",
          "Cape Verde",
          "Egypt",
          "Georgia",
          "Hungary",
          "Israel",
          "Italy",
          "Japan",
          "Kazakhstan",
          "Mexico",
          "People's Republic of China",
          "ROC",
          "Slovenia",
          "Ukraine",
          "United States of America",
          "Uzbekistan"
         ],
         "xaxis": "x",
         "y": {
          "bdata": "BgYHBQcBBgEBBwcHAQEFBwEHBwU=",
          "dtype": "i1"
         },
         "yaxis": "y"
        },
        {
         "hovertemplate": "Discipline=Skateboarding<br>NOC=%{x}<br>Count=%{y}<extra></extra>",
         "legendgroup": "Skateboarding",
         "marker": {
          "color": "#EF553B",
          "pattern": {
           "shape": ""
          }
         },
         "name": "Skateboarding",
         "orientation": "v",
         "showlegend": true,
         "textposition": "auto",
         "type": "bar",
         "x": [
          "Australia",
          "Austria",
          "Belgium",
          "Brazil",
          "Canada",
          "Chile",
          "Colombia",
          "Denmark",
          "Finland",
          "France",
          "Germany",
          "Great Britain",
          "Italy",
          "Japan",
          "Netherlands",
          "People's Republic of China",
          "Peru",
          "Philippines",
          "Poland",
          "Portugal",
          "Puerto Rico",
          "South Africa",
          "Spain",
          "Sweden",
          "United States of America"
         ],
         "xaxis": "x",
         "y": {
          "bdata": "BQECDAQBAQEBBQIBAwoCAgEBAQEBAwQBCw==",
          "dtype": "i1"
         },
         "yaxis": "y"
        },
        {
         "hovertemplate": "Discipline=Sport Climbing<br>NOC=%{x}<br>Count=%{y}<extra></extra>",
         "legendgroup": "Sport Climbing",
         "marker": {
          "color": "#00cc96",
          "pattern": {
           "shape": ""
          }
         },
         "name": "Sport Climbing",
         "orientation": "v",
         "showlegend": true,
         "textposition": "auto",
         "type": "bar",
         "x": [
          "Australia",
          "Austria",
          "Canada",
          "Czech Republic",
          "France",
          "Germany",
          "Great Britain",
          "Italy",
          "Japan",
          "Kazakhstan",
          "People's Republic of China",
          "Poland",
          "ROC",
          "Republic of Korea",
          "Slovenia",
          "South Africa",
          "Spain",
          "Switzerland",
          "United States of America"
         ],
         "xaxis": "x",
         "y": {
          "bdata": "AgICAQQBAQMEAQIBAgICAgEBAw==",
          "dtype": "i1"
         },
         "yaxis": "y"
        },
        {
         "hovertemplate": "Discipline=Trampoline Gymnastics<br>NOC=%{x}<br>Count=%{y}<extra></extra>",
         "legendgroup": "Trampoline Gymnastics",
         "marker": {
          "color": "#ab63fa",
          "pattern": {
           "shape": ""
          }
         },
         "name": "Trampoline Gymnastics",
         "orientation": "v",
         "showlegend": true,
         "textposition": "auto",
         "type": "bar",
         "x": [
          "Australia",
          "Belarus",
          "Canada",
          "Colombia",
          "Egypt",
          "France",
          "Great Britain",
          "Japan",
          "Mexico",
          "New Zealand",
          "People's Republic of China",
          "Portugal",
          "ROC",
          "Ukraine",
          "United States of America"
         ],
         "xaxis": "x",
         "y": {
          "bdata": "AgICAQICAgQBAQQBBAEC",
          "dtype": "i1"
         },
         "yaxis": "y"
        },
        {
         "hovertemplate": "Discipline=Water Polo<br>NOC=%{x}<br>Count=%{y}<extra></extra>",
         "legendgroup": "Water Polo",
         "marker": {
          "color": "#FFA15A",
          "pattern": {
           "shape": ""
          }
         },
         "name": "Water Polo",
         "orientation": "v",
         "showlegend": true,
         "textposition": "auto",
         "type": "bar",
         "x": [
          "Australia",
          "Canada",
          "Croatia",
          "Greece",
          "Hungary",
          "Italy",
          "Japan",
          "Kazakhstan",
          "Montenegro",
          "Netherlands",
          "People's Republic of China",
          "ROC",
          "Serbia",
          "South Africa",
          "Spain",
          "United States of America"
         ],
         "xaxis": "x",
         "y": {
          "bdata": "GQ0MDBkMFwsNDQwMDRYaGQ==",
          "dtype": "i1"
         },
         "yaxis": "y"
        },
        {
         "hovertemplate": "Discipline=3x3 Basketball<br>NOC=%{x}<br>Count=%{y}<extra></extra>",
         "legendgroup": "3x3 Basketball",
         "marker": {
          "color": "#19d3f3",
          "pattern": {
           "shape": ""
          }
         },
         "name": "3x3 Basketball",
         "orientation": "v",
         "showlegend": true,
         "textposition": "auto",
         "type": "bar",
         "x": [
          "Belgium",
          "France",
          "Italy",
          "Japan",
          "Latvia",
          "Mongolia",
          "Netherlands",
          "People's Republic of China",
          "Poland",
          "ROC",
          "Romania",
          "Serbia",
          "United States of America"
         ],
         "xaxis": "x",
         "y": {
          "bdata": "BAMECAMEBAgECAQEBA==",
          "dtype": "i1"
         },
         "yaxis": "y"
        }
       ],
       "layout": {
        "barmode": "relative",
        "legend": {
         "title": {
          "text": "Discipline"
         },
         "tracegroupgap": 0
        },
        "template": {
         "data": {
          "bar": [
           {
            "error_x": {
             "color": "#2a3f5f"
            },
            "error_y": {
             "color": "#2a3f5f"
            },
            "marker": {
             "line": {
              "color": "#E5ECF6",
              "width": 0.5
             },
             "pattern": {
              "fillmode": "overlay",
              "size": 10,
              "solidity": 0.2
             }
            },
            "type": "bar"
           }
          ],
          "barpolar": [
           {
            "marker": {
             "line": {
              "color": "#E5ECF6",
              "width": 0.5
             },
             "pattern": {
              "fillmode": "overlay",
              "size": 10,
              "solidity": 0.2
             }
            },
            "type": "barpolar"
           }
          ],
          "carpet": [
           {
            "aaxis": {
             "endlinecolor": "#2a3f5f",
             "gridcolor": "white",
             "linecolor": "white",
             "minorgridcolor": "white",
             "startlinecolor": "#2a3f5f"
            },
            "baxis": {
             "endlinecolor": "#2a3f5f",
             "gridcolor": "white",
             "linecolor": "white",
             "minorgridcolor": "white",
             "startlinecolor": "#2a3f5f"
            },
            "type": "carpet"
           }
          ],
          "choropleth": [
           {
            "colorbar": {
             "outlinewidth": 0,
             "ticks": ""
            },
            "type": "choropleth"
           }
          ],
          "contour": [
           {
            "colorbar": {
             "outlinewidth": 0,
             "ticks": ""
            },
            "colorscale": [
             [
              0,
              "#0d0887"
             ],
             [
              0.1111111111111111,
              "#46039f"
             ],
             [
              0.2222222222222222,
              "#7201a8"
             ],
             [
              0.3333333333333333,
              "#9c179e"
             ],
             [
              0.4444444444444444,
              "#bd3786"
             ],
             [
              0.5555555555555556,
              "#d8576b"
             ],
             [
              0.6666666666666666,
              "#ed7953"
             ],
             [
              0.7777777777777778,
              "#fb9f3a"
             ],
             [
              0.8888888888888888,
              "#fdca26"
             ],
             [
              1,
              "#f0f921"
             ]
            ],
            "type": "contour"
           }
          ],
          "contourcarpet": [
           {
            "colorbar": {
             "outlinewidth": 0,
             "ticks": ""
            },
            "type": "contourcarpet"
           }
          ],
          "heatmap": [
           {
            "colorbar": {
             "outlinewidth": 0,
             "ticks": ""
            },
            "colorscale": [
             [
              0,
              "#0d0887"
             ],
             [
              0.1111111111111111,
              "#46039f"
             ],
             [
              0.2222222222222222,
              "#7201a8"
             ],
             [
              0.3333333333333333,
              "#9c179e"
             ],
             [
              0.4444444444444444,
              "#bd3786"
             ],
             [
              0.5555555555555556,
              "#d8576b"
             ],
             [
              0.6666666666666666,
              "#ed7953"
             ],
             [
              0.7777777777777778,
              "#fb9f3a"
             ],
             [
              0.8888888888888888,
              "#fdca26"
             ],
             [
              1,
              "#f0f921"
             ]
            ],
            "type": "heatmap"
           }
          ],
          "histogram": [
           {
            "marker": {
             "pattern": {
              "fillmode": "overlay",
              "size": 10,
              "solidity": 0.2
             }
            },
            "type": "histogram"
           }
          ],
          "histogram2d": [
           {
            "colorbar": {
             "outlinewidth": 0,
             "ticks": ""
            },
            "colorscale": [
             [
              0,
              "#0d0887"
             ],
             [
              0.1111111111111111,
              "#46039f"
             ],
             [
              0.2222222222222222,
              "#7201a8"
             ],
             [
              0.3333333333333333,
              "#9c179e"
             ],
             [
              0.4444444444444444,
              "#bd3786"
             ],
             [
              0.5555555555555556,
              "#d8576b"
             ],
             [
              0.6666666666666666,
              "#ed7953"
             ],
             [
              0.7777777777777778,
              "#fb9f3a"
             ],
             [
              0.8888888888888888,
              "#fdca26"
             ],
             [
              1,
              "#f0f921"
             ]
            ],
            "type": "histogram2d"
           }
          ],
          "histogram2dcontour": [
           {
            "colorbar": {
             "outlinewidth": 0,
             "ticks": ""
            },
            "colorscale": [
             [
              0,
              "#0d0887"
             ],
             [
              0.1111111111111111,
              "#46039f"
             ],
             [
              0.2222222222222222,
              "#7201a8"
             ],
             [
              0.3333333333333333,
              "#9c179e"
             ],
             [
              0.4444444444444444,
              "#bd3786"
             ],
             [
              0.5555555555555556,
              "#d8576b"
             ],
             [
              0.6666666666666666,
              "#ed7953"
             ],
             [
              0.7777777777777778,
              "#fb9f3a"
             ],
             [
              0.8888888888888888,
              "#fdca26"
             ],
             [
              1,
              "#f0f921"
             ]
            ],
            "type": "histogram2dcontour"
           }
          ],
          "mesh3d": [
           {
            "colorbar": {
             "outlinewidth": 0,
             "ticks": ""
            },
            "type": "mesh3d"
           }
          ],
          "parcoords": [
           {
            "line": {
             "colorbar": {
              "outlinewidth": 0,
              "ticks": ""
             }
            },
            "type": "parcoords"
           }
          ],
          "pie": [
           {
            "automargin": true,
            "type": "pie"
           }
          ],
          "scatter": [
           {
            "fillpattern": {
             "fillmode": "overlay",
             "size": 10,
             "solidity": 0.2
            },
            "type": "scatter"
           }
          ],
          "scatter3d": [
           {
            "line": {
             "colorbar": {
              "outlinewidth": 0,
              "ticks": ""
             }
            },
            "marker": {
             "colorbar": {
              "outlinewidth": 0,
              "ticks": ""
             }
            },
            "type": "scatter3d"
           }
          ],
          "scattercarpet": [
           {
            "marker": {
             "colorbar": {
              "outlinewidth": 0,
              "ticks": ""
             }
            },
            "type": "scattercarpet"
           }
          ],
          "scattergeo": [
           {
            "marker": {
             "colorbar": {
              "outlinewidth": 0,
              "ticks": ""
             }
            },
            "type": "scattergeo"
           }
          ],
          "scattergl": [
           {
            "marker": {
             "colorbar": {
              "outlinewidth": 0,
              "ticks": ""
             }
            },
            "type": "scattergl"
           }
          ],
          "scattermap": [
           {
            "marker": {
             "colorbar": {
              "outlinewidth": 0,
              "ticks": ""
             }
            },
            "type": "scattermap"
           }
          ],
          "scattermapbox": [
           {
            "marker": {
             "colorbar": {
              "outlinewidth": 0,
              "ticks": ""
             }
            },
            "type": "scattermapbox"
           }
          ],
          "scatterpolar": [
           {
            "marker": {
             "colorbar": {
              "outlinewidth": 0,
              "ticks": ""
             }
            },
            "type": "scatterpolar"
           }
          ],
          "scatterpolargl": [
           {
            "marker": {
             "colorbar": {
              "outlinewidth": 0,
              "ticks": ""
             }
            },
            "type": "scatterpolargl"
           }
          ],
          "scatterternary": [
           {
            "marker": {
             "colorbar": {
              "outlinewidth": 0,
              "ticks": ""
             }
            },
            "type": "scatterternary"
           }
          ],
          "surface": [
           {
            "colorbar": {
             "outlinewidth": 0,
             "ticks": ""
            },
            "colorscale": [
             [
              0,
              "#0d0887"
             ],
             [
              0.1111111111111111,
              "#46039f"
             ],
             [
              0.2222222222222222,
              "#7201a8"
             ],
             [
              0.3333333333333333,
              "#9c179e"
             ],
             [
              0.4444444444444444,
              "#bd3786"
             ],
             [
              0.5555555555555556,
              "#d8576b"
             ],
             [
              0.6666666666666666,
              "#ed7953"
             ],
             [
              0.7777777777777778,
              "#fb9f3a"
             ],
             [
              0.8888888888888888,
              "#fdca26"
             ],
             [
              1,
              "#f0f921"
             ]
            ],
            "type": "surface"
           }
          ],
          "table": [
           {
            "cells": {
             "fill": {
              "color": "#EBF0F8"
             },
             "line": {
              "color": "white"
             }
            },
            "header": {
             "fill": {
              "color": "#C8D4E3"
             },
             "line": {
              "color": "white"
             }
            },
            "type": "table"
           }
          ]
         },
         "layout": {
          "annotationdefaults": {
           "arrowcolor": "#2a3f5f",
           "arrowhead": 0,
           "arrowwidth": 1
          },
          "autotypenumbers": "strict",
          "coloraxis": {
           "colorbar": {
            "outlinewidth": 0,
            "ticks": ""
           }
          },
          "colorscale": {
           "diverging": [
            [
             0,
             "#8e0152"
            ],
            [
             0.1,
             "#c51b7d"
            ],
            [
             0.2,
             "#de77ae"
            ],
            [
             0.3,
             "#f1b6da"
            ],
            [
             0.4,
             "#fde0ef"
            ],
            [
             0.5,
             "#f7f7f7"
            ],
            [
             0.6,
             "#e6f5d0"
            ],
            [
             0.7,
             "#b8e186"
            ],
            [
             0.8,
             "#7fbc41"
            ],
            [
             0.9,
             "#4d9221"
            ],
            [
             1,
             "#276419"
            ]
           ],
           "sequential": [
            [
             0,
             "#0d0887"
            ],
            [
             0.1111111111111111,
             "#46039f"
            ],
            [
             0.2222222222222222,
             "#7201a8"
            ],
            [
             0.3333333333333333,
             "#9c179e"
            ],
            [
             0.4444444444444444,
             "#bd3786"
            ],
            [
             0.5555555555555556,
             "#d8576b"
            ],
            [
             0.6666666666666666,
             "#ed7953"
            ],
            [
             0.7777777777777778,
             "#fb9f3a"
            ],
            [
             0.8888888888888888,
             "#fdca26"
            ],
            [
             1,
             "#f0f921"
            ]
           ],
           "sequentialminus": [
            [
             0,
             "#0d0887"
            ],
            [
             0.1111111111111111,
             "#46039f"
            ],
            [
             0.2222222222222222,
             "#7201a8"
            ],
            [
             0.3333333333333333,
             "#9c179e"
            ],
            [
             0.4444444444444444,
             "#bd3786"
            ],
            [
             0.5555555555555556,
             "#d8576b"
            ],
            [
             0.6666666666666666,
             "#ed7953"
            ],
            [
             0.7777777777777778,
             "#fb9f3a"
            ],
            [
             0.8888888888888888,
             "#fdca26"
            ],
            [
             1,
             "#f0f921"
            ]
           ]
          },
          "colorway": [
           "#636efa",
           "#EF553B",
           "#00cc96",
           "#ab63fa",
           "#FFA15A",
           "#19d3f3",
           "#FF6692",
           "#B6E880",
           "#FF97FF",
           "#FECB52"
          ],
          "font": {
           "color": "#2a3f5f"
          },
          "geo": {
           "bgcolor": "white",
           "lakecolor": "white",
           "landcolor": "#E5ECF6",
           "showlakes": true,
           "showland": true,
           "subunitcolor": "white"
          },
          "hoverlabel": {
           "align": "left"
          },
          "hovermode": "closest",
          "mapbox": {
           "style": "light"
          },
          "paper_bgcolor": "white",
          "plot_bgcolor": "#E5ECF6",
          "polar": {
           "angularaxis": {
            "gridcolor": "white",
            "linecolor": "white",
            "ticks": ""
           },
           "bgcolor": "#E5ECF6",
           "radialaxis": {
            "gridcolor": "white",
            "linecolor": "white",
            "ticks": ""
           }
          },
          "scene": {
           "xaxis": {
            "backgroundcolor": "#E5ECF6",
            "gridcolor": "white",
            "gridwidth": 2,
            "linecolor": "white",
            "showbackground": true,
            "ticks": "",
            "zerolinecolor": "white"
           },
           "yaxis": {
            "backgroundcolor": "#E5ECF6",
            "gridcolor": "white",
            "gridwidth": 2,
            "linecolor": "white",
            "showbackground": true,
            "ticks": "",
            "zerolinecolor": "white"
           },
           "zaxis": {
            "backgroundcolor": "#E5ECF6",
            "gridcolor": "white",
            "gridwidth": 2,
            "linecolor": "white",
            "showbackground": true,
            "ticks": "",
            "zerolinecolor": "white"
           }
          },
          "shapedefaults": {
           "line": {
            "color": "#2a3f5f"
           }
          },
          "ternary": {
           "aaxis": {
            "gridcolor": "white",
            "linecolor": "white",
            "ticks": ""
           },
           "baxis": {
            "gridcolor": "white",
            "linecolor": "white",
            "ticks": ""
           },
           "bgcolor": "#E5ECF6",
           "caxis": {
            "gridcolor": "white",
            "linecolor": "white",
            "ticks": ""
           }
          },
          "title": {
           "x": 0.05
          },
          "xaxis": {
           "automargin": true,
           "gridcolor": "white",
           "linecolor": "white",
           "ticks": "",
           "title": {
            "standoff": 15
           },
           "zerolinecolor": "white",
           "zerolinewidth": 2
          },
          "yaxis": {
           "automargin": true,
           "gridcolor": "white",
           "linecolor": "white",
           "ticks": "",
           "title": {
            "standoff": 15
           },
           "zerolinecolor": "white",
           "zerolinewidth": 2
          }
         }
        },
        "title": {
         "text": "Number of Athletes by Country and Discipline"
        },
        "xaxis": {
         "anchor": "y",
         "domain": [
          0,
          1
         ],
         "title": {
          "text": "NOC"
         }
        },
        "yaxis": {
         "anchor": "x",
         "domain": [
          0,
          1
         ],
         "title": {
          "text": "Count"
         }
        }
       }
      }
     },
     "metadata": {},
     "output_type": "display_data"
    }
   ],
   "source": [
    "fig = px.bar(pd_athletes_query,x='NOC',y='Count',color='Discipline',title='Number of Athletes by Country and Discipline')\n",
    "fig.show()"
   ]
  },
  {
   "cell_type": "code",
   "execution_count": 166,
   "metadata": {},
   "outputs": [
    {
     "data": {
      "text/plain": [
       "Discipline\n",
       "Athletics       2068\n",
       "Swimming         743\n",
       "Football         567\n",
       "Rowing           496\n",
       "Hockey           406\n",
       "Judo             373\n",
       "Handball         343\n",
       "Shooting         342\n",
       "Sailing          336\n",
       "Rugby Sevens     283\n",
       "Name: count, dtype: int64"
      ]
     },
     "execution_count": 166,
     "metadata": {},
     "output_type": "execute_result"
    }
   ],
   "source": [
    "athletes['Discipline'].value_counts().head(10)"
   ]
  },
  {
   "cell_type": "code",
   "execution_count": 167,
   "metadata": {},
   "outputs": [
    {
     "data": {
      "text/plain": [
       "Discipline\n",
       "Athletics    195\n",
       "Swimming     181\n",
       "Football      24\n",
       "Name: count, dtype: int64"
      ]
     },
     "execution_count": 167,
     "metadata": {},
     "output_type": "execute_result"
    }
   ],
   "source": [
    "pd_athletes_query = pd_athletes_query.loc[pd_athletes_query['Discipline'].isin(['Athletics', 'Swimming', 'Football'])]\n",
    "pd_athletes_query.Discipline.value_counts()"
   ]
  },
  {
   "cell_type": "code",
   "execution_count": 168,
   "metadata": {},
   "outputs": [
    {
     "data": {
      "application/vnd.plotly.v1+json": {
       "config": {
        "plotlyServerURL": "https://plot.ly"
       },
       "data": [
        {
         "hovertemplate": "Discipline=Athletics<br>NOC=%{x}<br>Count=%{y}<extra></extra>",
         "legendgroup": "Athletics",
         "marker": {
          "color": "#636efa",
          "pattern": {
           "shape": ""
          }
         },
         "name": "Athletics",
         "orientation": "v",
         "showlegend": true,
         "textposition": "auto",
         "type": "bar",
         "x": [
          "Afghanistan",
          "Albania",
          "Algeria",
          "American Samoa",
          "Andorra",
          "Angola",
          "Antigua and Barbuda",
          "Argentina",
          "Armenia",
          "Australia",
          "Austria",
          "Azerbaijan",
          "Bahamas",
          "Bahrain",
          "Bangladesh",
          "Barbados",
          "Belarus",
          "Belgium",
          "Belize",
          "Benin",
          "Bolivia",
          "Bosnia and Herzegovina",
          "Botswana",
          "Brazil",
          "Brunei Darussalam",
          "Bulgaria",
          "Burkina Faso",
          "Burundi",
          "Cambodia",
          "Cameroon",
          "Canada",
          "Cape Verde",
          "Cayman Islands",
          "Central African Republic",
          "Chad",
          "Chile",
          "Chinese Taipei",
          "Colombia",
          "Comoros",
          "Congo",
          "Cook Islands",
          "Costa Rica",
          "Croatia",
          "Cuba",
          "Cyprus",
          "Czech Republic",
          "Côte d'Ivoire",
          "Democratic Republic of Timor-Leste",
          "Democratic Republic of the Congo",
          "Denmark",
          "Djibouti",
          "Dominica",
          "Dominican Republic",
          "Ecuador",
          "Egypt",
          "El Salvador",
          "Equatorial Guinea",
          "Eritrea",
          "Estonia",
          "Eswatini",
          "Ethiopia",
          "Federated States of Micronesia",
          "Fiji",
          "Finland",
          "France",
          "Gabon",
          "Gambia",
          "Georgia",
          "Germany",
          "Ghana",
          "Great Britain",
          "Greece",
          "Grenada",
          "Guam",
          "Guatemala",
          "Guinea",
          "Guinea-Bissau",
          "Guyana",
          "Haiti",
          "Honduras",
          "Hong Kong, China",
          "Hungary",
          "Iceland",
          "India",
          "Indonesia",
          "Iraq",
          "Ireland",
          "Islamic Republic of Iran",
          "Israel",
          "Italy",
          "Jamaica",
          "Japan",
          "Jordan",
          "Kazakhstan",
          "Kenya",
          "Kiribati",
          "Kosovo",
          "Kuwait",
          "Kyrgyzstan",
          "Lao People's Democratic Republic",
          "Latvia",
          "Lebanon",
          "Lesotho",
          "Liberia",
          "Libya",
          "Lithuania",
          "Luxembourg",
          "Madagascar",
          "Malawi",
          "Malaysia",
          "Maldives",
          "Mali",
          "Malta",
          "Mauritania",
          "Mauritius",
          "Mexico",
          "Monaco",
          "Mongolia",
          "Montenegro",
          "Morocco",
          "Mozambique",
          "Namibia",
          "Nauru",
          "Nepal",
          "Netherlands",
          "New Zealand",
          "Nicaragua",
          "Niger",
          "Nigeria",
          "North Macedonia",
          "Norway",
          "Oman",
          "Pakistan",
          "Palau",
          "Palestine",
          "Panama",
          "Papua New Guinea",
          "Paraguay",
          "People's Republic of China",
          "Peru",
          "Philippines",
          "Poland",
          "Portugal",
          "Puerto Rico",
          "Qatar",
          "ROC",
          "Refugee Olympic Team",
          "Republic of Korea",
          "Republic of Moldova",
          "Romania",
          "Rwanda",
          "Saint Kitts and Nevis",
          "Saint Lucia",
          "Samoa",
          "Sao Tome and Principe",
          "Saudi Arabia",
          "Senegal",
          "Serbia",
          "Seychelles",
          "Sierra Leone",
          "Singapore",
          "Slovakia",
          "Slovenia",
          "Solomon Islands",
          "Somalia",
          "South Africa",
          "South Sudan",
          "Spain",
          "Sri Lanka",
          "Sudan",
          "Sweden",
          "Switzerland",
          "Syrian Arab Republic",
          "Tajikistan",
          "Thailand",
          "Togo",
          "Tonga",
          "Trinidad and Tobago",
          "Tunisia",
          "Turkey",
          "Turkmenistan",
          "Tuvalu",
          "Uganda",
          "Ukraine",
          "United Republic of Tanzania",
          "United States of America",
          "Uruguay",
          "Uzbekistan",
          "Venezuela",
          "Vietnam",
          "Virgin Islands, British",
          "Virgin Islands, US",
          "Yemen",
          "Zambia",
          "Zimbabwe"
         ],
         "xaxis": "x",
         "y": {
          "bdata": "AgABAAgAAQABAAEAAgAFAAEAQQAHAAIADgANAAEABgAhAB4AAgADAAIAAgAJADUAAQAFAAIAAwABAAEAOAABAAIAAQABAAMABgAYAAIAAgABAAMABwASAAMAHwADAAEAAQAQAAIAAgAHABIABQABAAIACQAHAAEAJwABAAEAFgBCAAEAAgAFAF8ABwBLABQABAABAAkAAQABAAMAAQABAAIAEwABABkAAgACABsABAAJAEkANgBGAAEACgAlAAEAAQACAAMAAQAHAAEAAgADAAEACQACAAEAAQACAAEAAgABAAIAAQASAAEAAwACABAAAQAEAAEAAQAsAAwAAQACABQAAQAPAAIAAgABAAEABAABAAIANQAHAAIAQAATAAQACAAKAAYABgAFAAoAAgACAAEAAQABAAIAAQAFAAEAAQABAAkABwABAAEAHgACADoAAgABABQAHgABAAEAAgABAAEAFgADABgAAQACABIAMAACAJAAAwAHAAQAAQACAAEAAQACAAEA",
          "dtype": "i2"
         },
         "yaxis": "y"
        },
        {
         "hovertemplate": "Discipline=Swimming<br>NOC=%{x}<br>Count=%{y}<extra></extra>",
         "legendgroup": "Swimming",
         "marker": {
          "color": "#EF553B",
          "pattern": {
           "shape": ""
          }
         },
         "name": "Swimming",
         "orientation": "v",
         "showlegend": true,
         "textposition": "auto",
         "type": "bar",
         "x": [
          "Afghanistan",
          "Albania",
          "Algeria",
          "American Samoa",
          "Angola",
          "Antigua and Barbuda",
          "Argentina",
          "Armenia",
          "Aruba",
          "Australia",
          "Austria",
          "Azerbaijan",
          "Bahamas",
          "Bahrain",
          "Bangladesh",
          "Barbados",
          "Belarus",
          "Belgium",
          "Benin",
          "Bhutan",
          "Bolivia",
          "Bosnia and Herzegovina",
          "Botswana",
          "Brazil",
          "Brunei Darussalam",
          "Bulgaria",
          "Burkina Faso",
          "Burundi",
          "Cambodia",
          "Cameroon",
          "Canada",
          "Cape Verde",
          "Cayman Islands",
          "Central African Republic",
          "Chile",
          "Chinese Taipei",
          "Colombia",
          "Congo",
          "Cook Islands",
          "Costa Rica",
          "Croatia",
          "Cuba",
          "Cyprus",
          "Czech Republic",
          "Côte d'Ivoire",
          "Democratic Republic of Timor-Leste",
          "Denmark",
          "Djibouti",
          "Dominican Republic",
          "Ecuador",
          "Egypt",
          "El Salvador",
          "Equatorial Guinea",
          "Eritrea",
          "Estonia",
          "Eswatini",
          "Ethiopia",
          "Federated States of Micronesia",
          "Fiji",
          "Finland",
          "France",
          "Gabon",
          "Georgia",
          "Germany",
          "Ghana",
          "Great Britain",
          "Greece",
          "Grenada",
          "Guam",
          "Guatemala",
          "Guinea",
          "Guyana",
          "Haiti",
          "Honduras",
          "Hong Kong, China",
          "Hungary",
          "Iceland",
          "India",
          "Indonesia",
          "Ireland",
          "Islamic Republic of Iran",
          "Israel",
          "Italy",
          "Jamaica",
          "Japan",
          "Jordan",
          "Kazakhstan",
          "Kenya",
          "Kosovo",
          "Kuwait",
          "Kyrgyzstan",
          "Lao People's Democratic Republic",
          "Latvia",
          "Lebanon",
          "Libya",
          "Liechtenstein",
          "Lithuania",
          "Luxembourg",
          "Madagascar",
          "Malawi",
          "Malaysia",
          "Maldives",
          "Mali",
          "Malta",
          "Marshall Islands",
          "Mauritius",
          "Mexico",
          "Monaco",
          "Mongolia",
          "Montenegro",
          "Morocco",
          "Mozambique",
          "Nepal",
          "Netherlands",
          "New Zealand",
          "Nicaragua",
          "Niger",
          "Nigeria",
          "North Macedonia",
          "Norway",
          "Oman",
          "Pakistan",
          "Palau",
          "Palestine",
          "Panama",
          "Papua New Guinea",
          "Paraguay",
          "People's Republic of China",
          "Peru",
          "Philippines",
          "Poland",
          "Portugal",
          "Puerto Rico",
          "Qatar",
          "ROC",
          "Refugee Olympic Team",
          "Republic of Korea",
          "Republic of Moldova",
          "Romania",
          "Rwanda",
          "Saint Lucia",
          "San Marino",
          "Saudi Arabia",
          "Senegal",
          "Serbia",
          "Seychelles",
          "Sierra Leone",
          "Singapore",
          "Slovakia",
          "Slovenia",
          "Solomon Islands",
          "South Africa",
          "Spain",
          "Sri Lanka",
          "St Vincent and the Grenadines",
          "Sudan",
          "Suriname",
          "Sweden",
          "Switzerland",
          "Syrian Arab Republic",
          "Tajikistan",
          "Thailand",
          "Togo",
          "Tonga",
          "Trinidad and Tobago",
          "Tunisia",
          "Turkey",
          "Turkmenistan",
          "Uganda",
          "Ukraine",
          "United Arab Emirates",
          "United States of America",
          "Uruguay",
          "Uzbekistan",
          "Venezuela",
          "Vietnam",
          "Virgin Islands, British",
          "Virgin Islands, US",
          "Yemen",
          "Zambia",
          "Zimbabwe"
         ],
         "xaxis": "x",
         "y": {
          "bdata": "AQICAQICAwICHgcCAgICAQUCAgECAgERAQUCAgICFAICAQIDAgECAgICAggBAgkBAgIEAgEBAwIBAgIFEQICGAIbBwICAgICAgIGFAIDAgYBCh0CGQECAgICAQICAgECBAICAgICAQICAQMCAgICAgIOBgICAQIEAQICAQECAhkBAggGAgIcAggCAwICAQECBQICAwIDAQwIAgICAQoGAQICAQICAQoCAgYBJwICAwIBAgECAg==",
          "dtype": "i1"
         },
         "yaxis": "y"
        },
        {
         "hovertemplate": "Discipline=Football<br>NOC=%{x}<br>Count=%{y}<extra></extra>",
         "legendgroup": "Football",
         "marker": {
          "color": "#00cc96",
          "pattern": {
           "shape": ""
          }
         },
         "name": "Football",
         "orientation": "v",
         "showlegend": true,
         "textposition": "auto",
         "type": "bar",
         "x": [
          "Argentina",
          "Australia",
          "Brazil",
          "Canada",
          "Chile",
          "Côte d'Ivoire",
          "Egypt",
          "France",
          "Germany",
          "Great Britain",
          "Honduras",
          "Japan",
          "Mexico",
          "Netherlands",
          "New Zealand",
          "People's Republic of China",
          "Republic of Korea",
          "Romania",
          "Saudi Arabia",
          "South Africa",
          "Spain",
          "Sweden",
          "United States of America",
          "Zambia"
         ],
         "xaxis": "x",
         "y": {
          "bdata": "EyspFhUUFBURFRQqFRQnFBQUFRMTFBQV",
          "dtype": "i1"
         },
         "yaxis": "y"
        }
       ],
       "layout": {
        "barmode": "relative",
        "legend": {
         "title": {
          "text": "Discipline"
         },
         "tracegroupgap": 0
        },
        "template": {
         "data": {
          "bar": [
           {
            "error_x": {
             "color": "#2a3f5f"
            },
            "error_y": {
             "color": "#2a3f5f"
            },
            "marker": {
             "line": {
              "color": "#E5ECF6",
              "width": 0.5
             },
             "pattern": {
              "fillmode": "overlay",
              "size": 10,
              "solidity": 0.2
             }
            },
            "type": "bar"
           }
          ],
          "barpolar": [
           {
            "marker": {
             "line": {
              "color": "#E5ECF6",
              "width": 0.5
             },
             "pattern": {
              "fillmode": "overlay",
              "size": 10,
              "solidity": 0.2
             }
            },
            "type": "barpolar"
           }
          ],
          "carpet": [
           {
            "aaxis": {
             "endlinecolor": "#2a3f5f",
             "gridcolor": "white",
             "linecolor": "white",
             "minorgridcolor": "white",
             "startlinecolor": "#2a3f5f"
            },
            "baxis": {
             "endlinecolor": "#2a3f5f",
             "gridcolor": "white",
             "linecolor": "white",
             "minorgridcolor": "white",
             "startlinecolor": "#2a3f5f"
            },
            "type": "carpet"
           }
          ],
          "choropleth": [
           {
            "colorbar": {
             "outlinewidth": 0,
             "ticks": ""
            },
            "type": "choropleth"
           }
          ],
          "contour": [
           {
            "colorbar": {
             "outlinewidth": 0,
             "ticks": ""
            },
            "colorscale": [
             [
              0,
              "#0d0887"
             ],
             [
              0.1111111111111111,
              "#46039f"
             ],
             [
              0.2222222222222222,
              "#7201a8"
             ],
             [
              0.3333333333333333,
              "#9c179e"
             ],
             [
              0.4444444444444444,
              "#bd3786"
             ],
             [
              0.5555555555555556,
              "#d8576b"
             ],
             [
              0.6666666666666666,
              "#ed7953"
             ],
             [
              0.7777777777777778,
              "#fb9f3a"
             ],
             [
              0.8888888888888888,
              "#fdca26"
             ],
             [
              1,
              "#f0f921"
             ]
            ],
            "type": "contour"
           }
          ],
          "contourcarpet": [
           {
            "colorbar": {
             "outlinewidth": 0,
             "ticks": ""
            },
            "type": "contourcarpet"
           }
          ],
          "heatmap": [
           {
            "colorbar": {
             "outlinewidth": 0,
             "ticks": ""
            },
            "colorscale": [
             [
              0,
              "#0d0887"
             ],
             [
              0.1111111111111111,
              "#46039f"
             ],
             [
              0.2222222222222222,
              "#7201a8"
             ],
             [
              0.3333333333333333,
              "#9c179e"
             ],
             [
              0.4444444444444444,
              "#bd3786"
             ],
             [
              0.5555555555555556,
              "#d8576b"
             ],
             [
              0.6666666666666666,
              "#ed7953"
             ],
             [
              0.7777777777777778,
              "#fb9f3a"
             ],
             [
              0.8888888888888888,
              "#fdca26"
             ],
             [
              1,
              "#f0f921"
             ]
            ],
            "type": "heatmap"
           }
          ],
          "histogram": [
           {
            "marker": {
             "pattern": {
              "fillmode": "overlay",
              "size": 10,
              "solidity": 0.2
             }
            },
            "type": "histogram"
           }
          ],
          "histogram2d": [
           {
            "colorbar": {
             "outlinewidth": 0,
             "ticks": ""
            },
            "colorscale": [
             [
              0,
              "#0d0887"
             ],
             [
              0.1111111111111111,
              "#46039f"
             ],
             [
              0.2222222222222222,
              "#7201a8"
             ],
             [
              0.3333333333333333,
              "#9c179e"
             ],
             [
              0.4444444444444444,
              "#bd3786"
             ],
             [
              0.5555555555555556,
              "#d8576b"
             ],
             [
              0.6666666666666666,
              "#ed7953"
             ],
             [
              0.7777777777777778,
              "#fb9f3a"
             ],
             [
              0.8888888888888888,
              "#fdca26"
             ],
             [
              1,
              "#f0f921"
             ]
            ],
            "type": "histogram2d"
           }
          ],
          "histogram2dcontour": [
           {
            "colorbar": {
             "outlinewidth": 0,
             "ticks": ""
            },
            "colorscale": [
             [
              0,
              "#0d0887"
             ],
             [
              0.1111111111111111,
              "#46039f"
             ],
             [
              0.2222222222222222,
              "#7201a8"
             ],
             [
              0.3333333333333333,
              "#9c179e"
             ],
             [
              0.4444444444444444,
              "#bd3786"
             ],
             [
              0.5555555555555556,
              "#d8576b"
             ],
             [
              0.6666666666666666,
              "#ed7953"
             ],
             [
              0.7777777777777778,
              "#fb9f3a"
             ],
             [
              0.8888888888888888,
              "#fdca26"
             ],
             [
              1,
              "#f0f921"
             ]
            ],
            "type": "histogram2dcontour"
           }
          ],
          "mesh3d": [
           {
            "colorbar": {
             "outlinewidth": 0,
             "ticks": ""
            },
            "type": "mesh3d"
           }
          ],
          "parcoords": [
           {
            "line": {
             "colorbar": {
              "outlinewidth": 0,
              "ticks": ""
             }
            },
            "type": "parcoords"
           }
          ],
          "pie": [
           {
            "automargin": true,
            "type": "pie"
           }
          ],
          "scatter": [
           {
            "fillpattern": {
             "fillmode": "overlay",
             "size": 10,
             "solidity": 0.2
            },
            "type": "scatter"
           }
          ],
          "scatter3d": [
           {
            "line": {
             "colorbar": {
              "outlinewidth": 0,
              "ticks": ""
             }
            },
            "marker": {
             "colorbar": {
              "outlinewidth": 0,
              "ticks": ""
             }
            },
            "type": "scatter3d"
           }
          ],
          "scattercarpet": [
           {
            "marker": {
             "colorbar": {
              "outlinewidth": 0,
              "ticks": ""
             }
            },
            "type": "scattercarpet"
           }
          ],
          "scattergeo": [
           {
            "marker": {
             "colorbar": {
              "outlinewidth": 0,
              "ticks": ""
             }
            },
            "type": "scattergeo"
           }
          ],
          "scattergl": [
           {
            "marker": {
             "colorbar": {
              "outlinewidth": 0,
              "ticks": ""
             }
            },
            "type": "scattergl"
           }
          ],
          "scattermap": [
           {
            "marker": {
             "colorbar": {
              "outlinewidth": 0,
              "ticks": ""
             }
            },
            "type": "scattermap"
           }
          ],
          "scattermapbox": [
           {
            "marker": {
             "colorbar": {
              "outlinewidth": 0,
              "ticks": ""
             }
            },
            "type": "scattermapbox"
           }
          ],
          "scatterpolar": [
           {
            "marker": {
             "colorbar": {
              "outlinewidth": 0,
              "ticks": ""
             }
            },
            "type": "scatterpolar"
           }
          ],
          "scatterpolargl": [
           {
            "marker": {
             "colorbar": {
              "outlinewidth": 0,
              "ticks": ""
             }
            },
            "type": "scatterpolargl"
           }
          ],
          "scatterternary": [
           {
            "marker": {
             "colorbar": {
              "outlinewidth": 0,
              "ticks": ""
             }
            },
            "type": "scatterternary"
           }
          ],
          "surface": [
           {
            "colorbar": {
             "outlinewidth": 0,
             "ticks": ""
            },
            "colorscale": [
             [
              0,
              "#0d0887"
             ],
             [
              0.1111111111111111,
              "#46039f"
             ],
             [
              0.2222222222222222,
              "#7201a8"
             ],
             [
              0.3333333333333333,
              "#9c179e"
             ],
             [
              0.4444444444444444,
              "#bd3786"
             ],
             [
              0.5555555555555556,
              "#d8576b"
             ],
             [
              0.6666666666666666,
              "#ed7953"
             ],
             [
              0.7777777777777778,
              "#fb9f3a"
             ],
             [
              0.8888888888888888,
              "#fdca26"
             ],
             [
              1,
              "#f0f921"
             ]
            ],
            "type": "surface"
           }
          ],
          "table": [
           {
            "cells": {
             "fill": {
              "color": "#EBF0F8"
             },
             "line": {
              "color": "white"
             }
            },
            "header": {
             "fill": {
              "color": "#C8D4E3"
             },
             "line": {
              "color": "white"
             }
            },
            "type": "table"
           }
          ]
         },
         "layout": {
          "annotationdefaults": {
           "arrowcolor": "#2a3f5f",
           "arrowhead": 0,
           "arrowwidth": 1
          },
          "autotypenumbers": "strict",
          "coloraxis": {
           "colorbar": {
            "outlinewidth": 0,
            "ticks": ""
           }
          },
          "colorscale": {
           "diverging": [
            [
             0,
             "#8e0152"
            ],
            [
             0.1,
             "#c51b7d"
            ],
            [
             0.2,
             "#de77ae"
            ],
            [
             0.3,
             "#f1b6da"
            ],
            [
             0.4,
             "#fde0ef"
            ],
            [
             0.5,
             "#f7f7f7"
            ],
            [
             0.6,
             "#e6f5d0"
            ],
            [
             0.7,
             "#b8e186"
            ],
            [
             0.8,
             "#7fbc41"
            ],
            [
             0.9,
             "#4d9221"
            ],
            [
             1,
             "#276419"
            ]
           ],
           "sequential": [
            [
             0,
             "#0d0887"
            ],
            [
             0.1111111111111111,
             "#46039f"
            ],
            [
             0.2222222222222222,
             "#7201a8"
            ],
            [
             0.3333333333333333,
             "#9c179e"
            ],
            [
             0.4444444444444444,
             "#bd3786"
            ],
            [
             0.5555555555555556,
             "#d8576b"
            ],
            [
             0.6666666666666666,
             "#ed7953"
            ],
            [
             0.7777777777777778,
             "#fb9f3a"
            ],
            [
             0.8888888888888888,
             "#fdca26"
            ],
            [
             1,
             "#f0f921"
            ]
           ],
           "sequentialminus": [
            [
             0,
             "#0d0887"
            ],
            [
             0.1111111111111111,
             "#46039f"
            ],
            [
             0.2222222222222222,
             "#7201a8"
            ],
            [
             0.3333333333333333,
             "#9c179e"
            ],
            [
             0.4444444444444444,
             "#bd3786"
            ],
            [
             0.5555555555555556,
             "#d8576b"
            ],
            [
             0.6666666666666666,
             "#ed7953"
            ],
            [
             0.7777777777777778,
             "#fb9f3a"
            ],
            [
             0.8888888888888888,
             "#fdca26"
            ],
            [
             1,
             "#f0f921"
            ]
           ]
          },
          "colorway": [
           "#636efa",
           "#EF553B",
           "#00cc96",
           "#ab63fa",
           "#FFA15A",
           "#19d3f3",
           "#FF6692",
           "#B6E880",
           "#FF97FF",
           "#FECB52"
          ],
          "font": {
           "color": "#2a3f5f"
          },
          "geo": {
           "bgcolor": "white",
           "lakecolor": "white",
           "landcolor": "#E5ECF6",
           "showlakes": true,
           "showland": true,
           "subunitcolor": "white"
          },
          "hoverlabel": {
           "align": "left"
          },
          "hovermode": "closest",
          "mapbox": {
           "style": "light"
          },
          "paper_bgcolor": "white",
          "plot_bgcolor": "#E5ECF6",
          "polar": {
           "angularaxis": {
            "gridcolor": "white",
            "linecolor": "white",
            "ticks": ""
           },
           "bgcolor": "#E5ECF6",
           "radialaxis": {
            "gridcolor": "white",
            "linecolor": "white",
            "ticks": ""
           }
          },
          "scene": {
           "xaxis": {
            "backgroundcolor": "#E5ECF6",
            "gridcolor": "white",
            "gridwidth": 2,
            "linecolor": "white",
            "showbackground": true,
            "ticks": "",
            "zerolinecolor": "white"
           },
           "yaxis": {
            "backgroundcolor": "#E5ECF6",
            "gridcolor": "white",
            "gridwidth": 2,
            "linecolor": "white",
            "showbackground": true,
            "ticks": "",
            "zerolinecolor": "white"
           },
           "zaxis": {
            "backgroundcolor": "#E5ECF6",
            "gridcolor": "white",
            "gridwidth": 2,
            "linecolor": "white",
            "showbackground": true,
            "ticks": "",
            "zerolinecolor": "white"
           }
          },
          "shapedefaults": {
           "line": {
            "color": "#2a3f5f"
           }
          },
          "ternary": {
           "aaxis": {
            "gridcolor": "white",
            "linecolor": "white",
            "ticks": ""
           },
           "baxis": {
            "gridcolor": "white",
            "linecolor": "white",
            "ticks": ""
           },
           "bgcolor": "#E5ECF6",
           "caxis": {
            "gridcolor": "white",
            "linecolor": "white",
            "ticks": ""
           }
          },
          "title": {
           "x": 0.05
          },
          "xaxis": {
           "automargin": true,
           "gridcolor": "white",
           "linecolor": "white",
           "ticks": "",
           "title": {
            "standoff": 15
           },
           "zerolinecolor": "white",
           "zerolinewidth": 2
          },
          "yaxis": {
           "automargin": true,
           "gridcolor": "white",
           "linecolor": "white",
           "ticks": "",
           "title": {
            "standoff": 15
           },
           "zerolinecolor": "white",
           "zerolinewidth": 2
          }
         }
        },
        "title": {
         "text": "Number of Athletes by Country and Discipline"
        },
        "xaxis": {
         "anchor": "y",
         "domain": [
          0,
          1
         ],
         "title": {
          "text": "NOC"
         }
        },
        "yaxis": {
         "anchor": "x",
         "domain": [
          0,
          1
         ],
         "title": {
          "text": "Count"
         }
        }
       }
      }
     },
     "metadata": {},
     "output_type": "display_data"
    }
   ],
   "source": [
    "fig = px.bar(pd_athletes_query,x='NOC',y='Count',color='Discipline',title='Number of Athletes by Country and Discipline')\n",
    "fig.show()"
   ]
  },
  {
   "cell_type": "code",
   "execution_count": 169,
   "metadata": {},
   "outputs": [
    {
     "data": {
      "text/html": [
       "<div>\n",
       "<style scoped>\n",
       "    .dataframe tbody tr th:only-of-type {\n",
       "        vertical-align: middle;\n",
       "    }\n",
       "\n",
       "    .dataframe tbody tr th {\n",
       "        vertical-align: top;\n",
       "    }\n",
       "\n",
       "    .dataframe thead th {\n",
       "        text-align: right;\n",
       "    }\n",
       "</style>\n",
       "<table border=\"1\" class=\"dataframe\">\n",
       "  <thead>\n",
       "    <tr style=\"text-align: right;\">\n",
       "      <th></th>\n",
       "      <th>Discipline</th>\n",
       "      <th>Female</th>\n",
       "      <th>Male</th>\n",
       "      <th>Total</th>\n",
       "    </tr>\n",
       "  </thead>\n",
       "  <tbody>\n",
       "    <tr>\n",
       "      <th>0</th>\n",
       "      <td>3x3 Basketball</td>\n",
       "      <td>32</td>\n",
       "      <td>32</td>\n",
       "      <td>64</td>\n",
       "    </tr>\n",
       "    <tr>\n",
       "      <th>1</th>\n",
       "      <td>Archery</td>\n",
       "      <td>64</td>\n",
       "      <td>64</td>\n",
       "      <td>128</td>\n",
       "    </tr>\n",
       "    <tr>\n",
       "      <th>2</th>\n",
       "      <td>Artistic Gymnastics</td>\n",
       "      <td>98</td>\n",
       "      <td>98</td>\n",
       "      <td>196</td>\n",
       "    </tr>\n",
       "    <tr>\n",
       "      <th>3</th>\n",
       "      <td>Artistic Swimming</td>\n",
       "      <td>105</td>\n",
       "      <td>0</td>\n",
       "      <td>105</td>\n",
       "    </tr>\n",
       "    <tr>\n",
       "      <th>4</th>\n",
       "      <td>Athletics</td>\n",
       "      <td>969</td>\n",
       "      <td>1072</td>\n",
       "      <td>2041</td>\n",
       "    </tr>\n",
       "    <tr>\n",
       "      <th>5</th>\n",
       "      <td>Badminton</td>\n",
       "      <td>86</td>\n",
       "      <td>87</td>\n",
       "      <td>173</td>\n",
       "    </tr>\n",
       "    <tr>\n",
       "      <th>6</th>\n",
       "      <td>Baseball/Softball</td>\n",
       "      <td>90</td>\n",
       "      <td>144</td>\n",
       "      <td>234</td>\n",
       "    </tr>\n",
       "    <tr>\n",
       "      <th>7</th>\n",
       "      <td>Basketball</td>\n",
       "      <td>144</td>\n",
       "      <td>144</td>\n",
       "      <td>288</td>\n",
       "    </tr>\n",
       "    <tr>\n",
       "      <th>8</th>\n",
       "      <td>Beach Volleyball</td>\n",
       "      <td>48</td>\n",
       "      <td>48</td>\n",
       "      <td>96</td>\n",
       "    </tr>\n",
       "    <tr>\n",
       "      <th>9</th>\n",
       "      <td>Boxing</td>\n",
       "      <td>102</td>\n",
       "      <td>187</td>\n",
       "      <td>289</td>\n",
       "    </tr>\n",
       "  </tbody>\n",
       "</table>\n",
       "</div>"
      ],
      "text/plain": [
       "            Discipline  Female  Male  Total\n",
       "0       3x3 Basketball      32    32     64\n",
       "1              Archery      64    64    128\n",
       "2  Artistic Gymnastics      98    98    196\n",
       "3    Artistic Swimming     105     0    105\n",
       "4            Athletics     969  1072   2041\n",
       "5            Badminton      86    87    173\n",
       "6    Baseball/Softball      90   144    234\n",
       "7           Basketball     144   144    288\n",
       "8     Beach Volleyball      48    48     96\n",
       "9               Boxing     102   187    289"
      ]
     },
     "execution_count": 169,
     "metadata": {},
     "output_type": "execute_result"
    }
   ],
   "source": [
    "entries_gender.head(10)"
   ]
  },
  {
   "cell_type": "code",
   "execution_count": 170,
   "metadata": {},
   "outputs": [
    {
     "data": {
      "text/plain": [
       "46"
      ]
     },
     "execution_count": 170,
     "metadata": {},
     "output_type": "execute_result"
    }
   ],
   "source": [
    "len(entries_gender)"
   ]
  },
  {
   "cell_type": "code",
   "execution_count": 171,
   "metadata": {},
   "outputs": [
    {
     "data": {
      "application/vnd.plotly.v1+json": {
       "config": {
        "plotlyServerURL": "https://plot.ly"
       },
       "data": [
        {
         "domain": {
          "x": [
           0,
           0.45
          ],
          "y": [
           0.9773156899810964,
           1
          ]
         },
         "hoverinfo": "label+value+percent",
         "labels": [
          "Female",
          "Male"
         ],
         "textinfo": "label+percent",
         "textposition": "inside",
         "type": "pie",
         "values": [
          32,
          32
         ]
        },
        {
         "domain": {
          "x": [
           0.55,
           1
          ],
          "y": [
           0.9773156899810964,
           1
          ]
         },
         "hoverinfo": "label+value+percent",
         "labels": [
          "Female",
          "Male"
         ],
         "textinfo": "label+percent",
         "textposition": "inside",
         "type": "pie",
         "values": [
          64,
          64
         ]
        },
        {
         "domain": {
          "x": [
           0,
           0.45
          ],
          "y": [
           0.9328922495274101,
           0.9555765595463137
          ]
         },
         "hoverinfo": "label+value+percent",
         "labels": [
          "Female",
          "Male"
         ],
         "textinfo": "label+percent",
         "textposition": "inside",
         "type": "pie",
         "values": [
          98,
          98
         ]
        },
        {
         "domain": {
          "x": [
           0.55,
           1
          ],
          "y": [
           0.9328922495274101,
           0.9555765595463137
          ]
         },
         "hoverinfo": "label+value+percent",
         "labels": [
          "Female",
          "Male"
         ],
         "textinfo": "label+percent",
         "textposition": "inside",
         "type": "pie",
         "values": [
          105,
          0
         ]
        },
        {
         "domain": {
          "x": [
           0,
           0.45
          ],
          "y": [
           0.8884688090737239,
           0.9111531190926275
          ]
         },
         "hoverinfo": "label+value+percent",
         "labels": [
          "Female",
          "Male"
         ],
         "textinfo": "label+percent",
         "textposition": "inside",
         "type": "pie",
         "values": [
          969,
          1072
         ]
        },
        {
         "domain": {
          "x": [
           0.55,
           1
          ],
          "y": [
           0.8884688090737239,
           0.9111531190926275
          ]
         },
         "hoverinfo": "label+value+percent",
         "labels": [
          "Female",
          "Male"
         ],
         "textinfo": "label+percent",
         "textposition": "inside",
         "type": "pie",
         "values": [
          86,
          87
         ]
        },
        {
         "domain": {
          "x": [
           0,
           0.45
          ],
          "y": [
           0.8440453686200378,
           0.8667296786389413
          ]
         },
         "hoverinfo": "label+value+percent",
         "labels": [
          "Female",
          "Male"
         ],
         "textinfo": "label+percent",
         "textposition": "inside",
         "type": "pie",
         "values": [
          90,
          144
         ]
        },
        {
         "domain": {
          "x": [
           0.55,
           1
          ],
          "y": [
           0.8440453686200378,
           0.8667296786389413
          ]
         },
         "hoverinfo": "label+value+percent",
         "labels": [
          "Female",
          "Male"
         ],
         "textinfo": "label+percent",
         "textposition": "inside",
         "type": "pie",
         "values": [
          144,
          144
         ]
        },
        {
         "domain": {
          "x": [
           0,
           0.45
          ],
          "y": [
           0.7996219281663515,
           0.8223062381852551
          ]
         },
         "hoverinfo": "label+value+percent",
         "labels": [
          "Female",
          "Male"
         ],
         "textinfo": "label+percent",
         "textposition": "inside",
         "type": "pie",
         "values": [
          48,
          48
         ]
        },
        {
         "domain": {
          "x": [
           0.55,
           1
          ],
          "y": [
           0.7996219281663515,
           0.8223062381852551
          ]
         },
         "hoverinfo": "label+value+percent",
         "labels": [
          "Female",
          "Male"
         ],
         "textinfo": "label+percent",
         "textposition": "inside",
         "type": "pie",
         "values": [
          102,
          187
         ]
        },
        {
         "domain": {
          "x": [
           0,
           0.45
          ],
          "y": [
           0.7551984877126654,
           0.777882797731569
          ]
         },
         "hoverinfo": "label+value+percent",
         "labels": [
          "Female",
          "Male"
         ],
         "textinfo": "label+percent",
         "textposition": "inside",
         "type": "pie",
         "values": [
          41,
          41
         ]
        },
        {
         "domain": {
          "x": [
           0.55,
           1
          ],
          "y": [
           0.7551984877126654,
           0.777882797731569
          ]
         },
         "hoverinfo": "label+value+percent",
         "labels": [
          "Female",
          "Male"
         ],
         "textinfo": "label+percent",
         "textposition": "inside",
         "type": "pie",
         "values": [
          123,
          126
         ]
        },
        {
         "domain": {
          "x": [
           0,
           0.45
          ],
          "y": [
           0.7107750472589791,
           0.7334593572778827
          ]
         },
         "hoverinfo": "label+value+percent",
         "labels": [
          "Female",
          "Male"
         ],
         "textinfo": "label+percent",
         "textposition": "inside",
         "type": "pie",
         "values": [
          10,
          9
         ]
        },
        {
         "domain": {
          "x": [
           0.55,
           1
          ],
          "y": [
           0.7107750472589791,
           0.7334593572778827
          ]
         },
         "hoverinfo": "label+value+percent",
         "labels": [
          "Female",
          "Male"
         ],
         "textinfo": "label+percent",
         "textposition": "inside",
         "type": "pie",
         "values": [
          24,
          24
         ]
        },
        {
         "domain": {
          "x": [
           0,
           0.45
          ],
          "y": [
           0.666351606805293,
           0.6890359168241966
          ]
         },
         "hoverinfo": "label+value+percent",
         "labels": [
          "Female",
          "Male"
         ],
         "textinfo": "label+percent",
         "textposition": "inside",
         "type": "pie",
         "values": [
          38,
          38
         ]
        },
        {
         "domain": {
          "x": [
           0.55,
           1
          ],
          "y": [
           0.666351606805293,
           0.6890359168241966
          ]
         },
         "hoverinfo": "label+value+percent",
         "labels": [
          "Female",
          "Male"
         ],
         "textinfo": "label+percent",
         "textposition": "inside",
         "type": "pie",
         "values": [
          70,
          131
         ]
        },
        {
         "domain": {
          "x": [
           0,
           0.45
          ],
          "y": [
           0.6219281663516067,
           0.6446124763705103
          ]
         },
         "hoverinfo": "label+value+percent",
         "labels": [
          "Female",
          "Male"
         ],
         "textinfo": "label+percent",
         "textposition": "inside",
         "type": "pie",
         "values": [
          90,
          99
         ]
        },
        {
         "domain": {
          "x": [
           0.55,
           1
          ],
          "y": [
           0.6219281663516067,
           0.6446124763705103
          ]
         },
         "hoverinfo": "label+value+percent",
         "labels": [
          "Female",
          "Male"
         ],
         "textinfo": "label+percent",
         "textposition": "inside",
         "type": "pie",
         "values": [
          72,
          71
         ]
        },
        {
         "domain": {
          "x": [
           0,
           0.45
          ],
          "y": [
           0.5775047258979206,
           0.6001890359168242
          ]
         },
         "hoverinfo": "label+value+percent",
         "labels": [
          "Female",
          "Male"
         ],
         "textinfo": "label+percent",
         "textposition": "inside",
         "type": "pie",
         "values": [
          73,
          125
         ]
        },
        {
         "domain": {
          "x": [
           0.55,
           1
          ],
          "y": [
           0.5775047258979206,
           0.6001890359168242
          ]
         },
         "hoverinfo": "label+value+percent",
         "labels": [
          "Female",
          "Male"
         ],
         "textinfo": "label+percent",
         "textposition": "inside",
         "type": "pie",
         "values": [
          107,
          108
         ]
        },
        {
         "domain": {
          "x": [
           0,
           0.45
          ],
          "y": [
           0.5330812854442344,
           0.555765595463138
          ]
         },
         "hoverinfo": "label+value+percent",
         "labels": [
          "Female",
          "Male"
         ],
         "textinfo": "label+percent",
         "textposition": "inside",
         "type": "pie",
         "values": [
          264,
          344
         ]
        },
        {
         "domain": {
          "x": [
           0.55,
           1
          ],
          "y": [
           0.5330812854442344,
           0.555765595463138
          ]
         },
         "hoverinfo": "label+value+percent",
         "labels": [
          "Female",
          "Male"
         ],
         "textinfo": "label+percent",
         "textposition": "inside",
         "type": "pie",
         "values": [
          60,
          60
         ]
        },
        {
         "domain": {
          "x": [
           0,
           0.45
          ],
          "y": [
           0.4886578449905482,
           0.5113421550094518
          ]
         },
         "hoverinfo": "label+value+percent",
         "labels": [
          "Female",
          "Male"
         ],
         "textinfo": "label+percent",
         "textposition": "inside",
         "type": "pie",
         "values": [
          168,
          168
         ]
        },
        {
         "domain": {
          "x": [
           0.55,
           1
          ],
          "y": [
           0.4886578449905482,
           0.5113421550094518
          ]
         },
         "hoverinfo": "label+value+percent",
         "labels": [
          "Female",
          "Male"
         ],
         "textinfo": "label+percent",
         "textposition": "inside",
         "type": "pie",
         "values": [
          192,
          192
         ]
        },
        {
         "domain": {
          "x": [
           0,
           0.45
          ],
          "y": [
           0.44423440453686197,
           0.46691871455576556
          ]
         },
         "hoverinfo": "label+value+percent",
         "labels": [
          "Female",
          "Male"
         ],
         "textinfo": "label+percent",
         "textposition": "inside",
         "type": "pie",
         "values": [
          192,
          201
         ]
        },
        {
         "domain": {
          "x": [
           0.55,
           1
          ],
          "y": [
           0.44423440453686197,
           0.46691871455576556
          ]
         },
         "hoverinfo": "label+value+percent",
         "labels": [
          "Female",
          "Male"
         ],
         "textinfo": "label+percent",
         "textposition": "inside",
         "type": "pie",
         "values": [
          40,
          42
         ]
        },
        {
         "domain": {
          "x": [
           0,
           0.45
          ],
          "y": [
           0.39981096408317573,
           0.4224952741020793
          ]
         },
         "hoverinfo": "label+value+percent",
         "labels": [
          "Female",
          "Male"
         ],
         "textinfo": "label+percent",
         "textposition": "inside",
         "type": "pie",
         "values": [
          25,
          25
         ]
        },
        {
         "domain": {
          "x": [
           0.55,
           1
          ],
          "y": [
           0.39981096408317573,
           0.4224952741020793
          ]
         },
         "hoverinfo": "label+value+percent",
         "labels": [
          "Female",
          "Male"
         ],
         "textinfo": "label+percent",
         "textposition": "inside",
         "type": "pie",
         "values": [
          36,
          36
         ]
        },
        {
         "domain": {
          "x": [
           0,
           0.45
          ],
          "y": [
           0.35538752362948955,
           0.37807183364839314
          ]
         },
         "hoverinfo": "label+value+percent",
         "labels": [
          "Female",
          "Male"
         ],
         "textinfo": "label+percent",
         "textposition": "inside",
         "type": "pie",
         "values": [
          96,
          0
         ]
        },
        {
         "domain": {
          "x": [
           0.55,
           1
          ],
          "y": [
           0.35538752362948955,
           0.37807183364839314
          ]
         },
         "hoverinfo": "label+value+percent",
         "labels": [
          "Female",
          "Male"
         ],
         "textinfo": "label+percent",
         "textposition": "inside",
         "type": "pie",
         "values": [
          257,
          265
         ]
        },
        {
         "domain": {
          "x": [
           0,
           0.45
          ],
          "y": [
           0.3109640831758034,
           0.33364839319470696
          ]
         },
         "hoverinfo": "label+value+percent",
         "labels": [
          "Female",
          "Male"
         ],
         "textinfo": "label+percent",
         "textposition": "inside",
         "type": "pie",
         "values": [
          146,
          151
         ]
        },
        {
         "domain": {
          "x": [
           0.55,
           1
          ],
          "y": [
           0.3109640831758034,
           0.33364839319470696
          ]
         },
         "hoverinfo": "label+value+percent",
         "labels": [
          "Female",
          "Male"
         ],
         "textinfo": "label+percent",
         "textposition": "inside",
         "type": "pie",
         "values": [
          175,
          175
         ]
        },
        {
         "domain": {
          "x": [
           0,
           0.45
          ],
          "y": [
           0.2665406427221172,
           0.2892249527410208
          ]
         },
         "hoverinfo": "label+value+percent",
         "labels": [
          "Female",
          "Male"
         ],
         "textinfo": "label+percent",
         "textposition": "inside",
         "type": "pie",
         "values": [
          178,
          178
         ]
        },
        {
         "domain": {
          "x": [
           0.55,
           1
          ],
          "y": [
           0.2665406427221172,
           0.2892249527410208
          ]
         },
         "hoverinfo": "label+value+percent",
         "labels": [
          "Female",
          "Male"
         ],
         "textinfo": "label+percent",
         "textposition": "inside",
         "type": "pie",
         "values": [
          40,
          40
         ]
        },
        {
         "domain": {
          "x": [
           0,
           0.45
          ],
          "y": [
           0.22211720226843099,
           0.24480151228733457
          ]
         },
         "hoverinfo": "label+value+percent",
         "labels": [
          "Female",
          "Male"
         ],
         "textinfo": "label+percent",
         "textposition": "inside",
         "type": "pie",
         "values": [
          20,
          20
         ]
        },
        {
         "domain": {
          "x": [
           0.55,
           1
          ],
          "y": [
           0.22211720226843099,
           0.24480151228733457
          ]
         },
         "hoverinfo": "label+value+percent",
         "labels": [
          "Female",
          "Male"
         ],
         "textinfo": "label+percent",
         "textposition": "inside",
         "type": "pie",
         "values": [
          20,
          20
         ]
        },
        {
         "domain": {
          "x": [
           0,
           0.45
          ],
          "y": [
           0.17769376181474478,
           0.20037807183364836
          ]
         },
         "hoverinfo": "label+value+percent",
         "labels": [
          "Female",
          "Male"
         ],
         "textinfo": "label+percent",
         "textposition": "inside",
         "type": "pie",
         "values": [
          361,
          418
         ]
        },
        {
         "domain": {
          "x": [
           0.55,
           1
          ],
          "y": [
           0.17769376181474478,
           0.20037807183364836
          ]
         },
         "hoverinfo": "label+value+percent",
         "labels": [
          "Female",
          "Male"
         ],
         "textinfo": "label+percent",
         "textposition": "inside",
         "type": "pie",
         "values": [
          86,
          86
         ]
        },
        {
         "domain": {
          "x": [
           0,
           0.45
          ],
          "y": [
           0.1332703213610586,
           0.15595463137996218
          ]
         },
         "hoverinfo": "label+value+percent",
         "labels": [
          "Female",
          "Male"
         ],
         "textinfo": "label+percent",
         "textposition": "inside",
         "type": "pie",
         "values": [
          65,
          65
         ]
        },
        {
         "domain": {
          "x": [
           0.55,
           1
          ],
          "y": [
           0.1332703213610586,
           0.15595463137996218
          ]
         },
         "hoverinfo": "label+value+percent",
         "labels": [
          "Female",
          "Male"
         ],
         "textinfo": "label+percent",
         "textposition": "inside",
         "type": "pie",
         "values": [
          94,
          97
         ]
        },
        {
         "domain": {
          "x": [
           0,
           0.45
          ],
          "y": [
           0.08884688090737239,
           0.11153119092627597
          ]
         },
         "hoverinfo": "label+value+percent",
         "labels": [
          "Female",
          "Male"
         ],
         "textinfo": "label+percent",
         "textposition": "inside",
         "type": "pie",
         "values": [
          16,
          16
         ]
        },
        {
         "domain": {
          "x": [
           0.55,
           1
          ],
          "y": [
           0.08884688090737239,
           0.11153119092627597
          ]
         },
         "hoverinfo": "label+value+percent",
         "labels": [
          "Female",
          "Male"
         ],
         "textinfo": "label+percent",
         "textposition": "inside",
         "type": "pie",
         "values": [
          55,
          55
         ]
        },
        {
         "domain": {
          "x": [
           0,
           0.45
          ],
          "y": [
           0.044423440453686194,
           0.06710775047258978
          ]
         },
         "hoverinfo": "label+value+percent",
         "labels": [
          "Female",
          "Male"
         ],
         "textinfo": "label+percent",
         "textposition": "inside",
         "type": "pie",
         "values": [
          144,
          144
         ]
        },
        {
         "domain": {
          "x": [
           0.55,
           1
          ],
          "y": [
           0.044423440453686194,
           0.06710775047258978
          ]
         },
         "hoverinfo": "label+value+percent",
         "labels": [
          "Female",
          "Male"
         ],
         "textinfo": "label+percent",
         "textposition": "inside",
         "type": "pie",
         "values": [
          122,
          146
         ]
        },
        {
         "domain": {
          "x": [
           0,
           0.45
          ],
          "y": [
           0,
           0.02268431001890359
          ]
         },
         "hoverinfo": "label+value+percent",
         "labels": [
          "Female",
          "Male"
         ],
         "textinfo": "label+percent",
         "textposition": "inside",
         "type": "pie",
         "values": [
          98,
          99
         ]
        },
        {
         "domain": {
          "x": [
           0.55,
           1
          ],
          "y": [
           0,
           0.02268431001890359
          ]
         },
         "hoverinfo": "label+value+percent",
         "labels": [
          "Female",
          "Male"
         ],
         "textinfo": "label+percent",
         "textposition": "inside",
         "type": "pie",
         "values": [
          96,
          193
         ]
        }
       ],
       "layout": {
        "annotations": [
         {
          "font": {
           "size": 16
          },
          "showarrow": false,
          "text": "3x3 Basketball",
          "x": 0.225,
          "xanchor": "center",
          "xref": "paper",
          "y": 1,
          "yanchor": "bottom",
          "yref": "paper"
         },
         {
          "font": {
           "size": 16
          },
          "showarrow": false,
          "text": "Archery",
          "x": 0.775,
          "xanchor": "center",
          "xref": "paper",
          "y": 1,
          "yanchor": "bottom",
          "yref": "paper"
         },
         {
          "font": {
           "size": 16
          },
          "showarrow": false,
          "text": "Artistic Gymnastics",
          "x": 0.225,
          "xanchor": "center",
          "xref": "paper",
          "y": 0.9555765595463137,
          "yanchor": "bottom",
          "yref": "paper"
         },
         {
          "font": {
           "size": 16
          },
          "showarrow": false,
          "text": "Artistic Swimming",
          "x": 0.775,
          "xanchor": "center",
          "xref": "paper",
          "y": 0.9555765595463137,
          "yanchor": "bottom",
          "yref": "paper"
         },
         {
          "font": {
           "size": 16
          },
          "showarrow": false,
          "text": "Athletics",
          "x": 0.225,
          "xanchor": "center",
          "xref": "paper",
          "y": 0.9111531190926275,
          "yanchor": "bottom",
          "yref": "paper"
         },
         {
          "font": {
           "size": 16
          },
          "showarrow": false,
          "text": "Badminton",
          "x": 0.775,
          "xanchor": "center",
          "xref": "paper",
          "y": 0.9111531190926275,
          "yanchor": "bottom",
          "yref": "paper"
         },
         {
          "font": {
           "size": 16
          },
          "showarrow": false,
          "text": "Baseball/Softball",
          "x": 0.225,
          "xanchor": "center",
          "xref": "paper",
          "y": 0.8667296786389413,
          "yanchor": "bottom",
          "yref": "paper"
         },
         {
          "font": {
           "size": 16
          },
          "showarrow": false,
          "text": "Basketball",
          "x": 0.775,
          "xanchor": "center",
          "xref": "paper",
          "y": 0.8667296786389413,
          "yanchor": "bottom",
          "yref": "paper"
         },
         {
          "font": {
           "size": 16
          },
          "showarrow": false,
          "text": "Beach Volleyball",
          "x": 0.225,
          "xanchor": "center",
          "xref": "paper",
          "y": 0.8223062381852551,
          "yanchor": "bottom",
          "yref": "paper"
         },
         {
          "font": {
           "size": 16
          },
          "showarrow": false,
          "text": "Boxing",
          "x": 0.775,
          "xanchor": "center",
          "xref": "paper",
          "y": 0.8223062381852551,
          "yanchor": "bottom",
          "yref": "paper"
         },
         {
          "font": {
           "size": 16
          },
          "showarrow": false,
          "text": "Canoe Slalom",
          "x": 0.225,
          "xanchor": "center",
          "xref": "paper",
          "y": 0.777882797731569,
          "yanchor": "bottom",
          "yref": "paper"
         },
         {
          "font": {
           "size": 16
          },
          "showarrow": false,
          "text": "Canoe Sprint",
          "x": 0.775,
          "xanchor": "center",
          "xref": "paper",
          "y": 0.777882797731569,
          "yanchor": "bottom",
          "yref": "paper"
         },
         {
          "font": {
           "size": 16
          },
          "showarrow": false,
          "text": "Cycling BMX Freestyle",
          "x": 0.225,
          "xanchor": "center",
          "xref": "paper",
          "y": 0.7334593572778827,
          "yanchor": "bottom",
          "yref": "paper"
         },
         {
          "font": {
           "size": 16
          },
          "showarrow": false,
          "text": "Cycling BMX Racing",
          "x": 0.775,
          "xanchor": "center",
          "xref": "paper",
          "y": 0.7334593572778827,
          "yanchor": "bottom",
          "yref": "paper"
         },
         {
          "font": {
           "size": 16
          },
          "showarrow": false,
          "text": "Cycling Mountain Bike",
          "x": 0.225,
          "xanchor": "center",
          "xref": "paper",
          "y": 0.6890359168241966,
          "yanchor": "bottom",
          "yref": "paper"
         },
         {
          "font": {
           "size": 16
          },
          "showarrow": false,
          "text": "Cycling Road",
          "x": 0.775,
          "xanchor": "center",
          "xref": "paper",
          "y": 0.6890359168241966,
          "yanchor": "bottom",
          "yref": "paper"
         },
         {
          "font": {
           "size": 16
          },
          "showarrow": false,
          "text": "Cycling Track",
          "x": 0.225,
          "xanchor": "center",
          "xref": "paper",
          "y": 0.6446124763705103,
          "yanchor": "bottom",
          "yref": "paper"
         },
         {
          "font": {
           "size": 16
          },
          "showarrow": false,
          "text": "Diving",
          "x": 0.775,
          "xanchor": "center",
          "xref": "paper",
          "y": 0.6446124763705103,
          "yanchor": "bottom",
          "yref": "paper"
         },
         {
          "font": {
           "size": 16
          },
          "showarrow": false,
          "text": "Equestrian",
          "x": 0.225,
          "xanchor": "center",
          "xref": "paper",
          "y": 0.6001890359168242,
          "yanchor": "bottom",
          "yref": "paper"
         },
         {
          "font": {
           "size": 16
          },
          "showarrow": false,
          "text": "Fencing",
          "x": 0.775,
          "xanchor": "center",
          "xref": "paper",
          "y": 0.6001890359168242,
          "yanchor": "bottom",
          "yref": "paper"
         },
         {
          "font": {
           "size": 16
          },
          "showarrow": false,
          "text": "Football",
          "x": 0.225,
          "xanchor": "center",
          "xref": "paper",
          "y": 0.555765595463138,
          "yanchor": "bottom",
          "yref": "paper"
         },
         {
          "font": {
           "size": 16
          },
          "showarrow": false,
          "text": "Golf",
          "x": 0.775,
          "xanchor": "center",
          "xref": "paper",
          "y": 0.555765595463138,
          "yanchor": "bottom",
          "yref": "paper"
         },
         {
          "font": {
           "size": 16
          },
          "showarrow": false,
          "text": "Handball",
          "x": 0.225,
          "xanchor": "center",
          "xref": "paper",
          "y": 0.5113421550094518,
          "yanchor": "bottom",
          "yref": "paper"
         },
         {
          "font": {
           "size": 16
          },
          "showarrow": false,
          "text": "Hockey",
          "x": 0.775,
          "xanchor": "center",
          "xref": "paper",
          "y": 0.5113421550094518,
          "yanchor": "bottom",
          "yref": "paper"
         },
         {
          "font": {
           "size": 16
          },
          "showarrow": false,
          "text": "Judo",
          "x": 0.225,
          "xanchor": "center",
          "xref": "paper",
          "y": 0.46691871455576556,
          "yanchor": "bottom",
          "yref": "paper"
         },
         {
          "font": {
           "size": 16
          },
          "showarrow": false,
          "text": "Karate",
          "x": 0.775,
          "xanchor": "center",
          "xref": "paper",
          "y": 0.46691871455576556,
          "yanchor": "bottom",
          "yref": "paper"
         },
         {
          "font": {
           "size": 16
          },
          "showarrow": false,
          "text": "Marathon Swimming",
          "x": 0.225,
          "xanchor": "center",
          "xref": "paper",
          "y": 0.4224952741020793,
          "yanchor": "bottom",
          "yref": "paper"
         },
         {
          "font": {
           "size": 16
          },
          "showarrow": false,
          "text": "Modern Pentathlon",
          "x": 0.775,
          "xanchor": "center",
          "xref": "paper",
          "y": 0.4224952741020793,
          "yanchor": "bottom",
          "yref": "paper"
         },
         {
          "font": {
           "size": 16
          },
          "showarrow": false,
          "text": "Rhythmic Gymnastics",
          "x": 0.225,
          "xanchor": "center",
          "xref": "paper",
          "y": 0.37807183364839314,
          "yanchor": "bottom",
          "yref": "paper"
         },
         {
          "font": {
           "size": 16
          },
          "showarrow": false,
          "text": "Rowing",
          "x": 0.775,
          "xanchor": "center",
          "xref": "paper",
          "y": 0.37807183364839314,
          "yanchor": "bottom",
          "yref": "paper"
         },
         {
          "font": {
           "size": 16
          },
          "showarrow": false,
          "text": "Rugby Sevens",
          "x": 0.225,
          "xanchor": "center",
          "xref": "paper",
          "y": 0.33364839319470696,
          "yanchor": "bottom",
          "yref": "paper"
         },
         {
          "font": {
           "size": 16
          },
          "showarrow": false,
          "text": "Sailing",
          "x": 0.775,
          "xanchor": "center",
          "xref": "paper",
          "y": 0.33364839319470696,
          "yanchor": "bottom",
          "yref": "paper"
         },
         {
          "font": {
           "size": 16
          },
          "showarrow": false,
          "text": "Shooting",
          "x": 0.225,
          "xanchor": "center",
          "xref": "paper",
          "y": 0.2892249527410208,
          "yanchor": "bottom",
          "yref": "paper"
         },
         {
          "font": {
           "size": 16
          },
          "showarrow": false,
          "text": "Skateboarding",
          "x": 0.775,
          "xanchor": "center",
          "xref": "paper",
          "y": 0.2892249527410208,
          "yanchor": "bottom",
          "yref": "paper"
         },
         {
          "font": {
           "size": 16
          },
          "showarrow": false,
          "text": "Sport Climbing",
          "x": 0.225,
          "xanchor": "center",
          "xref": "paper",
          "y": 0.24480151228733457,
          "yanchor": "bottom",
          "yref": "paper"
         },
         {
          "font": {
           "size": 16
          },
          "showarrow": false,
          "text": "Surfing",
          "x": 0.775,
          "xanchor": "center",
          "xref": "paper",
          "y": 0.24480151228733457,
          "yanchor": "bottom",
          "yref": "paper"
         },
         {
          "font": {
           "size": 16
          },
          "showarrow": false,
          "text": "Swimming",
          "x": 0.225,
          "xanchor": "center",
          "xref": "paper",
          "y": 0.20037807183364836,
          "yanchor": "bottom",
          "yref": "paper"
         },
         {
          "font": {
           "size": 16
          },
          "showarrow": false,
          "text": "Table Tennis",
          "x": 0.775,
          "xanchor": "center",
          "xref": "paper",
          "y": 0.20037807183364836,
          "yanchor": "bottom",
          "yref": "paper"
         },
         {
          "font": {
           "size": 16
          },
          "showarrow": false,
          "text": "Taekwondo",
          "x": 0.225,
          "xanchor": "center",
          "xref": "paper",
          "y": 0.15595463137996218,
          "yanchor": "bottom",
          "yref": "paper"
         },
         {
          "font": {
           "size": 16
          },
          "showarrow": false,
          "text": "Tennis",
          "x": 0.775,
          "xanchor": "center",
          "xref": "paper",
          "y": 0.15595463137996218,
          "yanchor": "bottom",
          "yref": "paper"
         },
         {
          "font": {
           "size": 16
          },
          "showarrow": false,
          "text": "Trampoline Gymnastics",
          "x": 0.225,
          "xanchor": "center",
          "xref": "paper",
          "y": 0.11153119092627597,
          "yanchor": "bottom",
          "yref": "paper"
         },
         {
          "font": {
           "size": 16
          },
          "showarrow": false,
          "text": "Triathlon",
          "x": 0.775,
          "xanchor": "center",
          "xref": "paper",
          "y": 0.11153119092627597,
          "yanchor": "bottom",
          "yref": "paper"
         },
         {
          "font": {
           "size": 16
          },
          "showarrow": false,
          "text": "Volleyball",
          "x": 0.225,
          "xanchor": "center",
          "xref": "paper",
          "y": 0.06710775047258978,
          "yanchor": "bottom",
          "yref": "paper"
         },
         {
          "font": {
           "size": 16
          },
          "showarrow": false,
          "text": "Water Polo",
          "x": 0.775,
          "xanchor": "center",
          "xref": "paper",
          "y": 0.06710775047258978,
          "yanchor": "bottom",
          "yref": "paper"
         },
         {
          "font": {
           "size": 16
          },
          "showarrow": false,
          "text": "Weightlifting",
          "x": 0.225,
          "xanchor": "center",
          "xref": "paper",
          "y": 0.02268431001890359,
          "yanchor": "bottom",
          "yref": "paper"
         },
         {
          "font": {
           "size": 16
          },
          "showarrow": false,
          "text": "Wrestling",
          "x": 0.775,
          "xanchor": "center",
          "xref": "paper",
          "y": 0.02268431001890359,
          "yanchor": "bottom",
          "yref": "paper"
         }
        ],
        "height": 7000,
        "showlegend": false,
        "template": {
         "data": {
          "bar": [
           {
            "error_x": {
             "color": "#2a3f5f"
            },
            "error_y": {
             "color": "#2a3f5f"
            },
            "marker": {
             "line": {
              "color": "#E5ECF6",
              "width": 0.5
             },
             "pattern": {
              "fillmode": "overlay",
              "size": 10,
              "solidity": 0.2
             }
            },
            "type": "bar"
           }
          ],
          "barpolar": [
           {
            "marker": {
             "line": {
              "color": "#E5ECF6",
              "width": 0.5
             },
             "pattern": {
              "fillmode": "overlay",
              "size": 10,
              "solidity": 0.2
             }
            },
            "type": "barpolar"
           }
          ],
          "carpet": [
           {
            "aaxis": {
             "endlinecolor": "#2a3f5f",
             "gridcolor": "white",
             "linecolor": "white",
             "minorgridcolor": "white",
             "startlinecolor": "#2a3f5f"
            },
            "baxis": {
             "endlinecolor": "#2a3f5f",
             "gridcolor": "white",
             "linecolor": "white",
             "minorgridcolor": "white",
             "startlinecolor": "#2a3f5f"
            },
            "type": "carpet"
           }
          ],
          "choropleth": [
           {
            "colorbar": {
             "outlinewidth": 0,
             "ticks": ""
            },
            "type": "choropleth"
           }
          ],
          "contour": [
           {
            "colorbar": {
             "outlinewidth": 0,
             "ticks": ""
            },
            "colorscale": [
             [
              0,
              "#0d0887"
             ],
             [
              0.1111111111111111,
              "#46039f"
             ],
             [
              0.2222222222222222,
              "#7201a8"
             ],
             [
              0.3333333333333333,
              "#9c179e"
             ],
             [
              0.4444444444444444,
              "#bd3786"
             ],
             [
              0.5555555555555556,
              "#d8576b"
             ],
             [
              0.6666666666666666,
              "#ed7953"
             ],
             [
              0.7777777777777778,
              "#fb9f3a"
             ],
             [
              0.8888888888888888,
              "#fdca26"
             ],
             [
              1,
              "#f0f921"
             ]
            ],
            "type": "contour"
           }
          ],
          "contourcarpet": [
           {
            "colorbar": {
             "outlinewidth": 0,
             "ticks": ""
            },
            "type": "contourcarpet"
           }
          ],
          "heatmap": [
           {
            "colorbar": {
             "outlinewidth": 0,
             "ticks": ""
            },
            "colorscale": [
             [
              0,
              "#0d0887"
             ],
             [
              0.1111111111111111,
              "#46039f"
             ],
             [
              0.2222222222222222,
              "#7201a8"
             ],
             [
              0.3333333333333333,
              "#9c179e"
             ],
             [
              0.4444444444444444,
              "#bd3786"
             ],
             [
              0.5555555555555556,
              "#d8576b"
             ],
             [
              0.6666666666666666,
              "#ed7953"
             ],
             [
              0.7777777777777778,
              "#fb9f3a"
             ],
             [
              0.8888888888888888,
              "#fdca26"
             ],
             [
              1,
              "#f0f921"
             ]
            ],
            "type": "heatmap"
           }
          ],
          "histogram": [
           {
            "marker": {
             "pattern": {
              "fillmode": "overlay",
              "size": 10,
              "solidity": 0.2
             }
            },
            "type": "histogram"
           }
          ],
          "histogram2d": [
           {
            "colorbar": {
             "outlinewidth": 0,
             "ticks": ""
            },
            "colorscale": [
             [
              0,
              "#0d0887"
             ],
             [
              0.1111111111111111,
              "#46039f"
             ],
             [
              0.2222222222222222,
              "#7201a8"
             ],
             [
              0.3333333333333333,
              "#9c179e"
             ],
             [
              0.4444444444444444,
              "#bd3786"
             ],
             [
              0.5555555555555556,
              "#d8576b"
             ],
             [
              0.6666666666666666,
              "#ed7953"
             ],
             [
              0.7777777777777778,
              "#fb9f3a"
             ],
             [
              0.8888888888888888,
              "#fdca26"
             ],
             [
              1,
              "#f0f921"
             ]
            ],
            "type": "histogram2d"
           }
          ],
          "histogram2dcontour": [
           {
            "colorbar": {
             "outlinewidth": 0,
             "ticks": ""
            },
            "colorscale": [
             [
              0,
              "#0d0887"
             ],
             [
              0.1111111111111111,
              "#46039f"
             ],
             [
              0.2222222222222222,
              "#7201a8"
             ],
             [
              0.3333333333333333,
              "#9c179e"
             ],
             [
              0.4444444444444444,
              "#bd3786"
             ],
             [
              0.5555555555555556,
              "#d8576b"
             ],
             [
              0.6666666666666666,
              "#ed7953"
             ],
             [
              0.7777777777777778,
              "#fb9f3a"
             ],
             [
              0.8888888888888888,
              "#fdca26"
             ],
             [
              1,
              "#f0f921"
             ]
            ],
            "type": "histogram2dcontour"
           }
          ],
          "mesh3d": [
           {
            "colorbar": {
             "outlinewidth": 0,
             "ticks": ""
            },
            "type": "mesh3d"
           }
          ],
          "parcoords": [
           {
            "line": {
             "colorbar": {
              "outlinewidth": 0,
              "ticks": ""
             }
            },
            "type": "parcoords"
           }
          ],
          "pie": [
           {
            "automargin": true,
            "type": "pie"
           }
          ],
          "scatter": [
           {
            "fillpattern": {
             "fillmode": "overlay",
             "size": 10,
             "solidity": 0.2
            },
            "type": "scatter"
           }
          ],
          "scatter3d": [
           {
            "line": {
             "colorbar": {
              "outlinewidth": 0,
              "ticks": ""
             }
            },
            "marker": {
             "colorbar": {
              "outlinewidth": 0,
              "ticks": ""
             }
            },
            "type": "scatter3d"
           }
          ],
          "scattercarpet": [
           {
            "marker": {
             "colorbar": {
              "outlinewidth": 0,
              "ticks": ""
             }
            },
            "type": "scattercarpet"
           }
          ],
          "scattergeo": [
           {
            "marker": {
             "colorbar": {
              "outlinewidth": 0,
              "ticks": ""
             }
            },
            "type": "scattergeo"
           }
          ],
          "scattergl": [
           {
            "marker": {
             "colorbar": {
              "outlinewidth": 0,
              "ticks": ""
             }
            },
            "type": "scattergl"
           }
          ],
          "scattermap": [
           {
            "marker": {
             "colorbar": {
              "outlinewidth": 0,
              "ticks": ""
             }
            },
            "type": "scattermap"
           }
          ],
          "scattermapbox": [
           {
            "marker": {
             "colorbar": {
              "outlinewidth": 0,
              "ticks": ""
             }
            },
            "type": "scattermapbox"
           }
          ],
          "scatterpolar": [
           {
            "marker": {
             "colorbar": {
              "outlinewidth": 0,
              "ticks": ""
             }
            },
            "type": "scatterpolar"
           }
          ],
          "scatterpolargl": [
           {
            "marker": {
             "colorbar": {
              "outlinewidth": 0,
              "ticks": ""
             }
            },
            "type": "scatterpolargl"
           }
          ],
          "scatterternary": [
           {
            "marker": {
             "colorbar": {
              "outlinewidth": 0,
              "ticks": ""
             }
            },
            "type": "scatterternary"
           }
          ],
          "surface": [
           {
            "colorbar": {
             "outlinewidth": 0,
             "ticks": ""
            },
            "colorscale": [
             [
              0,
              "#0d0887"
             ],
             [
              0.1111111111111111,
              "#46039f"
             ],
             [
              0.2222222222222222,
              "#7201a8"
             ],
             [
              0.3333333333333333,
              "#9c179e"
             ],
             [
              0.4444444444444444,
              "#bd3786"
             ],
             [
              0.5555555555555556,
              "#d8576b"
             ],
             [
              0.6666666666666666,
              "#ed7953"
             ],
             [
              0.7777777777777778,
              "#fb9f3a"
             ],
             [
              0.8888888888888888,
              "#fdca26"
             ],
             [
              1,
              "#f0f921"
             ]
            ],
            "type": "surface"
           }
          ],
          "table": [
           {
            "cells": {
             "fill": {
              "color": "#EBF0F8"
             },
             "line": {
              "color": "white"
             }
            },
            "header": {
             "fill": {
              "color": "#C8D4E3"
             },
             "line": {
              "color": "white"
             }
            },
            "type": "table"
           }
          ]
         },
         "layout": {
          "annotationdefaults": {
           "arrowcolor": "#2a3f5f",
           "arrowhead": 0,
           "arrowwidth": 1
          },
          "autotypenumbers": "strict",
          "coloraxis": {
           "colorbar": {
            "outlinewidth": 0,
            "ticks": ""
           }
          },
          "colorscale": {
           "diverging": [
            [
             0,
             "#8e0152"
            ],
            [
             0.1,
             "#c51b7d"
            ],
            [
             0.2,
             "#de77ae"
            ],
            [
             0.3,
             "#f1b6da"
            ],
            [
             0.4,
             "#fde0ef"
            ],
            [
             0.5,
             "#f7f7f7"
            ],
            [
             0.6,
             "#e6f5d0"
            ],
            [
             0.7,
             "#b8e186"
            ],
            [
             0.8,
             "#7fbc41"
            ],
            [
             0.9,
             "#4d9221"
            ],
            [
             1,
             "#276419"
            ]
           ],
           "sequential": [
            [
             0,
             "#0d0887"
            ],
            [
             0.1111111111111111,
             "#46039f"
            ],
            [
             0.2222222222222222,
             "#7201a8"
            ],
            [
             0.3333333333333333,
             "#9c179e"
            ],
            [
             0.4444444444444444,
             "#bd3786"
            ],
            [
             0.5555555555555556,
             "#d8576b"
            ],
            [
             0.6666666666666666,
             "#ed7953"
            ],
            [
             0.7777777777777778,
             "#fb9f3a"
            ],
            [
             0.8888888888888888,
             "#fdca26"
            ],
            [
             1,
             "#f0f921"
            ]
           ],
           "sequentialminus": [
            [
             0,
             "#0d0887"
            ],
            [
             0.1111111111111111,
             "#46039f"
            ],
            [
             0.2222222222222222,
             "#7201a8"
            ],
            [
             0.3333333333333333,
             "#9c179e"
            ],
            [
             0.4444444444444444,
             "#bd3786"
            ],
            [
             0.5555555555555556,
             "#d8576b"
            ],
            [
             0.6666666666666666,
             "#ed7953"
            ],
            [
             0.7777777777777778,
             "#fb9f3a"
            ],
            [
             0.8888888888888888,
             "#fdca26"
            ],
            [
             1,
             "#f0f921"
            ]
           ]
          },
          "colorway": [
           "#636efa",
           "#EF553B",
           "#00cc96",
           "#ab63fa",
           "#FFA15A",
           "#19d3f3",
           "#FF6692",
           "#B6E880",
           "#FF97FF",
           "#FECB52"
          ],
          "font": {
           "color": "#2a3f5f"
          },
          "geo": {
           "bgcolor": "white",
           "lakecolor": "white",
           "landcolor": "#E5ECF6",
           "showlakes": true,
           "showland": true,
           "subunitcolor": "white"
          },
          "hoverlabel": {
           "align": "left"
          },
          "hovermode": "closest",
          "mapbox": {
           "style": "light"
          },
          "paper_bgcolor": "white",
          "plot_bgcolor": "#E5ECF6",
          "polar": {
           "angularaxis": {
            "gridcolor": "white",
            "linecolor": "white",
            "ticks": ""
           },
           "bgcolor": "#E5ECF6",
           "radialaxis": {
            "gridcolor": "white",
            "linecolor": "white",
            "ticks": ""
           }
          },
          "scene": {
           "xaxis": {
            "backgroundcolor": "#E5ECF6",
            "gridcolor": "white",
            "gridwidth": 2,
            "linecolor": "white",
            "showbackground": true,
            "ticks": "",
            "zerolinecolor": "white"
           },
           "yaxis": {
            "backgroundcolor": "#E5ECF6",
            "gridcolor": "white",
            "gridwidth": 2,
            "linecolor": "white",
            "showbackground": true,
            "ticks": "",
            "zerolinecolor": "white"
           },
           "zaxis": {
            "backgroundcolor": "#E5ECF6",
            "gridcolor": "white",
            "gridwidth": 2,
            "linecolor": "white",
            "showbackground": true,
            "ticks": "",
            "zerolinecolor": "white"
           }
          },
          "shapedefaults": {
           "line": {
            "color": "#2a3f5f"
           }
          },
          "ternary": {
           "aaxis": {
            "gridcolor": "white",
            "linecolor": "white",
            "ticks": ""
           },
           "baxis": {
            "gridcolor": "white",
            "linecolor": "white",
            "ticks": ""
           },
           "bgcolor": "#E5ECF6",
           "caxis": {
            "gridcolor": "white",
            "linecolor": "white",
            "ticks": ""
           }
          },
          "title": {
           "x": 0.05
          },
          "xaxis": {
           "automargin": true,
           "gridcolor": "white",
           "linecolor": "white",
           "ticks": "",
           "title": {
            "standoff": 15
           },
           "zerolinecolor": "white",
           "zerolinewidth": 2
          },
          "yaxis": {
           "automargin": true,
           "gridcolor": "white",
           "linecolor": "white",
           "ticks": "",
           "title": {
            "standoff": 15
           },
           "zerolinecolor": "white",
           "zerolinewidth": 2
          }
         }
        },
        "title": {
         "text": "Distribution of Gender amongst each game"
        },
        "width": 600
       }
      }
     },
     "metadata": {},
     "output_type": "display_data"
    }
   ],
   "source": [
    "from plotly.subplots import make_subplots\n",
    "import plotly.graph_objects as go\n",
    "\n",
    "specs = [[{'type':'domain'}, {'type':'domain'}]]*23\n",
    "\n",
    "fig =  make_subplots(rows=23, cols=2, specs=specs, subplot_titles=entries_gender['Discipline'])\n",
    "sub_figs = []\n",
    "for index,row in entries_gender.iterrows():\n",
    "    sub_fig = go.Pie(labels=['Female','Male'],values=[row['Female'],row['Male']])\n",
    "    sub_figs.append(sub_fig)\n",
    "    \n",
    "k = 0\n",
    "for i in range(1,24):\n",
    "    for j in range(1,3):\n",
    "        fig.add_trace(sub_figs[k],row=i,col=j)\n",
    "        k+=1\n",
    "\n",
    "fig.update_layout(showlegend=False, height=7000, width=600, title_text=\"Distribution of Gender amongst each game\")\n",
    "fig.update_traces(textposition='inside', textinfo='label+percent', hoverinfo='label+value+percent')\n",
    "\n",
    "fig = go.Figure(fig)\n",
    "fig.show()"
   ]
  },
  {
   "cell_type": "code",
   "execution_count": 172,
   "metadata": {},
   "outputs": [
    {
     "data": {
      "text/html": [
       "<div>\n",
       "<style scoped>\n",
       "    .dataframe tbody tr th:only-of-type {\n",
       "        vertical-align: middle;\n",
       "    }\n",
       "\n",
       "    .dataframe tbody tr th {\n",
       "        vertical-align: top;\n",
       "    }\n",
       "\n",
       "    .dataframe thead th {\n",
       "        text-align: right;\n",
       "    }\n",
       "</style>\n",
       "<table border=\"1\" class=\"dataframe\">\n",
       "  <thead>\n",
       "    <tr style=\"text-align: right;\">\n",
       "      <th></th>\n",
       "      <th>Name</th>\n",
       "      <th>Discipline</th>\n",
       "      <th>NOC</th>\n",
       "      <th>Event</th>\n",
       "    </tr>\n",
       "  </thead>\n",
       "  <tbody>\n",
       "    <tr>\n",
       "      <th>0</th>\n",
       "      <td>Belgium</td>\n",
       "      <td>3x3 Basketball</td>\n",
       "      <td>Belgium</td>\n",
       "      <td>Men</td>\n",
       "    </tr>\n",
       "    <tr>\n",
       "      <th>1</th>\n",
       "      <td>China</td>\n",
       "      <td>3x3 Basketball</td>\n",
       "      <td>People's Republic of China</td>\n",
       "      <td>Men</td>\n",
       "    </tr>\n",
       "    <tr>\n",
       "      <th>2</th>\n",
       "      <td>China</td>\n",
       "      <td>3x3 Basketball</td>\n",
       "      <td>People's Republic of China</td>\n",
       "      <td>Women</td>\n",
       "    </tr>\n",
       "    <tr>\n",
       "      <th>3</th>\n",
       "      <td>France</td>\n",
       "      <td>3x3 Basketball</td>\n",
       "      <td>France</td>\n",
       "      <td>Women</td>\n",
       "    </tr>\n",
       "    <tr>\n",
       "      <th>4</th>\n",
       "      <td>Italy</td>\n",
       "      <td>3x3 Basketball</td>\n",
       "      <td>Italy</td>\n",
       "      <td>Women</td>\n",
       "    </tr>\n",
       "  </tbody>\n",
       "</table>\n",
       "</div>"
      ],
      "text/plain": [
       "      Name      Discipline                         NOC  Event\n",
       "0  Belgium  3x3 Basketball                     Belgium    Men\n",
       "1    China  3x3 Basketball  People's Republic of China    Men\n",
       "2    China  3x3 Basketball  People's Republic of China  Women\n",
       "3   France  3x3 Basketball                      France  Women\n",
       "4    Italy  3x3 Basketball                       Italy  Women"
      ]
     },
     "execution_count": 172,
     "metadata": {},
     "output_type": "execute_result"
    }
   ],
   "source": [
    "teams.head()"
   ]
  }
 ],
 "metadata": {
  "kernelspec": {
   "display_name": ".venv",
   "language": "python",
   "name": "python3"
  },
  "language_info": {
   "codemirror_mode": {
    "name": "ipython",
    "version": 3
   },
   "file_extension": ".py",
   "mimetype": "text/x-python",
   "name": "python",
   "nbconvert_exporter": "python",
   "pygments_lexer": "ipython3",
   "version": "3.13.1"
  }
 },
 "nbformat": 4,
 "nbformat_minor": 2
}
